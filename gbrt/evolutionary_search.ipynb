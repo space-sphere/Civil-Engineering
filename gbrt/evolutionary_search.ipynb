{
 "cells": [
  {
   "cell_type": "code",
   "execution_count": 1,
   "id": "initial_id",
   "metadata": {
    "collapsed": true,
    "ExecuteTime": {
     "end_time": "2024-01-29T09:07:02.256878700Z",
     "start_time": "2024-01-29T09:07:01.005401900Z"
    }
   },
   "outputs": [],
   "source": [
    "from sklearn.ensemble import GradientBoostingClassifier\n",
    "from sklearn.model_selection import cross_val_score\n",
    "import numpy as np\n",
    "import pandas as pd\n",
    "import warnings\n",
    "from evolutionary_search import EvolutionaryAlgorithmSearchCV\n",
    "from sklearn.model_selection import StratifiedKFold\n",
    "\n",
    "warnings.filterwarnings('ignore')\n",
    "df = pd.read_csv(r\"D:\\program\\pycharm\\model\\Data\\out.csv\")\n",
    "X = df.iloc[:, 1:]\n",
    "y = df.iloc[:, 0]"
   ]
  },
  {
   "cell_type": "code",
   "outputs": [
    {
     "name": "stdout",
     "output_type": "stream",
     "text": [
      "Types [1, 1, 1, 2, 1, 2] and maxint [19, 9, 9, 9, 9, 19] detected\n",
      "--- Evolve in 4000000 possible combinations ---\n"
     ]
    },
    {
     "ename": "KeyboardInterrupt",
     "evalue": "",
     "output_type": "error",
     "traceback": [
      "\u001B[1;31m---------------------------------------------------------------------------\u001B[0m",
      "\u001B[1;31mKeyboardInterrupt\u001B[0m                         Traceback (most recent call last)",
      "Cell \u001B[1;32mIn[2], line 26\u001B[0m\n\u001B[0;32m     13\u001B[0m clf \u001B[38;5;241m=\u001B[39m GradientBoostingClassifier(\u001B[38;5;241m*\u001B[39m\u001B[38;5;241m*\u001B[39mparams)\n\u001B[0;32m     14\u001B[0m cv \u001B[38;5;241m=\u001B[39m EvolutionaryAlgorithmSearchCV(estimator\u001B[38;5;241m=\u001B[39mclf,\n\u001B[0;32m     15\u001B[0m                                    params\u001B[38;5;241m=\u001B[39mparamgrid,\n\u001B[0;32m     16\u001B[0m                                    scoring\u001B[38;5;241m=\u001B[39m\u001B[38;5;124m'\u001B[39m\u001B[38;5;124maccuracy\u001B[39m\u001B[38;5;124m'\u001B[39m,\n\u001B[1;32m   (...)\u001B[0m\n\u001B[0;32m     24\u001B[0m                                    n_jobs\u001B[38;5;241m=\u001B[39m\u001B[38;5;241m4\u001B[39m\n\u001B[0;32m     25\u001B[0m                                 )\n\u001B[1;32m---> 26\u001B[0m \u001B[43mcv\u001B[49m\u001B[38;5;241;43m.\u001B[39;49m\u001B[43mfit\u001B[49m\u001B[43m(\u001B[49m\u001B[43mX\u001B[49m\u001B[43m,\u001B[49m\u001B[43m \u001B[49m\u001B[43my\u001B[49m\u001B[43m)\u001B[49m\n",
      "File \u001B[1;32mD:\\program\\navigator\\envs\\Tf\\lib\\site-packages\\evolutionary_search\\cv.py:421\u001B[0m, in \u001B[0;36mEvolutionaryAlgorithmSearchCV.fit\u001B[1;34m(self, X, y)\u001B[0m\n\u001B[0;32m    417\u001B[0m \u001B[38;5;28;01mfor\u001B[39;00m possible_params \u001B[38;5;129;01min\u001B[39;00m \u001B[38;5;28mself\u001B[39m\u001B[38;5;241m.\u001B[39mpossible_params:\n\u001B[0;32m    418\u001B[0m     \u001B[38;5;66;03m# 此处改动\u001B[39;00m\n\u001B[0;32m    419\u001B[0m     \u001B[38;5;66;03m# _check_param_grid(possible_params)\u001B[39;00m\n\u001B[0;32m    420\u001B[0m     _check_param_grid(X\u001B[38;5;241m=\u001B[39mX, fit_params\u001B[38;5;241m=\u001B[39mpossible_params)\n\u001B[1;32m--> 421\u001B[0m     \u001B[38;5;28;43mself\u001B[39;49m\u001B[38;5;241;43m.\u001B[39;49m\u001B[43m_fit\u001B[49m\u001B[43m(\u001B[49m\u001B[43mX\u001B[49m\u001B[43m,\u001B[49m\u001B[43m \u001B[49m\u001B[43my\u001B[49m\u001B[43m,\u001B[49m\u001B[43m \u001B[49m\u001B[43mpossible_params\u001B[49m\u001B[43m)\u001B[49m\n\u001B[0;32m    422\u001B[0m \u001B[38;5;28;01mif\u001B[39;00m \u001B[38;5;28mself\u001B[39m\u001B[38;5;241m.\u001B[39mrefit:\n\u001B[0;32m    423\u001B[0m     \u001B[38;5;28mself\u001B[39m\u001B[38;5;241m.\u001B[39mbest_estimator_ \u001B[38;5;241m=\u001B[39m clone(\u001B[38;5;28mself\u001B[39m\u001B[38;5;241m.\u001B[39mestimator)\n",
      "File \u001B[1;32mD:\\program\\navigator\\envs\\Tf\\lib\\site-packages\\evolutionary_search\\cv.py:541\u001B[0m, in \u001B[0;36mEvolutionaryAlgorithmSearchCV._fit\u001B[1;34m(self, X, y, parameter_dict)\u001B[0m\n\u001B[0;32m    534\u001B[0m \u001B[38;5;28;01mif\u001B[39;00m \u001B[38;5;28mself\u001B[39m\u001B[38;5;241m.\u001B[39mverbose:\n\u001B[0;32m    535\u001B[0m     \u001B[38;5;28mprint\u001B[39m(\n\u001B[0;32m    536\u001B[0m         \u001B[38;5;124m\"\u001B[39m\u001B[38;5;124m--- Evolve in \u001B[39m\u001B[38;5;132;01m{0}\u001B[39;00m\u001B[38;5;124m possible combinations ---\u001B[39m\u001B[38;5;124m\"\u001B[39m\u001B[38;5;241m.\u001B[39mformat(\n\u001B[0;32m    537\u001B[0m             np\u001B[38;5;241m.\u001B[39mprod(np\u001B[38;5;241m.\u001B[39marray(maxints) \u001B[38;5;241m+\u001B[39m \u001B[38;5;241m1\u001B[39m)\n\u001B[0;32m    538\u001B[0m         )\n\u001B[0;32m    539\u001B[0m     )\n\u001B[1;32m--> 541\u001B[0m pop, logbook \u001B[38;5;241m=\u001B[39m \u001B[43malgorithms\u001B[49m\u001B[38;5;241;43m.\u001B[39;49m\u001B[43meaSimple\u001B[49m\u001B[43m(\u001B[49m\n\u001B[0;32m    542\u001B[0m \u001B[43m    \u001B[49m\u001B[43mpop\u001B[49m\u001B[43m,\u001B[49m\n\u001B[0;32m    543\u001B[0m \u001B[43m    \u001B[49m\u001B[43mtoolbox\u001B[49m\u001B[43m,\u001B[49m\n\u001B[0;32m    544\u001B[0m \u001B[43m    \u001B[49m\u001B[43mcxpb\u001B[49m\u001B[38;5;241;43m=\u001B[39;49m\u001B[38;5;241;43m0.5\u001B[39;49m\u001B[43m,\u001B[49m\n\u001B[0;32m    545\u001B[0m \u001B[43m    \u001B[49m\u001B[43mmutpb\u001B[49m\u001B[38;5;241;43m=\u001B[39;49m\u001B[38;5;241;43m0.2\u001B[39;49m\u001B[43m,\u001B[49m\n\u001B[0;32m    546\u001B[0m \u001B[43m    \u001B[49m\u001B[43mngen\u001B[49m\u001B[38;5;241;43m=\u001B[39;49m\u001B[38;5;28;43mself\u001B[39;49m\u001B[38;5;241;43m.\u001B[39;49m\u001B[43mgenerations_number\u001B[49m\u001B[43m,\u001B[49m\n\u001B[0;32m    547\u001B[0m \u001B[43m    \u001B[49m\u001B[43mstats\u001B[49m\u001B[38;5;241;43m=\u001B[39;49m\u001B[43mstats\u001B[49m\u001B[43m,\u001B[49m\n\u001B[0;32m    548\u001B[0m \u001B[43m    \u001B[49m\u001B[43mhalloffame\u001B[49m\u001B[38;5;241;43m=\u001B[39;49m\u001B[43mhof\u001B[49m\u001B[43m,\u001B[49m\n\u001B[0;32m    549\u001B[0m \u001B[43m    \u001B[49m\u001B[43mverbose\u001B[49m\u001B[38;5;241;43m=\u001B[39;49m\u001B[38;5;28;43mself\u001B[39;49m\u001B[38;5;241;43m.\u001B[39;49m\u001B[43mverbose\u001B[49m\u001B[43m,\u001B[49m\n\u001B[0;32m    550\u001B[0m \u001B[43m\u001B[49m\u001B[43m)\u001B[49m\n\u001B[0;32m    552\u001B[0m \u001B[38;5;66;03m# Save History\u001B[39;00m\n\u001B[0;32m    553\u001B[0m \u001B[38;5;28mself\u001B[39m\u001B[38;5;241m.\u001B[39mall_history_\u001B[38;5;241m.\u001B[39mappend(hist)\n",
      "File \u001B[1;32mD:\\program\\navigator\\envs\\Tf\\lib\\site-packages\\deap\\algorithms.py:150\u001B[0m, in \u001B[0;36meaSimple\u001B[1;34m(population, toolbox, cxpb, mutpb, ngen, stats, halloffame, verbose)\u001B[0m\n\u001B[0;32m    148\u001B[0m \u001B[38;5;66;03m# Evaluate the individuals with an invalid fitness\u001B[39;00m\n\u001B[0;32m    149\u001B[0m invalid_ind \u001B[38;5;241m=\u001B[39m [ind \u001B[38;5;28;01mfor\u001B[39;00m ind \u001B[38;5;129;01min\u001B[39;00m population \u001B[38;5;28;01mif\u001B[39;00m \u001B[38;5;129;01mnot\u001B[39;00m ind\u001B[38;5;241m.\u001B[39mfitness\u001B[38;5;241m.\u001B[39mvalid]\n\u001B[1;32m--> 150\u001B[0m fitnesses \u001B[38;5;241m=\u001B[39m \u001B[43mtoolbox\u001B[49m\u001B[38;5;241;43m.\u001B[39;49m\u001B[43mmap\u001B[49m\u001B[43m(\u001B[49m\u001B[43mtoolbox\u001B[49m\u001B[38;5;241;43m.\u001B[39;49m\u001B[43mevaluate\u001B[49m\u001B[43m,\u001B[49m\u001B[43m \u001B[49m\u001B[43minvalid_ind\u001B[49m\u001B[43m)\u001B[49m\n\u001B[0;32m    151\u001B[0m \u001B[38;5;28;01mfor\u001B[39;00m ind, fit \u001B[38;5;129;01min\u001B[39;00m \u001B[38;5;28mzip\u001B[39m(invalid_ind, fitnesses):\n\u001B[0;32m    152\u001B[0m     ind\u001B[38;5;241m.\u001B[39mfitness\u001B[38;5;241m.\u001B[39mvalues \u001B[38;5;241m=\u001B[39m fit\n",
      "File \u001B[1;32mD:\\program\\navigator\\envs\\Tf\\lib\\multiprocessing\\pool.py:364\u001B[0m, in \u001B[0;36mPool.map\u001B[1;34m(self, func, iterable, chunksize)\u001B[0m\n\u001B[0;32m    359\u001B[0m \u001B[38;5;28;01mdef\u001B[39;00m \u001B[38;5;21mmap\u001B[39m(\u001B[38;5;28mself\u001B[39m, func, iterable, chunksize\u001B[38;5;241m=\u001B[39m\u001B[38;5;28;01mNone\u001B[39;00m):\n\u001B[0;32m    360\u001B[0m     \u001B[38;5;124;03m'''\u001B[39;00m\n\u001B[0;32m    361\u001B[0m \u001B[38;5;124;03m    Apply `func` to each element in `iterable`, collecting the results\u001B[39;00m\n\u001B[0;32m    362\u001B[0m \u001B[38;5;124;03m    in a list that is returned.\u001B[39;00m\n\u001B[0;32m    363\u001B[0m \u001B[38;5;124;03m    '''\u001B[39;00m\n\u001B[1;32m--> 364\u001B[0m     \u001B[38;5;28;01mreturn\u001B[39;00m \u001B[38;5;28;43mself\u001B[39;49m\u001B[38;5;241;43m.\u001B[39;49m\u001B[43m_map_async\u001B[49m\u001B[43m(\u001B[49m\u001B[43mfunc\u001B[49m\u001B[43m,\u001B[49m\u001B[43m \u001B[49m\u001B[43miterable\u001B[49m\u001B[43m,\u001B[49m\u001B[43m \u001B[49m\u001B[43mmapstar\u001B[49m\u001B[43m,\u001B[49m\u001B[43m \u001B[49m\u001B[43mchunksize\u001B[49m\u001B[43m)\u001B[49m\u001B[38;5;241;43m.\u001B[39;49m\u001B[43mget\u001B[49m\u001B[43m(\u001B[49m\u001B[43m)\u001B[49m\n",
      "File \u001B[1;32mD:\\program\\navigator\\envs\\Tf\\lib\\multiprocessing\\pool.py:765\u001B[0m, in \u001B[0;36mApplyResult.get\u001B[1;34m(self, timeout)\u001B[0m\n\u001B[0;32m    764\u001B[0m \u001B[38;5;28;01mdef\u001B[39;00m \u001B[38;5;21mget\u001B[39m(\u001B[38;5;28mself\u001B[39m, timeout\u001B[38;5;241m=\u001B[39m\u001B[38;5;28;01mNone\u001B[39;00m):\n\u001B[1;32m--> 765\u001B[0m     \u001B[38;5;28;43mself\u001B[39;49m\u001B[38;5;241;43m.\u001B[39;49m\u001B[43mwait\u001B[49m\u001B[43m(\u001B[49m\u001B[43mtimeout\u001B[49m\u001B[43m)\u001B[49m\n\u001B[0;32m    766\u001B[0m     \u001B[38;5;28;01mif\u001B[39;00m \u001B[38;5;129;01mnot\u001B[39;00m \u001B[38;5;28mself\u001B[39m\u001B[38;5;241m.\u001B[39mready():\n\u001B[0;32m    767\u001B[0m         \u001B[38;5;28;01mraise\u001B[39;00m \u001B[38;5;167;01mTimeoutError\u001B[39;00m\n",
      "File \u001B[1;32mD:\\program\\navigator\\envs\\Tf\\lib\\multiprocessing\\pool.py:762\u001B[0m, in \u001B[0;36mApplyResult.wait\u001B[1;34m(self, timeout)\u001B[0m\n\u001B[0;32m    761\u001B[0m \u001B[38;5;28;01mdef\u001B[39;00m \u001B[38;5;21mwait\u001B[39m(\u001B[38;5;28mself\u001B[39m, timeout\u001B[38;5;241m=\u001B[39m\u001B[38;5;28;01mNone\u001B[39;00m):\n\u001B[1;32m--> 762\u001B[0m     \u001B[38;5;28;43mself\u001B[39;49m\u001B[38;5;241;43m.\u001B[39;49m\u001B[43m_event\u001B[49m\u001B[38;5;241;43m.\u001B[39;49m\u001B[43mwait\u001B[49m\u001B[43m(\u001B[49m\u001B[43mtimeout\u001B[49m\u001B[43m)\u001B[49m\n",
      "File \u001B[1;32mD:\\program\\navigator\\envs\\Tf\\lib\\threading.py:600\u001B[0m, in \u001B[0;36mEvent.wait\u001B[1;34m(self, timeout)\u001B[0m\n\u001B[0;32m    598\u001B[0m signaled \u001B[38;5;241m=\u001B[39m \u001B[38;5;28mself\u001B[39m\u001B[38;5;241m.\u001B[39m_flag\n\u001B[0;32m    599\u001B[0m \u001B[38;5;28;01mif\u001B[39;00m \u001B[38;5;129;01mnot\u001B[39;00m signaled:\n\u001B[1;32m--> 600\u001B[0m     signaled \u001B[38;5;241m=\u001B[39m \u001B[38;5;28;43mself\u001B[39;49m\u001B[38;5;241;43m.\u001B[39;49m\u001B[43m_cond\u001B[49m\u001B[38;5;241;43m.\u001B[39;49m\u001B[43mwait\u001B[49m\u001B[43m(\u001B[49m\u001B[43mtimeout\u001B[49m\u001B[43m)\u001B[49m\n\u001B[0;32m    601\u001B[0m \u001B[38;5;28;01mreturn\u001B[39;00m signaled\n",
      "File \u001B[1;32mD:\\program\\navigator\\envs\\Tf\\lib\\threading.py:320\u001B[0m, in \u001B[0;36mCondition.wait\u001B[1;34m(self, timeout)\u001B[0m\n\u001B[0;32m    318\u001B[0m \u001B[38;5;28;01mtry\u001B[39;00m:    \u001B[38;5;66;03m# restore state no matter what (e.g., KeyboardInterrupt)\u001B[39;00m\n\u001B[0;32m    319\u001B[0m     \u001B[38;5;28;01mif\u001B[39;00m timeout \u001B[38;5;129;01mis\u001B[39;00m \u001B[38;5;28;01mNone\u001B[39;00m:\n\u001B[1;32m--> 320\u001B[0m         \u001B[43mwaiter\u001B[49m\u001B[38;5;241;43m.\u001B[39;49m\u001B[43macquire\u001B[49m\u001B[43m(\u001B[49m\u001B[43m)\u001B[49m\n\u001B[0;32m    321\u001B[0m         gotit \u001B[38;5;241m=\u001B[39m \u001B[38;5;28;01mTrue\u001B[39;00m\n\u001B[0;32m    322\u001B[0m     \u001B[38;5;28;01melse\u001B[39;00m:\n",
      "\u001B[1;31mKeyboardInterrupt\u001B[0m: "
     ]
    }
   ],
   "source": [
    "paramgrid = {\n",
    "        'n_estimators': np.arange(100, 300, 10),\n",
    "        'max_features': np.arange(1, 11, 1),\n",
    "        'max_depth': np.arange(1, 11, 1),\n",
    "        'learning_rate': np.arange(0.001, 0.5, 0.05),\n",
    "        'min_samples_split': np.arange(1, 11, 1),\n",
    "        'subsample': np.arange(0.8, 1, 0.01)\n",
    "    }\n",
    "params = {\n",
    "    'loss': 'deviance',\n",
    "    'random_state': 1\n",
    "    }\n",
    "clf = GradientBoostingClassifier(**params)\n",
    "cv = EvolutionaryAlgorithmSearchCV(estimator=clf,\n",
    "                                   params=paramgrid,\n",
    "                                   scoring='accuracy',\n",
    "                                   cv=StratifiedKFold(n_splits=4),\n",
    "                                   verbose=True,\n",
    "                                   population_size=50,\n",
    "                                   gene_mutation_prob=0.1,\n",
    "                                   gene_crossover_prob=0.5,\n",
    "                                   tournament_size=3,\n",
    "                                   generations_number=5,\n",
    "                                   n_jobs=4\n",
    "                                )\n",
    "cv.fit(X, y)"
   ],
   "metadata": {
    "collapsed": false,
    "ExecuteTime": {
     "end_time": "2024-01-29T09:07:44.219402Z",
     "start_time": "2024-01-29T09:07:02.262230500Z"
    }
   },
   "id": "c70066d56fb7b1b1",
   "execution_count": 2
  },
  {
   "cell_type": "code",
   "outputs": [],
   "source": [
    "from sklearn.model_selection._search import _check_fit_params\n"
   ],
   "metadata": {
    "collapsed": false
   },
   "id": "2ec5a0a84ec6a9ae"
  },
  {
   "cell_type": "code",
   "outputs": [
    {
     "name": "stdout",
     "output_type": "stream",
     "text": [
      "Types [2, 1, 1] and maxint [19, 0, 98] detected\n",
      "--- Evolve in 1980 possible combinations ---\n",
      "gen\tnevals\tavg     \tmin     \tmax     \tstd      \n",
      "0  \t50    \t0.508742\t0.483444\t0.582781\t0.0247682\n",
      "1  \t31    \t0.523841\t0.496689\t0.582781\t0.0274735\n",
      "2  \t30    \t0.54649 \t0.503311\t0.589404\t0.0218137\n",
      "3  \t26    \t0.557881\t0.496689\t0.589404\t0.0231148\n",
      "4  \t23    \t0.573642\t0.496689\t0.589404\t0.0207694\n",
      "5  \t22    \t0.584371\t0.503311\t0.589404\t0.0134787\n",
      "Best individual is: {'gamma': 0.001, 'kernel': 'rbf', 'C': 26}\n",
      "with fitness: 0.5894039735099338\n"
     ]
    }
   ],
   "source": [
    "from sklearn.svm import SVC\n",
    "clf = SVC()\n",
    "param_grid={\n",
    "        'gamma': np.arange(0.001, 0.1, 0.005),\n",
    "        'kernel': [np.random.choice(['rbf','poly'])],\n",
    "        'C':np.arange(1, 100, 1)\n",
    "    }\n",
    "cv = EvolutionaryAlgorithmSearchCV(estimator=clf,\n",
    "                                   params=param_grid,\n",
    "                                   scoring='accuracy',\n",
    "                                   cv=StratifiedKFold(n_splits=4),\n",
    "                                   verbose=True,\n",
    "                                   population_size=50,\n",
    "                                   gene_mutation_prob=0.1,\n",
    "                                   gene_crossover_prob=0.5,\n",
    "                                   tournament_size=3,\n",
    "                                   generations_number=5,\n",
    "                                   n_jobs=4\n",
    "                                )\n",
    "string = cv.fit(X, y)"
   ],
   "metadata": {
    "collapsed": false,
    "ExecuteTime": {
     "end_time": "2024-01-29T09:32:44.849928200Z",
     "start_time": "2024-01-29T09:32:41.086200Z"
    }
   },
   "id": "ec256928f9e71243",
   "execution_count": 4
  },
  {
   "cell_type": "code",
   "outputs": [
    {
     "data": {
      "text/plain": "{'gamma': 0.001, 'kernel': 'rbf', 'C': 26}"
     },
     "execution_count": 7,
     "metadata": {},
     "output_type": "execute_result"
    }
   ],
   "source": [
    "cv.best_params_"
   ],
   "metadata": {
    "collapsed": false,
    "ExecuteTime": {
     "end_time": "2024-01-29T09:37:09.067747400Z",
     "start_time": "2024-01-29T09:37:09.034746400Z"
    }
   },
   "id": "ad070e93e5d4ea0c",
   "execution_count": 7
  }
 ],
 "metadata": {
  "kernelspec": {
   "display_name": "Python 3",
   "language": "python",
   "name": "python3"
  },
  "language_info": {
   "codemirror_mode": {
    "name": "ipython",
    "version": 2
   },
   "file_extension": ".py",
   "mimetype": "text/x-python",
   "name": "python",
   "nbconvert_exporter": "python",
   "pygments_lexer": "ipython2",
   "version": "2.7.6"
  }
 },
 "nbformat": 4,
 "nbformat_minor": 5
}
