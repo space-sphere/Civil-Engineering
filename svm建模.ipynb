{
 "cells": [
  {
   "cell_type": "code",
   "execution_count": 1,
   "metadata": {
    "collapsed": true,
    "ExecuteTime": {
     "end_time": "2023-08-22T11:05:40.162000300Z",
     "start_time": "2023-08-22T11:05:35.377617600Z"
    }
   },
   "outputs": [],
   "source": [
    "import numpy as np\n",
    "import pandas as pd"
   ]
  },
  {
   "cell_type": "code",
   "execution_count": 23,
   "outputs": [],
   "source": [
    "import warnings\n",
    "warnings.filterwarnings('ignore')"
   ],
   "metadata": {
    "collapsed": false,
    "ExecuteTime": {
     "end_time": "2023-07-29T07:37:20.020187500Z",
     "start_time": "2023-07-29T07:37:20.004563200Z"
    }
   }
  },
  {
   "cell_type": "code",
   "execution_count": 2,
   "outputs": [
    {
     "data": {
      "text/plain": "<Figure size 640x480 with 1 Axes>",
      "image/png": "[encoded data removed]"
     },
     "metadata": {},
     "output_type": "display_data"
    }
   ],
   "source": [
    "df = pd.read_excel(r'..\\..\\Data\\相关性最新.xlsx')\n",
    "X = df.iloc[:, 1:]\n",
    "y = df.iloc[:, 0]\n",
    "aver = X.mean(axis=0)\n",
    "X = X.fillna(aver)\n",
    "from model.UniVarSelector import UniVarSelector\n",
    "%matplotlib inline\n",
    "uni = UniVarSelector(X, y)\n",
    "uni.fit()\n",
    "uni.plot()\n",
    "from sklearn.model_selection import train_test_split\n",
    "X_train, X_test, y_train, y_test = train_test_split(X, y, test_size=0.2, random_state=10)\n",
    "aver = X_train.mean(axis=0)\n",
    "std = X_train.std(axis=0)\n",
    "X_train = (X_train-aver)/std\n",
    "X_test = (X_test-aver)/std"
   ],
   "metadata": {
    "collapsed": false,
    "ExecuteTime": {
     "end_time": "2023-08-22T11:06:09.320332700Z",
     "start_time": "2023-08-22T11:05:52.287890300Z"
    }
   }
  },
  {
   "cell_type": "code",
   "execution_count": 25,
   "outputs": [],
   "source": [
    "from sklearn.svm import SVC\n",
    "svc_1 = SVC(kernel='linear')\n",
    "from sklearn.model_selection import cross_val_score, KFold\n",
    "from scipy.stats import sem\n",
    "def evaluate_cross_validation(clf, X, y, K):\n",
    "    # 创建 K-折交叉验证迭代器对象\n",
    "    cv = KFold(K, shuffle=True, random_state=0)\n",
    "    #cv = KFold(len(y), K, shuffle=True, random_state=0)\n",
    "    # 计算返回分数\n",
    "    scores = cross_val_score(clf, X, y, cv=cv)\n",
    "    print (scores)\n",
    "    print ((\"\\n平均值: {0:.3f} (均标准差:+/-{1:.3f})\").\n",
    "           format(\n",
    "               np.mean(scores), # 均值\n",
    "               sem(scores) )    # 均标准差\n",
    "           )"
   ],
   "metadata": {
    "collapsed": false,
    "ExecuteTime": {
     "end_time": "2023-07-29T07:37:22.716156300Z",
     "start_time": "2023-07-29T07:37:22.700546200Z"
    }
   }
  },
  {
   "cell_type": "code",
   "execution_count": 26,
   "outputs": [],
   "source": [
    "svc_2 = SVC(kernel='rbf')"
   ],
   "metadata": {
    "collapsed": false,
    "ExecuteTime": {
     "end_time": "2023-07-29T07:37:24.050450400Z",
     "start_time": "2023-07-29T07:37:24.033947100Z"
    }
   }
  },
  {
   "cell_type": "code",
   "execution_count": 27,
   "outputs": [
    {
     "name": "stdout",
     "output_type": "stream",
     "text": [
      "[0.69230769 0.53846154 0.65384615 0.72       0.76      ]\n",
      "\n",
      "平均值: 0.673 (均标准差:+/-0.038)\n"
     ]
    }
   ],
   "source": [
    "evaluate_cross_validation(svc_2, X_train, y_train, 5)"
   ],
   "metadata": {
    "collapsed": false,
    "ExecuteTime": {
     "end_time": "2023-07-29T07:37:24.489632400Z",
     "start_time": "2023-07-29T07:37:24.457975Z"
    }
   }
  },
  {
   "cell_type": "code",
   "execution_count": 28,
   "outputs": [],
   "source": [
    "from sklearn import metrics\n",
    "def train_and_evaluate(clf, X_train, X_test, y_train, y_test):\n",
    "    clf.fit(X_train, y_train)             # 训练\n",
    "\n",
    "    print (\"训练集精度:\")   # 训练集精度\n",
    "    print (clf.score(X_train, y_train))\n",
    "\n",
    "    print (\"\\n测试集精度:\")    # 测试集精度\n",
    "    print (clf.score(X_test, y_test))\n",
    "\n",
    "    y_pred = clf.predict(X_test)\n",
    "\n",
    "    print (\"\\n分类识别报告:\")      # 分类识别报告\n",
    "    print (metrics.classification_report(y_test, y_pred))\n",
    "\n",
    "    # print (\"\\n混淆矩阵:\")\n",
    "    # print (metrics.confusion_matrix(y_test, y_pred))"
   ],
   "metadata": {
    "collapsed": false,
    "ExecuteTime": {
     "end_time": "2023-07-29T07:37:25.037213200Z",
     "start_time": "2023-07-29T07:37:25.021595300Z"
    }
   }
  },
  {
   "cell_type": "code",
   "execution_count": 29,
   "outputs": [
    {
     "name": "stdout",
     "output_type": "stream",
     "text": [
      "训练集精度:\n",
      "0.8515625\n",
      "\n",
      "测试集精度:\n",
      "0.65625\n",
      "\n",
      "分类识别报告:\n",
      "              precision    recall  f1-score   support\n",
      "\n",
      "           1       0.00      0.00      0.00         1\n",
      "           2       0.40      0.50      0.44         4\n",
      "           3       1.00      0.62      0.76        13\n",
      "           4       0.58      1.00      0.73        11\n",
      "           5       0.00      0.00      0.00         3\n",
      "\n",
      "    accuracy                           0.66        32\n",
      "   macro avg       0.40      0.42      0.39        32\n",
      "weighted avg       0.66      0.66      0.62        32\n"
     ]
    }
   ],
   "source": [
    "train_and_evaluate(svc_2, X_train, X_test, y_train, y_test)"
   ],
   "metadata": {
    "collapsed": false,
    "ExecuteTime": {
     "end_time": "2023-07-29T07:37:27.182765400Z",
     "start_time": "2023-07-29T07:37:27.151128500Z"
    }
   }
  },
  {
   "cell_type": "code",
   "execution_count": null,
   "outputs": [],
   "source": [],
   "metadata": {
    "collapsed": false
   }
  }
 ],
 "metadata": {
  "kernelspec": {
   "display_name": "Python 3",
   "language": "python",
   "name": "python3"
  },
  "language_info": {
   "codemirror_mode": {
    "name": "ipython",
    "version": 2
   },
   "file_extension": ".py",
   "mimetype": "text/x-python",
   "name": "python",
   "nbconvert_exporter": "python",
   "pygments_lexer": "ipython2",
   "version": "2.7.6"
  }
 },
 "nbformat": 4,
 "nbformat_minor": 0
}
