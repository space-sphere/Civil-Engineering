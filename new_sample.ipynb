{
 "cells": [
  {
   "cell_type": "code",
   "execution_count": 1,
   "id": "initial_id",
   "metadata": {
    "collapsed": true,
    "ExecuteTime": {
     "end_time": "2024-01-12T01:57:04.226625500Z",
     "start_time": "2024-01-12T01:57:03.630545900Z"
    }
   },
   "outputs": [],
   "source": [
    "import numpy as np\n",
    "import pandas as pd\n",
    "from data_pre import data_normalize\n",
    "import warnings"
   ]
  },
  {
   "cell_type": "code",
   "execution_count": 2,
   "outputs": [
    {
     "data": {
      "text/plain": "     WD  WLC  WLA  WIA  TD   TI  UCS  MTL    TN   ATI  TBD\n0     4    4    3    2   2  2.0  2.0  5.0  5.00  1.00  3.0\n1     4    4    3    2   2  2.0  2.0  5.0  5.00  1.00  3.0\n2     2    1    1    1   1  2.0  4.0  5.0  5.00  1.00  5.0\n3     2    4    3    1   3  4.0  4.0  3.0  5.00  2.00  3.0\n4     4    4    3    2   2  2.0  2.0  5.0  5.00  1.00  3.0\n..   ..  ...  ...  ...  ..  ...  ...  ...   ...   ...  ...\n169   3    4    2    3   3  2.0  3.0  3.0  3.00  2.00  1.0\n170   5    3    2    3   2  2.0  1.0  4.0  6.25  1.25  4.0\n171   5    3    2    3   2  2.0  1.0  4.0  6.25  1.25  3.0\n172   5    3    2    3   2  2.0  1.0  4.0  3.75  1.25  3.0\n173   1    1    1    1   1  1.0  4.0  1.0  1.00  5.00  1.0\n\n[174 rows x 11 columns]",
      "text/html": "<div>\n<style scoped>\n    .dataframe tbody tr th:only-of-type {\n        vertical-align: middle;\n    }\n\n    .dataframe tbody tr th {\n        vertical-align: top;\n    }\n\n    .dataframe thead th {\n        text-align: right;\n    }\n</style>\n<table border=\"1\" class=\"dataframe\">\n  <thead>\n    <tr style=\"text-align: right;\">\n      <th></th>\n      <th>WD</th>\n      <th>WLC</th>\n      <th>WLA</th>\n      <th>WIA</th>\n      <th>TD</th>\n      <th>TI</th>\n      <th>UCS</th>\n      <th>MTL</th>\n      <th>TN</th>\n      <th>ATI</th>\n      <th>TBD</th>\n    </tr>\n  </thead>\n  <tbody>\n    <tr>\n      <th>0</th>\n      <td>4</td>\n      <td>4</td>\n      <td>3</td>\n      <td>2</td>\n      <td>2</td>\n      <td>2.0</td>\n      <td>2.0</td>\n      <td>5.0</td>\n      <td>5.00</td>\n      <td>1.00</td>\n      <td>3.0</td>\n    </tr>\n    <tr>\n      <th>1</th>\n      <td>4</td>\n      <td>4</td>\n      <td>3</td>\n      <td>2</td>\n      <td>2</td>\n      <td>2.0</td>\n      <td>2.0</td>\n      <td>5.0</td>\n      <td>5.00</td>\n      <td>1.00</td>\n      <td>3.0</td>\n    </tr>\n    <tr>\n      <th>2</th>\n      <td>2</td>\n      <td>1</td>\n      <td>1</td>\n      <td>1</td>\n      <td>1</td>\n      <td>2.0</td>\n      <td>4.0</td>\n      <td>5.0</td>\n      <td>5.00</td>\n      <td>1.00</td>\n      <td>5.0</td>\n    </tr>\n    <tr>\n      <th>3</th>\n      <td>2</td>\n      <td>4</td>\n      <td>3</td>\n      <td>1</td>\n      <td>3</td>\n      <td>4.0</td>\n      <td>4.0</td>\n      <td>3.0</td>\n      <td>5.00</td>\n      <td>2.00</td>\n      <td>3.0</td>\n    </tr>\n    <tr>\n      <th>4</th>\n      <td>4</td>\n      <td>4</td>\n      <td>3</td>\n      <td>2</td>\n      <td>2</td>\n      <td>2.0</td>\n      <td>2.0</td>\n      <td>5.0</td>\n      <td>5.00</td>\n      <td>1.00</td>\n      <td>3.0</td>\n    </tr>\n    <tr>\n      <th>...</th>\n      <td>...</td>\n      <td>...</td>\n      <td>...</td>\n      <td>...</td>\n      <td>...</td>\n      <td>...</td>\n      <td>...</td>\n      <td>...</td>\n      <td>...</td>\n      <td>...</td>\n      <td>...</td>\n    </tr>\n    <tr>\n      <th>169</th>\n      <td>3</td>\n      <td>4</td>\n      <td>2</td>\n      <td>3</td>\n      <td>3</td>\n      <td>2.0</td>\n      <td>3.0</td>\n      <td>3.0</td>\n      <td>3.00</td>\n      <td>2.00</td>\n      <td>1.0</td>\n    </tr>\n    <tr>\n      <th>170</th>\n      <td>5</td>\n      <td>3</td>\n      <td>2</td>\n      <td>3</td>\n      <td>2</td>\n      <td>2.0</td>\n      <td>1.0</td>\n      <td>4.0</td>\n      <td>6.25</td>\n      <td>1.25</td>\n      <td>4.0</td>\n    </tr>\n    <tr>\n      <th>171</th>\n      <td>5</td>\n      <td>3</td>\n      <td>2</td>\n      <td>3</td>\n      <td>2</td>\n      <td>2.0</td>\n      <td>1.0</td>\n      <td>4.0</td>\n      <td>6.25</td>\n      <td>1.25</td>\n      <td>3.0</td>\n    </tr>\n    <tr>\n      <th>172</th>\n      <td>5</td>\n      <td>3</td>\n      <td>2</td>\n      <td>3</td>\n      <td>2</td>\n      <td>2.0</td>\n      <td>1.0</td>\n      <td>4.0</td>\n      <td>3.75</td>\n      <td>1.25</td>\n      <td>3.0</td>\n    </tr>\n    <tr>\n      <th>173</th>\n      <td>1</td>\n      <td>1</td>\n      <td>1</td>\n      <td>1</td>\n      <td>1</td>\n      <td>1.0</td>\n      <td>4.0</td>\n      <td>1.0</td>\n      <td>1.00</td>\n      <td>5.00</td>\n      <td>1.0</td>\n    </tr>\n  </tbody>\n</table>\n<p>174 rows × 11 columns</p>\n</div>"
     },
     "execution_count": 2,
     "metadata": {},
     "output_type": "execute_result"
    }
   ],
   "source": [
    "d = pd.read_excel(r\"D:\\program\\pycharm\\model\\Data\\土木预测训练.xlsx\", sheet_name='Sheet1')\n",
    "data = data_normalize(d, 'WD')\n",
    "df = data.fillna_by_random()\n",
    "df"
   ],
   "metadata": {
    "collapsed": false,
    "ExecuteTime": {
     "end_time": "2024-01-12T01:57:06.290688300Z",
     "start_time": "2024-01-12T01:57:04.226625500Z"
    }
   },
   "id": "bb2b2fdc090309a0"
  },
  {
   "cell_type": "code",
   "execution_count": 3,
   "outputs": [],
   "source": [
    "X = df.iloc[:, 1:]\n",
    "y = df.iloc[:, 0] - 1"
   ],
   "metadata": {
    "collapsed": false,
    "ExecuteTime": {
     "end_time": "2024-01-12T01:57:06.302699Z",
     "start_time": "2024-01-12T01:57:06.290688300Z"
    }
   },
   "id": "254656ebfa258bcd"
  },
  {
   "cell_type": "code",
   "execution_count": 4,
   "outputs": [],
   "source": [
    "from sklearn.model_selection import train_test_split\n",
    "from sklearn.neural_network import MLPClassifier\n",
    "from sklearn import metrics\n",
    "from sklearn.model_selection import cross_val_score"
   ],
   "metadata": {
    "collapsed": false,
    "ExecuteTime": {
     "end_time": "2024-01-12T01:57:13.654141700Z",
     "start_time": "2024-01-12T01:57:12.628382400Z"
    }
   },
   "id": "53caff4acf9b6911"
  },
  {
   "cell_type": "code",
   "execution_count": 5,
   "outputs": [
    {
     "data": {
      "text/plain": "0.9368067226890757"
     },
     "execution_count": 5,
     "metadata": {},
     "output_type": "execute_result"
    }
   ],
   "source": [
    "warnings.filterwarnings('ignore')\n",
    "mlp = MLPClassifier()\n",
    "scoresmlp = cross_val_score(mlp, X, y, scoring='accuracy', cv=5)\n",
    "np.mean(scoresmlp)"
   ],
   "metadata": {
    "collapsed": false,
    "ExecuteTime": {
     "end_time": "2024-01-05T10:48:33.266396100Z",
     "start_time": "2024-01-05T10:48:31.963582200Z"
    }
   },
   "id": "85e3a28a19f84144"
  },
  {
   "cell_type": "code",
   "execution_count": 6,
   "outputs": [],
   "source": [
    "from xgboost import XGBClassifier"
   ],
   "metadata": {
    "collapsed": false,
    "ExecuteTime": {
     "end_time": "2024-01-05T10:48:36.337657200Z",
     "start_time": "2024-01-05T10:48:35.450932200Z"
    }
   },
   "id": "4de0e4a53c91a76b"
  },
  {
   "cell_type": "code",
   "execution_count": 7,
   "outputs": [
    {
     "data": {
      "text/plain": "0.9484033613445378"
     },
     "execution_count": 7,
     "metadata": {},
     "output_type": "execute_result"
    }
   ],
   "source": [
    "xgb = XGBClassifier()\n",
    "scoresxgb = cross_val_score(xgb, X, y, scoring='accuracy', cv=5)\n",
    "np.mean(scoresxgb)"
   ],
   "metadata": {
    "collapsed": false,
    "ExecuteTime": {
     "end_time": "2024-01-05T10:48:37.633570500Z",
     "start_time": "2024-01-05T10:48:36.992877300Z"
    }
   },
   "id": "d453a2d09ed0d7ab"
  },
  {
   "cell_type": "code",
   "execution_count": 8,
   "outputs": [
    {
     "data": {
      "text/plain": "0.9484033613445378"
     },
     "execution_count": 8,
     "metadata": {},
     "output_type": "execute_result"
    }
   ],
   "source": [
    "from sklearn.ensemble import GradientBoostingClassifier\n",
    "gbc = GradientBoostingClassifier()\n",
    "scoresgbc = cross_val_score(gbc, X, y, scoring='accuracy', cv=5)\n",
    "np.mean(scoresgbc)"
   ],
   "metadata": {
    "collapsed": false,
    "ExecuteTime": {
     "end_time": "2024-01-05T10:48:44.115298500Z",
     "start_time": "2024-01-05T10:48:38.676108800Z"
    }
   },
   "id": "96e94a64500ef878"
  },
  {
   "cell_type": "code",
   "execution_count": 9,
   "outputs": [
    {
     "data": {
      "text/plain": "0.9541176470588235"
     },
     "execution_count": 9,
     "metadata": {},
     "output_type": "execute_result"
    }
   ],
   "source": [
    "from sklearn.ensemble import RandomForestClassifier\n",
    "rfc = RandomForestClassifier()\n",
    "scoresrfc = cross_val_score(rfc, X, y, scoring='accuracy', cv=5)\n",
    "np.mean(scoresrfc)"
   ],
   "metadata": {
    "collapsed": false,
    "ExecuteTime": {
     "end_time": "2024-01-05T10:48:45.962610100Z",
     "start_time": "2024-01-05T10:48:45.224868300Z"
    }
   },
   "id": "8b0859b2d9d28408"
  },
  {
   "cell_type": "code",
   "execution_count": 45,
   "outputs": [
    {
     "name": "stdout",
     "output_type": "stream",
     "text": [
      "----------------------------------------------------------------------------------------------------\n",
      "当前使用模型：MLPClassifier()\n",
      "训练集精度:\n",
      "0.9597701149425287\n",
      "\n",
      "测试集精度:\n",
      "0.8113207547169812\n",
      "\n",
      "分类识别报告:\n",
      "              precision    recall  f1-score   support\n",
      "\n",
      "         1.0       1.00      0.62      0.76        21\n",
      "         2.0       0.69      1.00      0.82        18\n",
      "         3.0       0.86      0.86      0.86        14\n",
      "\n",
      "    accuracy                           0.81        53\n",
      "   macro avg       0.85      0.83      0.81        53\n",
      "weighted avg       0.86      0.81      0.81        53\n",
      "\n",
      "----------------------------------------------------------------------------------------------------\n",
      "当前使用模型：XGBClassifier(base_score=None, booster=None, callbacks=None,\n",
      "              colsample_bylevel=None, colsample_bynode=None,\n",
      "              colsample_bytree=None, early_stopping_rounds=None,\n",
      "              enable_categorical=False, eval_metric=None, feature_types=None,\n",
      "              gamma=None, gpu_id=None, grow_policy=None, importance_type=None,\n",
      "              interaction_constraints=None, learning_rate=None, max_bin=None,\n",
      "              max_cat_threshold=None, max_cat_to_onehot=None,\n",
      "              max_delta_step=None, max_depth=None, max_leaves=None,\n",
      "              min_child_weight=None, missing=nan, monotone_constraints=None,\n",
      "              n_estimators=100, n_jobs=None, num_parallel_tree=None,\n",
      "              objective='multi:softprob', predictor=None, ...)\n",
      "训练集精度:\n",
      "0.9942528735632183\n",
      "\n",
      "测试集精度:\n",
      "0.7358490566037735\n",
      "\n",
      "分类识别报告:\n",
      "              precision    recall  f1-score   support\n",
      "\n",
      "         1.0       1.00      0.43      0.60        21\n",
      "         2.0       0.75      1.00      0.86        18\n",
      "         3.0       0.60      0.86      0.71        14\n",
      "\n",
      "    accuracy                           0.74        53\n",
      "   macro avg       0.78      0.76      0.72        53\n",
      "weighted avg       0.81      0.74      0.72        53\n",
      "\n",
      "----------------------------------------------------------------------------------------------------\n",
      "当前使用模型：GradientBoostingClassifier()\n",
      "训练集精度:\n",
      "1.0\n",
      "\n",
      "测试集精度:\n",
      "0.7169811320754716\n",
      "\n",
      "分类识别报告:\n",
      "              precision    recall  f1-score   support\n",
      "\n",
      "         1.0       1.00      0.43      0.60        21\n",
      "         2.0       0.63      0.94      0.76        18\n",
      "         3.0       0.71      0.86      0.77        14\n",
      "\n",
      "    accuracy                           0.72        53\n",
      "   macro avg       0.78      0.74      0.71        53\n",
      "weighted avg       0.80      0.72      0.70        53\n",
      "\n",
      "----------------------------------------------------------------------------------------------------\n",
      "当前使用模型：RandomForestClassifier()\n",
      "训练集精度:\n",
      "1.0\n",
      "\n",
      "测试集精度:\n",
      "0.7735849056603774\n",
      "\n",
      "分类识别报告:\n",
      "              precision    recall  f1-score   support\n",
      "\n",
      "         1.0       1.00      0.52      0.69        21\n",
      "         2.0       0.75      1.00      0.86        18\n",
      "         3.0       0.67      0.86      0.75        14\n",
      "\n",
      "    accuracy                           0.77        53\n",
      "   macro avg       0.81      0.79      0.76        53\n",
      "weighted avg       0.83      0.77      0.76        53\n",
      "\n",
      "----------------------------------------------------------------------------------------------------\n"
     ]
    }
   ],
   "source": [
    "def train_and_evaluate(clf, X_train, X_test, y_train, y_test):\n",
    "    clf.fit(X_train, y_train)             # 训练\n",
    "\n",
    "    print (\"训练集精度:\")   # 训练集精度\n",
    "    print (clf.score(X_train, y_train))\n",
    "\n",
    "    print (\"\\n测试集精度:\")    # 测试集精度\n",
    "    print (clf.score(X_test, y_test))\n",
    "\n",
    "    y_pred = clf.predict(X_test)\n",
    "\n",
    "    print (\"\\n分类识别报告:\")      # 分类识别报告\n",
    "    print (metrics.classification_report(y_test, y_pred))\n",
    "\n",
    "    # print (\"\\n混淆矩阵:\")\n",
    "    # print (metrics.confusion_matrix(y_test, y_pred))\n",
    "d_train = pd.read_excel('D:\\program\\pycharm\\model\\Data\\土木训练测试.xlsx', sheet_name='Sheet1')\n",
    "X_test = d_train.dropna(axis=0, how='any').iloc[:, 1:]\n",
    "y_test = d_train.dropna(axis=0, how='any').iloc[:, 0] - 1\n",
    "print('-' * 100)\n",
    "for clf in [mlp, xgb, gbc, rfc]:\n",
    "    print('当前使用模型：{}'.format(clf))\n",
    "    train_and_evaluate(clf, X, X_test, y, y_test)\n",
    "    print('-' * 100)"
   ],
   "metadata": {
    "collapsed": false,
    "ExecuteTime": {
     "end_time": "2023-11-12T21:26:09.882097200Z",
     "start_time": "2023-11-12T21:26:09.201127200Z"
    }
   },
   "id": "855fed553b2caab1"
  },
  {
   "cell_type": "code",
   "execution_count": 6,
   "outputs": [
    {
     "name": "stderr",
     "output_type": "stream",
     "text": [
      "D:\\program\\navigator\\envs\\sno\\lib\\site-packages\\sklearn\\model_selection\\_split.py:700: UserWarning: The least populated class in y has only 2 members, which is less than n_splits=5.\n",
      "  warnings.warn(\n"
     ]
    },
    {
     "data": {
      "text/plain": "0.9539495798319327"
     },
     "execution_count": 6,
     "metadata": {},
     "output_type": "execute_result"
    }
   ],
   "source": [
    "from sklearn.svm import SVC\n",
    "svm = SVC()\n",
    "scoresvm = cross_val_score(svm, X, y, scoring='accuracy', cv=5)\n",
    "np.mean(scoresvm)"
   ],
   "metadata": {
    "collapsed": false,
    "ExecuteTime": {
     "end_time": "2024-01-12T01:57:25.631619500Z",
     "start_time": "2024-01-12T01:57:25.588350900Z"
    }
   },
   "id": "d3a5c1a273031be3"
  },
  {
   "cell_type": "code",
   "execution_count": 7,
   "outputs": [
    {
     "data": {
      "text/plain": "{'C': 1.0,\n 'break_ties': False,\n 'cache_size': 200,\n 'class_weight': None,\n 'coef0': 0.0,\n 'decision_function_shape': 'ovr',\n 'degree': 3,\n 'gamma': 'scale',\n 'kernel': 'rbf',\n 'max_iter': -1,\n 'probability': False,\n 'random_state': None,\n 'shrinking': True,\n 'tol': 0.001,\n 'verbose': False}"
     },
     "execution_count": 7,
     "metadata": {},
     "output_type": "execute_result"
    }
   ],
   "source": [
    "svm.get_params()"
   ],
   "metadata": {
    "collapsed": false,
    "ExecuteTime": {
     "end_time": "2024-01-12T01:57:34.548755Z",
     "start_time": "2024-01-12T01:57:34.543249400Z"
    }
   },
   "id": "e76745bf184c143c"
  }
 ],
 "metadata": {
  "kernelspec": {
   "display_name": "Python 3",
   "language": "python",
   "name": "python3"
  },
  "language_info": {
   "codemirror_mode": {
    "name": "ipython",
    "version": 2
   },
   "file_extension": ".py",
   "mimetype": "text/x-python",
   "name": "python",
   "nbconvert_exporter": "python",
   "pygments_lexer": "ipython2",
   "version": "2.7.6"
  }
 },
 "nbformat": 4,
 "nbformat_minor": 5
}
