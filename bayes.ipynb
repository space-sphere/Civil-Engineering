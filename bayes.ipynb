{
 "cells": [
  {
   "cell_type": "code",
   "execution_count": 11,
   "id": "initial_id",
   "metadata": {
    "collapsed": true,
    "ExecuteTime": {
     "end_time": "2023-09-26T20:35:28.506458Z",
     "start_time": "2023-09-26T20:35:28.363563100Z"
    }
   },
   "outputs": [],
   "source": [
    "import numpy as np\n",
    "import pandas as pd\n",
    "from data_pre import data_normalize\n",
    "import warnings\n",
    "warnings.filterwarnings('ignore')\n",
    "d = pd.read_excel(r\"D:\\program\\pycharm\\model\\Data\\新训练.xlsx\", sheet_name='Sheet3')\n",
    "# X = df.iloc[:, 1:]\n",
    "# y = df.iloc[:, 0]\n",
    "data = data_normalize(d, 'WD')\n",
    "df = data.fillna_by_random()\n",
    "X = df.iloc[:, 1:]\n",
    "y = df.iloc[:, 0]\n",
    "from sklearn.model_selection import train_test_split\n",
    "X_train, X_test, y_train, y_test = train_test_split(X, y, test_size=0.2, random_state=10)\n",
    "# aver = X_train.mean(axis=0)\n",
    "# std = X_train.std(axis=0)\n",
    "# X_train = (X_train-aver)/std\n",
    "# X_test = (X_test-aver)/std"
   ]
  },
  {
   "cell_type": "code",
   "execution_count": 12,
   "outputs": [
    {
     "name": "stdout",
     "output_type": "stream",
     "text": [
      "训练集精度:\n",
      "0.6916666666666667\n",
      "\n",
      "测试集精度:\n",
      "0.5806451612903226\n",
      "\n",
      "分类识别报告:\n",
      "              precision    recall  f1-score   support\n",
      "\n",
      "           1       0.00      0.00      0.00         1\n",
      "           2       0.80      0.62      0.70        13\n",
      "           3       0.50      0.71      0.59         7\n",
      "           4       0.45      0.62      0.53         8\n",
      "           5       0.00      0.00      0.00         2\n",
      "\n",
      "    accuracy                           0.58        31\n",
      "   macro avg       0.35      0.39      0.36        31\n",
      "weighted avg       0.57      0.58      0.56        31\n"
     ]
    }
   ],
   "source": [
    "from sklearn.naive_bayes import GaussianNB\n",
    "from sklearn import metrics\n",
    "bayes = GaussianNB()\n",
    "def train_and_evaluate(clf, X_train, X_test, y_train, y_test):\n",
    "    clf.fit(X_train, y_train)             # 训练\n",
    "\n",
    "    print (\"训练集精度:\")   # 训练集精度\n",
    "    print (clf.score(X_train, y_train))\n",
    "\n",
    "    print (\"\\n测试集精度:\")    # 测试集精度\n",
    "    print (clf.score(X_test, y_test))\n",
    "\n",
    "    y_pred = clf.predict(X_test)\n",
    "\n",
    "    print (\"\\n分类识别报告:\")      # 分类识别报告\n",
    "    print (metrics.classification_report(y_test, y_pred))\n",
    "train_and_evaluate(bayes, X_train, X_test, y_train, y_test)"
   ],
   "metadata": {
    "collapsed": false,
    "ExecuteTime": {
     "end_time": "2023-09-26T20:35:28.828971800Z",
     "start_time": "2023-09-26T20:35:28.812968500Z"
    }
   },
   "id": "9f6f03c4e09119d8"
  },
  {
   "cell_type": "code",
   "execution_count": null,
   "outputs": [],
   "source": [],
   "metadata": {
    "collapsed": false
   },
   "id": "bbc74c3fa9b707f6"
  }
 ],
 "metadata": {
  "kernelspec": {
   "display_name": "Python 3",
   "language": "python",
   "name": "python3"
  },
  "language_info": {
   "codemirror_mode": {
    "name": "ipython",
    "version": 2
   },
   "file_extension": ".py",
   "mimetype": "text/x-python",
   "name": "python",
   "nbconvert_exporter": "python",
   "pygments_lexer": "ipython2",
   "version": "2.7.6"
  }
 },
 "nbformat": 4,
 "nbformat_minor": 5
}
