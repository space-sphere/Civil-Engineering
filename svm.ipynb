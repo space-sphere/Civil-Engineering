{
 "cells": [
  {
   "cell_type": "code",
   "execution_count": 2,
   "id": "initial_id",
   "metadata": {
    "collapsed": true,
    "ExecuteTime": {
     "end_time": "2023-09-26T13:16:22.001346200Z",
     "start_time": "2023-09-26T13:16:21.982710800Z"
    }
   },
   "outputs": [],
   "source": [
    "import numpy as np\n",
    "import pandas as pd\n",
    "from data_pre import data_normalize\n",
    "import warnings\n",
    "warnings.filterwarnings('ignore')"
   ]
  },
  {
   "cell_type": "code",
   "execution_count": 5,
   "outputs": [
    {
     "data": {
      "text/plain": "     WD  WLC     WLA     WIA      TD      TI    UCS    MTL     TN      ATI  \\\n0     1    1   0.000   0.000   1.360   1.290  52.64  0.200   2.00  0.68000   \n1     4    1  10.100  12.350  99.120  26.890  10.20  0.500   7.00  0.55000   \n2     3    3   8.900  10.230  63.440  18.640  32.00  1.200  15.00  0.32000   \n3     2    2   4.300   6.010  35.660  11.560  50.56  1.700  18.00  0.10000   \n4     2    1   0.000   0.000   2.360   3.570  60.25  1.400  14.00  0.18000   \n..   ..  ...     ...     ...     ...     ...    ...    ...    ...      ...   \n146   2    2  16.858   8.028  56.476  10.459  11.94  1.223  13.00  0.10000   \n147   4    3   7.214   3.461  65.889  25.101  21.86  0.749  17.00  0.09200   \n148   3    3  22.491   2.869  30.330  11.504  16.99  1.200  16.00  0.18000   \n149   2    4  24.662   6.223  89.944  21.963   7.29  1.880  13.00  0.23000   \n150   5    1   0.000   0.000  49.155   6.275  17.89  1.189  21.25  0.17375   \n\n       TBD  \n0     11.0  \n1     20.0  \n2     40.0  \n3    350.0  \n4    221.0  \n..     ...  \n146  199.0  \n147  204.0  \n148  113.0  \n149  350.0  \n150  213.0  \n\n[151 rows x 11 columns]",
      "text/html": "<div>\n<style scoped>\n    .dataframe tbody tr th:only-of-type {\n        vertical-align: middle;\n    }\n\n    .dataframe tbody tr th {\n        vertical-align: top;\n    }\n\n    .dataframe thead th {\n        text-align: right;\n    }\n</style>\n<table border=\"1\" class=\"dataframe\">\n  <thead>\n    <tr style=\"text-align: right;\">\n      <th></th>\n      <th>WD</th>\n      <th>WLC</th>\n      <th>WLA</th>\n      <th>WIA</th>\n      <th>TD</th>\n      <th>TI</th>\n      <th>UCS</th>\n      <th>MTL</th>\n      <th>TN</th>\n      <th>ATI</th>\n      <th>TBD</th>\n    </tr>\n  </thead>\n  <tbody>\n    <tr>\n      <th>0</th>\n      <td>1</td>\n      <td>1</td>\n      <td>0.000</td>\n      <td>0.000</td>\n      <td>1.360</td>\n      <td>1.290</td>\n      <td>52.64</td>\n      <td>0.200</td>\n      <td>2.00</td>\n      <td>0.68000</td>\n      <td>11.0</td>\n    </tr>\n    <tr>\n      <th>1</th>\n      <td>4</td>\n      <td>1</td>\n      <td>10.100</td>\n      <td>12.350</td>\n      <td>99.120</td>\n      <td>26.890</td>\n      <td>10.20</td>\n      <td>0.500</td>\n      <td>7.00</td>\n      <td>0.55000</td>\n      <td>20.0</td>\n    </tr>\n    <tr>\n      <th>2</th>\n      <td>3</td>\n      <td>3</td>\n      <td>8.900</td>\n      <td>10.230</td>\n      <td>63.440</td>\n      <td>18.640</td>\n      <td>32.00</td>\n      <td>1.200</td>\n      <td>15.00</td>\n      <td>0.32000</td>\n      <td>40.0</td>\n    </tr>\n    <tr>\n      <th>3</th>\n      <td>2</td>\n      <td>2</td>\n      <td>4.300</td>\n      <td>6.010</td>\n      <td>35.660</td>\n      <td>11.560</td>\n      <td>50.56</td>\n      <td>1.700</td>\n      <td>18.00</td>\n      <td>0.10000</td>\n      <td>350.0</td>\n    </tr>\n    <tr>\n      <th>4</th>\n      <td>2</td>\n      <td>1</td>\n      <td>0.000</td>\n      <td>0.000</td>\n      <td>2.360</td>\n      <td>3.570</td>\n      <td>60.25</td>\n      <td>1.400</td>\n      <td>14.00</td>\n      <td>0.18000</td>\n      <td>221.0</td>\n    </tr>\n    <tr>\n      <th>...</th>\n      <td>...</td>\n      <td>...</td>\n      <td>...</td>\n      <td>...</td>\n      <td>...</td>\n      <td>...</td>\n      <td>...</td>\n      <td>...</td>\n      <td>...</td>\n      <td>...</td>\n      <td>...</td>\n    </tr>\n    <tr>\n      <th>146</th>\n      <td>2</td>\n      <td>2</td>\n      <td>16.858</td>\n      <td>8.028</td>\n      <td>56.476</td>\n      <td>10.459</td>\n      <td>11.94</td>\n      <td>1.223</td>\n      <td>13.00</td>\n      <td>0.10000</td>\n      <td>199.0</td>\n    </tr>\n    <tr>\n      <th>147</th>\n      <td>4</td>\n      <td>3</td>\n      <td>7.214</td>\n      <td>3.461</td>\n      <td>65.889</td>\n      <td>25.101</td>\n      <td>21.86</td>\n      <td>0.749</td>\n      <td>17.00</td>\n      <td>0.09200</td>\n      <td>204.0</td>\n    </tr>\n    <tr>\n      <th>148</th>\n      <td>3</td>\n      <td>3</td>\n      <td>22.491</td>\n      <td>2.869</td>\n      <td>30.330</td>\n      <td>11.504</td>\n      <td>16.99</td>\n      <td>1.200</td>\n      <td>16.00</td>\n      <td>0.18000</td>\n      <td>113.0</td>\n    </tr>\n    <tr>\n      <th>149</th>\n      <td>2</td>\n      <td>4</td>\n      <td>24.662</td>\n      <td>6.223</td>\n      <td>89.944</td>\n      <td>21.963</td>\n      <td>7.29</td>\n      <td>1.880</td>\n      <td>13.00</td>\n      <td>0.23000</td>\n      <td>350.0</td>\n    </tr>\n    <tr>\n      <th>150</th>\n      <td>5</td>\n      <td>1</td>\n      <td>0.000</td>\n      <td>0.000</td>\n      <td>49.155</td>\n      <td>6.275</td>\n      <td>17.89</td>\n      <td>1.189</td>\n      <td>21.25</td>\n      <td>0.17375</td>\n      <td>213.0</td>\n    </tr>\n  </tbody>\n</table>\n<p>151 rows × 11 columns</p>\n</div>"
     },
     "execution_count": 5,
     "metadata": {},
     "output_type": "execute_result"
    }
   ],
   "source": [
    "d = pd.read_excel(r\"D:\\program\\pycharm\\model\\Data\\新训练.xlsx\", sheet_name='Sheet3')\n",
    "# X = df.iloc[:, 1:]\n",
    "# y = df.iloc[:, 0]\n",
    "data = data_normalize(d, 'WD')\n",
    "df = data.fillna_by_random()\n",
    "df"
   ],
   "metadata": {
    "collapsed": false,
    "ExecuteTime": {
     "end_time": "2023-09-26T13:19:58.670977300Z",
     "start_time": "2023-09-26T13:19:58.497114300Z"
    }
   },
   "id": "91c801112eeacf56"
  },
  {
   "cell_type": "code",
   "execution_count": 6,
   "outputs": [],
   "source": [
    "X = df.iloc[:, 1:]\n",
    "y = df.iloc[:, 0]\n",
    "from sklearn.model_selection import train_test_split\n",
    "X_train, X_test, y_train, y_test = train_test_split(X, y, test_size=0.2, random_state=10)\n",
    "aver = X_train.mean(axis=0)\n",
    "std = X_train.std(axis=0)\n",
    "X_train = (X_train-aver)/std\n",
    "X_test = (X_test-aver)/std"
   ],
   "metadata": {
    "collapsed": false,
    "ExecuteTime": {
     "end_time": "2023-09-26T13:20:45.599692100Z",
     "start_time": "2023-09-26T13:20:44.751635600Z"
    }
   },
   "id": "84ffe924e9e98e0"
  },
  {
   "cell_type": "code",
   "execution_count": 13,
   "outputs": [],
   "source": [
    "from sklearn.svm import SVC\n",
    "svc_1 = SVC(kernel='poly')\n",
    "from sklearn.model_selection import cross_val_score, KFold\n",
    "from scipy.stats import sem\n",
    "def evaluate_cross_validation(clf, X, y, K):\n",
    "    # 创建 K-折交叉验证迭代器对象\n",
    "    cv = KFold(K, shuffle=True, random_state=0)\n",
    "    #cv = KFold(len(y), K, shuffle=True, random_state=0)\n",
    "    # 计算返回分数\n",
    "    scores = cross_val_score(clf, X, y, cv=cv)\n",
    "    print (scores)\n",
    "    print ((\"\\n平均值: {0:.3f} (均标准差:+/-{1:.3f})\").\n",
    "           format(\n",
    "               np.mean(scores), # 均值\n",
    "               sem(scores) )    # 均标准差\n",
    "           )"
   ],
   "metadata": {
    "collapsed": false,
    "ExecuteTime": {
     "end_time": "2023-09-26T13:32:13.439462400Z",
     "start_time": "2023-09-26T13:32:13.419456500Z"
    }
   },
   "id": "871702ec98e95edd"
  },
  {
   "cell_type": "code",
   "execution_count": 8,
   "outputs": [],
   "source": [
    "svc_2 = SVC(kernel='rbf')"
   ],
   "metadata": {
    "collapsed": false,
    "ExecuteTime": {
     "end_time": "2023-09-26T13:21:06.980208300Z",
     "start_time": "2023-09-26T13:21:06.965194600Z"
    }
   },
   "id": "663c8cf71896fef2"
  },
  {
   "cell_type": "code",
   "execution_count": 9,
   "outputs": [
    {
     "name": "stdout",
     "output_type": "stream",
     "text": [
      "[0.58333333 0.54166667 0.58333333 0.75       0.41666667]\n",
      "\n",
      "平均值: 0.575 (均标准差:+/-0.053)\n"
     ]
    }
   ],
   "source": [
    "evaluate_cross_validation(svc_2, X_train, y_train, 5)"
   ],
   "metadata": {
    "collapsed": false,
    "ExecuteTime": {
     "end_time": "2023-09-26T13:21:14.319645400Z",
     "start_time": "2023-09-26T13:21:14.282419700Z"
    }
   },
   "id": "27c86ead2d3bdb4e"
  },
  {
   "cell_type": "code",
   "execution_count": 15,
   "outputs": [
    {
     "name": "stdout",
     "output_type": "stream",
     "text": [
      "训练集精度:\n",
      "0.6916666666666667\n",
      "\n",
      "测试集精度:\n",
      "0.5161290322580645\n",
      "\n",
      "分类识别报告:\n",
      "              precision    recall  f1-score   support\n",
      "\n",
      "           1       0.00      0.00      0.00         1\n",
      "           2       0.89      0.62      0.73        13\n",
      "           3       0.33      0.29      0.31         7\n",
      "           4       0.38      0.75      0.50         8\n",
      "           5       0.00      0.00      0.00         2\n",
      "\n",
      "    accuracy                           0.52        31\n",
      "   macro avg       0.32      0.33      0.31        31\n",
      "weighted avg       0.54      0.52      0.50        31\n"
     ]
    }
   ],
   "source": [
    "from sklearn import metrics\n",
    "def train_and_evaluate(clf, X_train, X_test, y_train, y_test):\n",
    "    clf.fit(X_train, y_train)             # 训练\n",
    "\n",
    "    print (\"训练集精度:\")   # 训练集精度\n",
    "    print (clf.score(X_train, y_train))\n",
    "\n",
    "    print (\"\\n测试集精度:\")    # 测试集精度\n",
    "    print (clf.score(X_test, y_test))\n",
    "\n",
    "    y_pred = clf.predict(X_test)\n",
    "\n",
    "    print (\"\\n分类识别报告:\")      # 分类识别报告\n",
    "    print (metrics.classification_report(y_test, y_pred))\n",
    "train_and_evaluate(svc_2, X_train, X_test, y_train, y_test)"
   ],
   "metadata": {
    "collapsed": false,
    "ExecuteTime": {
     "end_time": "2023-09-26T13:32:27.299032800Z",
     "start_time": "2023-09-26T13:32:27.275026900Z"
    }
   },
   "id": "5cd74bbe6c40aeaa"
  },
  {
   "cell_type": "code",
   "execution_count": null,
   "outputs": [],
   "source": [],
   "metadata": {
    "collapsed": false
   },
   "id": "b4a2f7c37909463c"
  }
 ],
 "metadata": {
  "kernelspec": {
   "display_name": "Python 3",
   "language": "python",
   "name": "python3"
  },
  "language_info": {
   "codemirror_mode": {
    "name": "ipython",
    "version": 2
   },
   "file_extension": ".py",
   "mimetype": "text/x-python",
   "name": "python",
   "nbconvert_exporter": "python",
   "pygments_lexer": "ipython2",
   "version": "2.7.6"
  }
 },
 "nbformat": 4,
 "nbformat_minor": 5
}
