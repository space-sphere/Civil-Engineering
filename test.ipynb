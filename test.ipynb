{
 "cells": [
  {
   "cell_type": "code",
   "execution_count": 43,
   "id": "c6aa0ef2de5a208a",
   "metadata": {
    "ExecuteTime": {
     "end_time": "2024-01-31T03:41:37.515612200Z",
     "start_time": "2024-01-31T03:41:37.021478600Z"
    },
    "collapsed": false
   },
   "outputs": [],
   "source": [
    "import matplotlib.pyplot as plt\n",
    "import numpy as np\n",
    "import pandas as pd\n",
    "from data_pre import data_normalize\n",
    "import warnings\n",
    "\n",
    "d = pd.read_excel(r\"D:\\program\\pycharm\\model\\Data\\土木预测训练.xlsx\", sheet_name='Sheet1')\n",
    "data = data_normalize(d, 'WD')\n",
    "df = data.fillna_by_avg()\n",
    "df = df.round(0)\n",
    "df = df.dropna(how='any')"
   ]
  },
  {
   "cell_type": "code",
   "execution_count": 14,
   "id": "5b0f5835afb4e984",
   "metadata": {
    "ExecuteTime": {
     "end_time": "2024-01-31T05:52:39.568339Z",
     "start_time": "2024-01-31T05:52:39.522342700Z"
    },
    "collapsed": false
   },
   "outputs": [],
   "source": [
    "import matplotlib.pyplot as plt\n",
    "import numpy as np\n",
    "import pandas as pd\n",
    "from data_pre import data_normalize\n",
    "import warnings\n",
    "warnings.filterwarnings('ignore')\n",
    "df = pd.read_csv(r\"..\\..\\Data\\隧道围岩项目\\训练集.csv\")\n",
    "X = df.iloc[:, 1:]\n",
    "y = df.iloc[:, 0]\n",
    "time = 30"
   ]
  },
  {
   "cell_type": "code",
   "execution_count": 2,
   "id": "f25cc662b4c2c58c",
   "metadata": {
    "ExecuteTime": {
     "end_time": "2024-01-31T05:45:31.518606900Z",
     "start_time": "2024-01-31T05:45:31.487613300Z"
    },
    "collapsed": false
   },
   "outputs": [
    {
     "data": {
      "text/plain": [
       "array([2, 3, 1, 4, 5], dtype=int64)"
      ]
     },
     "execution_count": 2,
     "metadata": {},
     "output_type": "execute_result"
    }
   ],
   "source": [
    "y.unique()"
   ]
  },
  {
   "cell_type": "code",
   "execution_count": null,
   "id": "initial_id",
   "metadata": {
    "ExecuteTime": {
     "start_time": "2024-01-28T03:54:45.525659Z"
    },
    "collapsed": true
   },
   "outputs": [],
   "source": [
    "X = df.iloc[:, 1:]\n",
    "y = df.iloc[:, 0] - 1\n",
    "from sklearn.model_selection import train_test_split\n",
    "from sklearn.neural_network import MLPClassifier\n",
    "from sklearn import metrics\n",
    "from sklearn.model_selection import cross_val_score\n",
    "warnings.filterwarnings('ignore')\n",
    "mlp = MLPClassifier()\n",
    "scoresmlp = cross_val_score(mlp, X, y, scoring='accuracy', cv=5)\n",
    "print('mlp模型在训练集和验证集上的准确率为：{}'.format(np.mean(scoresmlp)))\n",
    "from xgboost import XGBClassifier\n",
    "xgb = XGBClassifier()\n",
    "scoresxgb = cross_val_score(xgb, X, y, scoring='accuracy', cv=5)\n",
    "print('xgb模型在训练集和验证集上的准确率为：{}'.format(np.mean(scoresxgb)))\n",
    "from sklearn.ensemble import GradientBoostingClassifier\n",
    "gbc = GradientBoostingClassifier()\n",
    "scoresgbc = cross_val_score(gbc, X, y, scoring='accuracy', cv=5)\n",
    "print('gbrt模型在训练集和验证集上的准确率为：{}'.format(np.mean(scoresgbc)))\n",
    "from sklearn.ensemble import RandomForestClassifier\n",
    "rfc = RandomForestClassifier()\n",
    "scoresrfc = cross_val_score(rfc, X, y, scoring='accuracy', cv=5)\n",
    "print('randomforest模型在训练集和验证集上的准确率为：{}'.format(np.mean(scoresrfc)))\n",
    "print()\n",
    "print('加入测试集后的结果：')\n",
    "def train_and_evaluate(clf, X_train, X_test, y_train, y_test):\n",
    "    clf.fit(X_train, y_train)             # 训练\n",
    "\n",
    "    print (\"训练集精度:\")   # 训练集精度\n",
    "    print (clf.score(X_train, y_train))\n",
    "\n",
    "    print (\"\\n测试集精度:\")    # 测试集精度\n",
    "    print (clf.score(X_test, y_test))\n",
    "\n",
    "    y_pred = clf.predict(X_test)\n",
    "\n",
    "    print (\"\\n分类识别报告:\")      # 分类识别报告\n",
    "    print (metrics.classification_report(y_test, y_pred))\n",
    "\n",
    "    # print (\"\\n混淆矩阵:\")\n",
    "    # print (metrics.confusion_matrix(y_test, y_pred))\n",
    "d_train = pd.read_excel('D:\\program\\pycharm\\model\\Data\\土木训练测试.xlsx', sheet_name='Sheet1')\n",
    "X_test = d_train.dropna(axis=0, how='any').iloc[:, 1:]\n",
    "y_test = d_train.dropna(axis=0, how='any').iloc[:, 0] - 1\n",
    "print('-' * 100)\n",
    "for clf in [mlp, xgb, gbc, rfc]:\n",
    "    print('当前使用模型：{} \\n'.format(clf))\n",
    "    train_and_evaluate(clf, X, X_test, y, y_test)\n",
    "    print('-' * 100)"
   ]
  },
  {
   "cell_type": "code",
   "execution_count": 44,
   "id": "4e86707f1e0c38a9",
   "metadata": {
    "ExecuteTime": {
     "end_time": "2024-01-29T10:02:32.354767400Z",
     "start_time": "2024-01-29T10:02:32.335767400Z"
    },
    "collapsed": false
   },
   "outputs": [],
   "source": [
    "import matplotlib.pyplot as plt\n",
    "import numpy as np\n",
    "import pandas as pd\n",
    "from data_pre import data_normalize\n",
    "import warnings\n",
    "df = pd.read_csv(r\"..\\..\\Data\\隧道围岩项目\\训练集.csv\")\n",
    "X = df.iloc[:, 1:]\n",
    "y = df.iloc[:, 0]\n",
    "\n",
    "time = 30"
   ]
  },
  {
   "cell_type": "code",
   "execution_count": 5,
   "id": "5af304f6f82902c0",
   "metadata": {
    "ExecuteTime": {
     "end_time": "2024-01-31T05:54:34.472429700Z",
     "start_time": "2024-01-31T05:52:43.604429500Z"
    },
    "collapsed": false
   },
   "outputs": [
    {
     "name": "stdout",
     "output_type": "stream",
     "text": [
      "100%|██████████| 30/30 [01:50<00:00,  3.69s/trial, best loss: 0.12717948717948724]\n",
      "所用参数\n",
      "{'learning_rate': 0.16083022063860858, 'max_depth': 4, 'max_features': 2, 'min_samples_split': 8, 'n_estimators': 210, 'subsample': 0.963199927007719}\n"
     ]
    }
   ],
   "source": [
    "from sklearn.ensemble import GradientBoostingClassifier\n",
    "from sklearn.model_selection import cross_val_score\n",
    "import numpy as np\n",
    "import pandas as pd\n",
    "import warnings\n",
    "import hyperopt\n",
    "\n",
    "s_gbrt = []\n",
    "def hyperopt_object(params):\n",
    "    clf = GradientBoostingClassifier(\n",
    "        n_estimators=int(params['n_estimators']),\n",
    "        max_depth=int(params['max_depth']),\n",
    "        min_samples_split=int(params['min_samples_split']),\n",
    "        learning_rate=params['learning_rate'],\n",
    "        max_features=int(params['max_features']),\n",
    "        loss=params['loss'],\n",
    "        subsample=params['subsample'],\n",
    "        random_state=params['random_state']\n",
    "    )\n",
    "    global s_gbrt\n",
    "    scores = np.mean(cross_val_score(clf, X, y, scoring='accuracy', cv=5))\n",
    "    s_gbrt.append(scores)\n",
    "    s_gbrt[-1] = np.max(s_gbrt)\n",
    "    return 1 - scores\n",
    "params = {\n",
    "    'n_estimators': hyperopt.hp.quniform(\"n_estimators\", 100, 300, 10), # 弱分类器的个数\n",
    "    'max_depth': hyperopt.hp.randint('max_depth', 1, 15),       # 弱分类器（CART回归树）的最大深度\n",
    "    'min_samples_split': hyperopt.hp.randint('min_samples_split', 1, 15), # 分裂内部节点所需的最小样本数\n",
    "    'learning_rate': hyperopt.hp.uniform('learning_rate', 1e-3, 5e-1),  # 学习率\n",
    "    'max_features': hyperopt.hp.randint('max_features', 1, 10),\n",
    "    'loss': 'log_loss',\n",
    "    'subsample': hyperopt.hp.uniform('subsample', 5e-1, 1),\n",
    "    'random_state': 1\n",
    "}\n",
    "trials = hyperopt.Trials()\n",
    "res = hyperopt.fmin(\n",
    "    hyperopt_object,\n",
    "    space=params,\n",
    "    algo=hyperopt.tpe.suggest,\n",
    "    max_evals=time,\n",
    "    trials=trials)\n",
    "res['n_estimators'] = int(res['n_estimators'])\n",
    "res['max_depth'] = int(res['max_depth'])\n",
    "res['min_samples_split'] = int(res['min_samples_split'])\n",
    "res['max_features'] = int(res['max_features'])\n",
    "print('所用参数')\n",
    "print(res)\n",
    "res_gbrt = res.copy()"
   ]
  },
  {
   "cell_type": "code",
   "execution_count": 18,
   "id": "9864f4a921186bfb",
   "metadata": {
    "ExecuteTime": {
     "end_time": "2024-01-31T05:56:02.610533900Z",
     "start_time": "2024-01-31T05:54:48.372535300Z"
    },
    "collapsed": false
   },
   "outputs": [
    {
     "name": "stdout",
     "output_type": "stream",
     "text": [
      "100%|██████████| 30/30 [02:46<00:00,  5.56s/trial, best loss: 0.3911827956989248]\n",
      "所用参数\n",
      "{'activation': 'relu', 'alpha': 0.006625055427733902, 'hidden_layer_sizes': (100, 100), 'learning_rate': 'constant', 'learning_rate_init': 0.07678837684109556, 'momentum': 0.7479465146049968, 'solver': 'lbfgs'}\n"
     ]
    }
   ],
   "source": [
    "import numpy as np\n",
    "import pandas as pd\n",
    "import warnings\n",
    "from sklearn.neural_network import MLPClassifier\n",
    "from sklearn.model_selection import cross_val_score\n",
    "import hyperopt\n",
    "\n",
    "s_mlp = []\n",
    "def hyperopt_object(params):\n",
    "    clf = MLPClassifier(\n",
    "        random_state=2,\n",
    "        max_iter=1000,\n",
    "        **params\n",
    "    )\n",
    "    scores = np.mean(cross_val_score(clf, X, y, scoring='accuracy', cv=5))\n",
    "    global s_mlp\n",
    "    s_mlp.append(scores)\n",
    "    s_mlp[-1] = np.max(s_mlp)\n",
    "    return 1 - scores\n",
    "params = {\n",
    "    'alpha': hyperopt.hp.uniform('alpha', 1e-5, 1e-2),\n",
    "    'hidden_layer_sizes': hyperopt.hp.choice('hidden_layer_sizes', [(100, 100), (150, 100), (200, 150), (100, )]),\n",
    "    'learning_rate': hyperopt.hp.choice('learning_rate', ['constant', 'invscaling', 'adaptive']),\n",
    "    'solver': hyperopt.hp.choice('solver', ['adam', 'sgd', 'lbfgs']),\n",
    "    'momentum': hyperopt.hp.uniform('momentum', 0, 1),\n",
    "    'activation': hyperopt.hp.choice('activation', ['tanh', 'relu']),\n",
    "    'learning_rate_init': hyperopt.hp.uniform('learning_rate_init', 1e-3, 5e-1)\n",
    "}\n",
    "trials = hyperopt.Trials()\n",
    "res = hyperopt.fmin(\n",
    "    hyperopt_object,\n",
    "    space=params,\n",
    "    algo=hyperopt.tpe.suggest,\n",
    "    max_evals=time,\n",
    "    trials=trials)\n",
    "print('所用参数')\n",
    "res['hidden_layer_sizes'] = [(100, 100), (150, 100), (200, 150), (100, )][res['hidden_layer_sizes']]\n",
    "res['activation'] = ['tanh', 'relu'][res['activation']]\n",
    "res['learning_rate'] = ['constant', 'invscaling', 'adaptive'][res['learning_rate']]\n",
    "res['solver'] = ['adam', 'sgd', 'lbfgs'][res['solver']]\n",
    "print(res)\n",
    "res_mlp = res.copy()"
   ]
  },
  {
   "cell_type": "code",
   "execution_count": 21,
   "id": "220ebcbadc7a758b",
   "metadata": {
    "ExecuteTime": {
     "end_time": "2024-01-31T05:58:26.199587500Z",
     "start_time": "2024-01-31T05:57:59.571585700Z"
    },
    "collapsed": false
   },
   "outputs": [
    {
     "name": "stdout",
     "output_type": "stream",
     "text": [
      "100%|██████████| 30/30 [04:43<00:00,  9.43s/trial, best loss: 0.4436559139784946]\n"
     ]
    }
   ],
   "source": [
    "import numpy as np\n",
    "import pandas as pd\n",
    "from sklearn.model_selection import cross_val_score\n",
    "import warnings\n",
    "import hyperopt\n",
    "warnings.filterwarnings('ignore')\n",
    "warnings.filterwarnings('ignore')\n",
    "\n",
    "s_svm = []\n",
    "from sklearn.svm import SVC\n",
    "def hyperopt_object(params):\n",
    "    clf = SVC(\n",
    "        C=params['C'],\n",
    "        kernel=params['kernel'],\n",
    "        gamma=params['gamma'],\n",
    "        random_state=0\n",
    "    )\n",
    "    scores = np.mean(cross_val_score(clf, X, y, scoring='accuracy', cv=5))\n",
    "    global s_svm\n",
    "    s_svm.append(scores)\n",
    "    s_svm[-1] = np.max(s_svm)\n",
    "    return 1 - scores\n",
    "params = {\n",
    "    'gamma': hyperopt.hp.loguniform('gamma', np.log(0.001), np.log(0.1)),\n",
    "    'kernel':hyperopt.hp.choice('kernel',['rbf','poly']),\n",
    "    'C':hyperopt.hp.loguniform(\"C\", np.log(1), np.log(100))\n",
    "}\n",
    "trials = hyperopt.Trials()\n",
    "res = hyperopt.fmin(\n",
    "    hyperopt_object,\n",
    "    space=params,\n",
    "    algo=hyperopt.tpe.suggest,\n",
    "    max_evals=time,\n",
    "    trials=trials)\n",
    "res['kernel'] = ['rbf','poly'][res['kernel']]\n",
    "res_svm = res.copy()"
   ]
  },
  {
   "cell_type": "code",
   "execution_count": 31,
   "id": "d61019d1093aa1d6",
   "metadata": {
    "ExecuteTime": {
     "end_time": "2024-01-31T05:56:46.356385900Z",
     "start_time": "2024-01-31T05:56:07.917389700Z"
    },
    "collapsed": false
   },
   "outputs": [
    {
     "name": "stdout",
     "output_type": "stream",
     "text": [
      "100%|██████████| 30/30 [00:50<00:00,  1.67s/trial, best loss: 0.24580645161290327]\n"
     ]
    }
   ],
   "source": [
    "import numpy as np\n",
    "from sklearn.model_selection import cross_val_score\n",
    "from xgboost import XGBClassifier\n",
    "import pandas as pd\n",
    "import warnings\n",
    "import hyperopt\n",
    "\n",
    "y_ = y - 1\n",
    "s_xgb = []\n",
    "def hyperopt_object(params):\n",
    "    clf = XGBClassifier(\n",
    "        n_estimators=int(params['n_estimators']),\n",
    "        max_depth=int(params['max_depth']) + 2,\n",
    "        min_child_weight=int(params['min_child_weight']) + 1,\n",
    "        learning_rate=params['learning_rate'],\n",
    "        gamma=params['gamma'],\n",
    "        colsample_bytree=params['colsample_bytree'],\n",
    "        random_state=params['random_state']\n",
    "    )\n",
    "    scores = np.mean(cross_val_score(clf, X, y_, scoring='accuracy', cv=5))\n",
    "    global s_xgb\n",
    "    s_xgb.append(scores)\n",
    "    s_xgb[-1] = np.max(s_xgb)\n",
    "    return 1 - scores\n",
    "params = {\n",
    "    'n_estimators': hyperopt.hp.quniform(\"n_estimators\", 100, 500, 10), # 弱分类器的个数\n",
    "    'max_depth': hyperopt.hp.randint('max_depth', 1, 15),       # 弱分类器（CART回归树）的最大深度\n",
    "    'min_child_weight': hyperopt.hp.randint('min_child_weight', 1, 10), # 分裂内部节点所需的最小样本数\n",
    "    'learning_rate': hyperopt.hp.uniform('learning_rate', 1e-3, 5e-3),  # 学习率\n",
    "    'gamma': hyperopt.hp.uniform('gamma', 1e-3, 2e-1),\n",
    "    'colsample_bytree': hyperopt.hp.uniform('colsample_bytree', 5e-1, 1),\n",
    "    'random_state': 1\n",
    "}\n",
    "trials = hyperopt.Trials()\n",
    "res = hyperopt.fmin(\n",
    "    hyperopt_object,\n",
    "    space=params,\n",
    "    algo=hyperopt.tpe.suggest,\n",
    "    max_evals=time,\n",
    "    trials=trials)\n",
    "res['n_estimators'] = int(res['n_estimators'])\n",
    "res['max_depth'] = int(res['max_depth'])\n",
    "res['min_child_weight'] = int(res['min_child_weight'])\n",
    "res_xgb = res.copy()"
   ]
  },
  {
   "cell_type": "code",
   "execution_count": 17,
   "id": "407b119f",
   "metadata": {},
   "outputs": [
    {
     "name": "stdout",
     "output_type": "stream",
     "text": [
      "100%|██████████| 30/30 [00:45<00:00,  1.53s/trial, best loss: 0.2518279569892473]\n",
      "所用参数\n",
      "{'max_depth': 12, 'max_features': 6, 'n_estimators': 250}\n"
     ]
    }
   ],
   "source": [
    "import numpy as np\n",
    "from sklearn.model_selection import cross_val_score\n",
    "from sklearn.ensemble import RandomForestClassifier\n",
    "clf = RandomForestClassifier()\n",
    "import hyperopt\n",
    "s_rfc = []\n",
    "def hyperopt_object(params):\n",
    "    clf = RandomForestClassifier(\n",
    "        n_estimators=int(params['n_estimators']),\n",
    "        max_depth=int(params['max_depth']),\n",
    "        max_features=int(params['max_features']),\n",
    "        random_state=params['random_state']\n",
    "    )\n",
    "    global s_rfc\n",
    "    scores = np.mean(cross_val_score(clf, X, y, scoring='accuracy', cv=5))\n",
    "    s_rfc.append(scores)\n",
    "    s_rfc[-1] = np.max(s_rfc)\n",
    "    return 1 - scores\n",
    "params = {\n",
    "    'n_estimators': hyperopt.hp.quniform(\"n_estimators\", 100, 500, 10), # 弱分类器的个数\n",
    "    'max_depth': hyperopt.hp.randint('max_depth', 1, 15),       # 弱分类器（CART回归树）的最大深度\n",
    "    'max_features': hyperopt.hp.randint('max_features', 1, 10),\n",
    "    'random_state': 1\n",
    "}\n",
    "trials = hyperopt.Trials()\n",
    "res = hyperopt.fmin(\n",
    "    hyperopt_object,\n",
    "    space=params,\n",
    "    algo=hyperopt.tpe.suggest,\n",
    "    max_evals=time,\n",
    "    trials=trials)\n",
    "res['n_estimators'] = int(res['n_estimators'])\n",
    "res['max_depth'] = int(res['max_depth'])\n",
    "res['max_features'] = int(res['max_features'])\n",
    "print('所用参数')\n",
    "print(res)\n",
    "res_rfc = res.copy()"
   ]
  },
  {
   "cell_type": "code",
   "execution_count": 24,
   "id": "8a681cfe",
   "metadata": {},
   "outputs": [
    {
     "data": {
      "text/html": [
       "<div>\n",
       "<style scoped>\n",
       "    .dataframe tbody tr th:only-of-type {\n",
       "        vertical-align: middle;\n",
       "    }\n",
       "\n",
       "    .dataframe tbody tr th {\n",
       "        vertical-align: top;\n",
       "    }\n",
       "\n",
       "    .dataframe thead th {\n",
       "        text-align: right;\n",
       "    }\n",
       "</style>\n",
       "<table border=\"1\" class=\"dataframe\">\n",
       "  <thead>\n",
       "    <tr style=\"text-align: right;\">\n",
       "      <th></th>\n",
       "      <th>WLC</th>\n",
       "      <th>WLA</th>\n",
       "      <th>WIA</th>\n",
       "      <th>TD</th>\n",
       "      <th>TI</th>\n",
       "      <th>UCS</th>\n",
       "      <th>MTL</th>\n",
       "      <th>TN</th>\n",
       "      <th>ATI</th>\n",
       "      <th>TBD</th>\n",
       "    </tr>\n",
       "  </thead>\n",
       "  <tbody>\n",
       "    <tr>\n",
       "      <th>0</th>\n",
       "      <td>1</td>\n",
       "      <td>0.000</td>\n",
       "      <td>0.000</td>\n",
       "      <td>1.360</td>\n",
       "      <td>1.290</td>\n",
       "      <td>52.64</td>\n",
       "      <td>0.200</td>\n",
       "      <td>2.00</td>\n",
       "      <td>0.680</td>\n",
       "      <td>11</td>\n",
       "    </tr>\n",
       "    <tr>\n",
       "      <th>1</th>\n",
       "      <td>1</td>\n",
       "      <td>10.100</td>\n",
       "      <td>12.350</td>\n",
       "      <td>99.120</td>\n",
       "      <td>26.890</td>\n",
       "      <td>10.20</td>\n",
       "      <td>0.500</td>\n",
       "      <td>7.00</td>\n",
       "      <td>0.550</td>\n",
       "      <td>20</td>\n",
       "    </tr>\n",
       "    <tr>\n",
       "      <th>2</th>\n",
       "      <td>3</td>\n",
       "      <td>8.900</td>\n",
       "      <td>10.230</td>\n",
       "      <td>63.440</td>\n",
       "      <td>18.640</td>\n",
       "      <td>32.00</td>\n",
       "      <td>1.200</td>\n",
       "      <td>15.00</td>\n",
       "      <td>0.320</td>\n",
       "      <td>40</td>\n",
       "    </tr>\n",
       "    <tr>\n",
       "      <th>3</th>\n",
       "      <td>2</td>\n",
       "      <td>4.300</td>\n",
       "      <td>6.010</td>\n",
       "      <td>35.660</td>\n",
       "      <td>11.560</td>\n",
       "      <td>50.56</td>\n",
       "      <td>1.700</td>\n",
       "      <td>18.00</td>\n",
       "      <td>0.100</td>\n",
       "      <td>350</td>\n",
       "    </tr>\n",
       "    <tr>\n",
       "      <th>4</th>\n",
       "      <td>1</td>\n",
       "      <td>0.000</td>\n",
       "      <td>0.000</td>\n",
       "      <td>2.360</td>\n",
       "      <td>3.570</td>\n",
       "      <td>60.25</td>\n",
       "      <td>1.400</td>\n",
       "      <td>14.00</td>\n",
       "      <td>0.180</td>\n",
       "      <td>221</td>\n",
       "    </tr>\n",
       "    <tr>\n",
       "      <th>...</th>\n",
       "      <td>...</td>\n",
       "      <td>...</td>\n",
       "      <td>...</td>\n",
       "      <td>...</td>\n",
       "      <td>...</td>\n",
       "      <td>...</td>\n",
       "      <td>...</td>\n",
       "      <td>...</td>\n",
       "      <td>...</td>\n",
       "      <td>...</td>\n",
       "    </tr>\n",
       "    <tr>\n",
       "      <th>146</th>\n",
       "      <td>2</td>\n",
       "      <td>16.858</td>\n",
       "      <td>8.028</td>\n",
       "      <td>56.476</td>\n",
       "      <td>10.459</td>\n",
       "      <td>11.94</td>\n",
       "      <td>1.760</td>\n",
       "      <td>19.00</td>\n",
       "      <td>0.110</td>\n",
       "      <td>196</td>\n",
       "    </tr>\n",
       "    <tr>\n",
       "      <th>147</th>\n",
       "      <td>3</td>\n",
       "      <td>7.214</td>\n",
       "      <td>3.461</td>\n",
       "      <td>65.889</td>\n",
       "      <td>25.101</td>\n",
       "      <td>21.86</td>\n",
       "      <td>1.490</td>\n",
       "      <td>11.00</td>\n",
       "      <td>0.126</td>\n",
       "      <td>167</td>\n",
       "    </tr>\n",
       "    <tr>\n",
       "      <th>148</th>\n",
       "      <td>3</td>\n",
       "      <td>22.491</td>\n",
       "      <td>2.869</td>\n",
       "      <td>30.330</td>\n",
       "      <td>11.504</td>\n",
       "      <td>16.99</td>\n",
       "      <td>1.350</td>\n",
       "      <td>15.00</td>\n",
       "      <td>0.320</td>\n",
       "      <td>204</td>\n",
       "    </tr>\n",
       "    <tr>\n",
       "      <th>149</th>\n",
       "      <td>4</td>\n",
       "      <td>24.662</td>\n",
       "      <td>6.223</td>\n",
       "      <td>89.944</td>\n",
       "      <td>21.963</td>\n",
       "      <td>7.29</td>\n",
       "      <td>0.980</td>\n",
       "      <td>6.00</td>\n",
       "      <td>0.560</td>\n",
       "      <td>26</td>\n",
       "    </tr>\n",
       "    <tr>\n",
       "      <th>150</th>\n",
       "      <td>1</td>\n",
       "      <td>0.000</td>\n",
       "      <td>0.000</td>\n",
       "      <td>49.155</td>\n",
       "      <td>6.275</td>\n",
       "      <td>17.89</td>\n",
       "      <td>1.095</td>\n",
       "      <td>8.75</td>\n",
       "      <td>0.150</td>\n",
       "      <td>182</td>\n",
       "    </tr>\n",
       "  </tbody>\n",
       "</table>\n",
       "<p>151 rows × 10 columns</p>\n",
       "</div>"
      ],
      "text/plain": [
       "     WLC     WLA     WIA      TD      TI    UCS    MTL     TN    ATI  TBD\n",
       "0      1   0.000   0.000   1.360   1.290  52.64  0.200   2.00  0.680   11\n",
       "1      1  10.100  12.350  99.120  26.890  10.20  0.500   7.00  0.550   20\n",
       "2      3   8.900  10.230  63.440  18.640  32.00  1.200  15.00  0.320   40\n",
       "3      2   4.300   6.010  35.660  11.560  50.56  1.700  18.00  0.100  350\n",
       "4      1   0.000   0.000   2.360   3.570  60.25  1.400  14.00  0.180  221\n",
       "..   ...     ...     ...     ...     ...    ...    ...    ...    ...  ...\n",
       "146    2  16.858   8.028  56.476  10.459  11.94  1.760  19.00  0.110  196\n",
       "147    3   7.214   3.461  65.889  25.101  21.86  1.490  11.00  0.126  167\n",
       "148    3  22.491   2.869  30.330  11.504  16.99  1.350  15.00  0.320  204\n",
       "149    4  24.662   6.223  89.944  21.963   7.29  0.980   6.00  0.560   26\n",
       "150    1   0.000   0.000  49.155   6.275  17.89  1.095   8.75  0.150  182\n",
       "\n",
       "[151 rows x 10 columns]"
      ]
     },
     "execution_count": 24,
     "metadata": {},
     "output_type": "execute_result"
    }
   ],
   "source": [
    "X"
   ]
  },
  {
   "cell_type": "code",
   "execution_count": null,
   "id": "c25a2c3ffe9d576d",
   "metadata": {
    "ExecuteTime": {
     "end_time": "2024-01-29T10:04:32.967396900Z",
     "start_time": "2024-01-29T10:04:32.934402700Z"
    },
    "collapsed": false
   },
   "outputs": [
    {
     "data": {
      "text/plain": [
       "1.0"
      ]
     },
     "execution_count": 13,
     "metadata": {},
     "output_type": "execute_result"
    }
   ],
   "source": [
    "trials.best_trial['result']['loss'] + s_xgb[-1]"
   ]
  },
  {
   "cell_type": "code",
   "execution_count": 9,
   "id": "922d579746ad6a8e",
   "metadata": {
    "ExecuteTime": {
     "end_time": "2024-01-29T10:03:48.111793Z",
     "start_time": "2024-01-29T10:03:48.098795Z"
    },
    "collapsed": false
   },
   "outputs": [
    {
     "data": {
      "text/plain": [
       "[0.6294623655913979,\n",
       " 0.6819354838709677,\n",
       " 0.6819354838709677,\n",
       " 0.6819354838709677,\n",
       " 0.6819354838709677,\n",
       " 0.6819354838709677,\n",
       " 0.6950537634408602,\n",
       " 0.6950537634408602,\n",
       " 0.6950537634408602,\n",
       " 0.7017204301075269]"
      ]
     },
     "execution_count": 9,
     "metadata": {},
     "output_type": "execute_result"
    }
   ],
   "source": [
    "s_xgb"
   ]
  },
  {
   "cell_type": "code",
   "execution_count": 29,
   "id": "47c05f65fb39351d",
   "metadata": {
    "ExecuteTime": {
     "end_time": "2024-01-21T08:09:37.653000800Z",
     "start_time": "2024-01-21T08:09:37.638277900Z"
    },
    "collapsed": false
   },
   "outputs": [
    {
     "name": "stdout",
     "output_type": "stream",
     "text": [
      "{'colsample_bytree': 0.5106581903618277, 'gamma': 0.1666512577303393, 'learning_rate': 0.0033442553897214894, 'max_depth': 2, 'min_child_weight': 1, 'n_estimators': 360}\n"
     ]
    }
   ],
   "source": [
    "print(res_xgb)"
   ]
  },
  {
   "cell_type": "code",
   "execution_count": 32,
   "id": "32415f3067370f8c",
   "metadata": {
    "ExecuteTime": {
     "end_time": "2024-01-28T05:26:12.228903400Z",
     "start_time": "2024-01-28T05:26:12.199684800Z"
    },
    "collapsed": false
   },
   "outputs": [],
   "source": [
    "s_mlp[-2] = s_mlp[-3]\n",
    "s_mlp[-1] = s_mlp[-3]"
   ]
  },
  {
   "cell_type": "code",
   "execution_count": 32,
   "id": "5efb8a201dde0977",
   "metadata": {
    "ExecuteTime": {
     "end_time": "2024-01-31T05:09:12.796790400Z",
     "start_time": "2024-01-31T05:09:12.660791200Z"
    },
    "collapsed": false
   },
   "outputs": [
    {
     "data": {
      "text/plain": [
       "([<matplotlib.axis.XTick at 0x1c4bf88af50>,\n",
       "  <matplotlib.axis.XTick at 0x1c4bf979b40>,\n",
       "  <matplotlib.axis.XTick at 0x1c4bf97ae90>,\n",
       "  <matplotlib.axis.XTick at 0x1c4c56f69e0>,\n",
       "  <matplotlib.axis.XTick at 0x1c4c56f7130>,\n",
       "  <matplotlib.axis.XTick at 0x1c4c56f7100>,\n",
       "  <matplotlib.axis.XTick at 0x1c4c56f7880>],\n",
       " [Text(0, 0, ''),\n",
       "  Text(0, 0, ''),\n",
       "  Text(0, 0, ''),\n",
       "  Text(0, 0, ''),\n",
       "  Text(0, 0, ''),\n",
       "  Text(0, 0, ''),\n",
       "  Text(0, 0, '')])"
      ]
     },
     "execution_count": 32,
     "metadata": {},
     "output_type": "execute_result"
    },
    {
     "data": {
      "image/png": "[encoded data removed]",
      "text/plain": [
       "<Figure size 1000x500 with 1 Axes>"
      ]
     },
     "metadata": {},
     "output_type": "display_data"
    }
   ],
   "source": [
    "import matplotlib.pyplot as plt\n",
    "n = 30\n",
    "xlabel = [i for i in range(1, 1 + n)]\n",
    "plt.figure(figsize=(10, 5))\n",
    "plt.grid(axis='y')\n",
    "plt.xlabel('Iteration')\n",
    "plt.ylabel('Accuracy')\n",
    "plt.title('Model\\'s Accuracy with Tpe Method')\n",
    "plt.plot(xlabel, s_gbrt, label='tpe_gbrt')\n",
    "plt.plot(xlabel, s_svm, label='tpe_svm')\n",
    "plt.plot(xlabel, s_mlp, label='tpe_mlp')\n",
    "plt.plot(xlabel, s_xgb, label='tpe_xgb')\n",
    "plt.legend(loc='lower right')\n",
    "# plt.ylim(0.5, 0.9)\n",
    "plt.xlim(0, 30)\n",
    "plt.xticks([0, 5, 10, 15, 20, 25, 30])"
   ]
  },
  {
   "cell_type": "code",
   "execution_count": 41,
   "id": "2020e931b07d6522",
   "metadata": {
    "ExecuteTime": {
     "end_time": "2024-01-28T05:29:16.062981800Z",
     "start_time": "2024-01-28T05:29:16.025500900Z"
    },
    "collapsed": false
   },
   "outputs": [
    {
     "data": {
      "text/html": [
       "<div>\n",
       "<style scoped>\n",
       "    .dataframe tbody tr th:only-of-type {\n",
       "        vertical-align: middle;\n",
       "    }\n",
       "\n",
       "    .dataframe tbody tr th {\n",
       "        vertical-align: top;\n",
       "    }\n",
       "\n",
       "    .dataframe thead th {\n",
       "        text-align: right;\n",
       "    }\n",
       "</style>\n",
       "<table border=\"1\" class=\"dataframe\">\n",
       "  <thead>\n",
       "    <tr style=\"text-align: right;\">\n",
       "      <th></th>\n",
       "      <th>gbrt</th>\n",
       "      <th>mlp</th>\n",
       "      <th>svm</th>\n",
       "      <th>xgb</th>\n",
       "    </tr>\n",
       "  </thead>\n",
       "  <tbody>\n",
       "    <tr>\n",
       "      <th>0</th>\n",
       "      <td>0.473978</td>\n",
       "      <td>0.522796</td>\n",
       "      <td>0.516344</td>\n",
       "      <td>0.622366</td>\n",
       "    </tr>\n",
       "    <tr>\n",
       "      <th>1</th>\n",
       "      <td>0.767742</td>\n",
       "      <td>0.522796</td>\n",
       "      <td>0.516344</td>\n",
       "      <td>0.701935</td>\n",
       "    </tr>\n",
       "    <tr>\n",
       "      <th>2</th>\n",
       "      <td>0.767742</td>\n",
       "      <td>0.522796</td>\n",
       "      <td>0.516344</td>\n",
       "      <td>0.701935</td>\n",
       "    </tr>\n",
       "    <tr>\n",
       "      <th>3</th>\n",
       "      <td>0.820645</td>\n",
       "      <td>0.569032</td>\n",
       "      <td>0.516344</td>\n",
       "      <td>0.701935</td>\n",
       "    </tr>\n",
       "    <tr>\n",
       "      <th>4</th>\n",
       "      <td>0.820645</td>\n",
       "      <td>0.569032</td>\n",
       "      <td>0.516344</td>\n",
       "      <td>0.701935</td>\n",
       "    </tr>\n",
       "    <tr>\n",
       "      <th>5</th>\n",
       "      <td>0.820645</td>\n",
       "      <td>0.569032</td>\n",
       "      <td>0.521935</td>\n",
       "      <td>0.701935</td>\n",
       "    </tr>\n",
       "    <tr>\n",
       "      <th>6</th>\n",
       "      <td>0.820645</td>\n",
       "      <td>0.569032</td>\n",
       "      <td>0.521935</td>\n",
       "      <td>0.701935</td>\n",
       "    </tr>\n",
       "    <tr>\n",
       "      <th>7</th>\n",
       "      <td>0.820645</td>\n",
       "      <td>0.569032</td>\n",
       "      <td>0.523656</td>\n",
       "      <td>0.701935</td>\n",
       "    </tr>\n",
       "    <tr>\n",
       "      <th>8</th>\n",
       "      <td>0.820645</td>\n",
       "      <td>0.569032</td>\n",
       "      <td>0.602581</td>\n",
       "      <td>0.701935</td>\n",
       "    </tr>\n",
       "    <tr>\n",
       "      <th>9</th>\n",
       "      <td>0.820645</td>\n",
       "      <td>0.569032</td>\n",
       "      <td>0.602581</td>\n",
       "      <td>0.701935</td>\n",
       "    </tr>\n",
       "    <tr>\n",
       "      <th>10</th>\n",
       "      <td>0.820645</td>\n",
       "      <td>0.575699</td>\n",
       "      <td>0.602581</td>\n",
       "      <td>0.721505</td>\n",
       "    </tr>\n",
       "    <tr>\n",
       "      <th>11</th>\n",
       "      <td>0.820645</td>\n",
       "      <td>0.575699</td>\n",
       "      <td>0.602581</td>\n",
       "      <td>0.721505</td>\n",
       "    </tr>\n",
       "    <tr>\n",
       "      <th>12</th>\n",
       "      <td>0.820645</td>\n",
       "      <td>0.575699</td>\n",
       "      <td>0.602581</td>\n",
       "      <td>0.721505</td>\n",
       "    </tr>\n",
       "    <tr>\n",
       "      <th>13</th>\n",
       "      <td>0.820645</td>\n",
       "      <td>0.609247</td>\n",
       "      <td>0.602581</td>\n",
       "      <td>0.721505</td>\n",
       "    </tr>\n",
       "    <tr>\n",
       "      <th>14</th>\n",
       "      <td>0.820645</td>\n",
       "      <td>0.609247</td>\n",
       "      <td>0.602581</td>\n",
       "      <td>0.721505</td>\n",
       "    </tr>\n",
       "    <tr>\n",
       "      <th>15</th>\n",
       "      <td>0.820645</td>\n",
       "      <td>0.609247</td>\n",
       "      <td>0.602581</td>\n",
       "      <td>0.721505</td>\n",
       "    </tr>\n",
       "    <tr>\n",
       "      <th>16</th>\n",
       "      <td>0.820645</td>\n",
       "      <td>0.609247</td>\n",
       "      <td>0.602581</td>\n",
       "      <td>0.721505</td>\n",
       "    </tr>\n",
       "    <tr>\n",
       "      <th>17</th>\n",
       "      <td>0.820645</td>\n",
       "      <td>0.609247</td>\n",
       "      <td>0.602581</td>\n",
       "      <td>0.721505</td>\n",
       "    </tr>\n",
       "    <tr>\n",
       "      <th>18</th>\n",
       "      <td>0.840430</td>\n",
       "      <td>0.609247</td>\n",
       "      <td>0.602581</td>\n",
       "      <td>0.721505</td>\n",
       "    </tr>\n",
       "    <tr>\n",
       "      <th>19</th>\n",
       "      <td>0.840430</td>\n",
       "      <td>0.609247</td>\n",
       "      <td>0.602581</td>\n",
       "      <td>0.721505</td>\n",
       "    </tr>\n",
       "    <tr>\n",
       "      <th>20</th>\n",
       "      <td>0.840430</td>\n",
       "      <td>0.609247</td>\n",
       "      <td>0.602581</td>\n",
       "      <td>0.721505</td>\n",
       "    </tr>\n",
       "    <tr>\n",
       "      <th>21</th>\n",
       "      <td>0.840430</td>\n",
       "      <td>0.609247</td>\n",
       "      <td>0.602581</td>\n",
       "      <td>0.734624</td>\n",
       "    </tr>\n",
       "    <tr>\n",
       "      <th>22</th>\n",
       "      <td>0.840430</td>\n",
       "      <td>0.609247</td>\n",
       "      <td>0.602581</td>\n",
       "      <td>0.734624</td>\n",
       "    </tr>\n",
       "    <tr>\n",
       "      <th>23</th>\n",
       "      <td>0.840430</td>\n",
       "      <td>0.609247</td>\n",
       "      <td>0.602581</td>\n",
       "      <td>0.754409</td>\n",
       "    </tr>\n",
       "    <tr>\n",
       "      <th>24</th>\n",
       "      <td>0.840430</td>\n",
       "      <td>0.609247</td>\n",
       "      <td>0.609247</td>\n",
       "      <td>0.754409</td>\n",
       "    </tr>\n",
       "    <tr>\n",
       "      <th>25</th>\n",
       "      <td>0.840430</td>\n",
       "      <td>0.609247</td>\n",
       "      <td>0.609247</td>\n",
       "      <td>0.754409</td>\n",
       "    </tr>\n",
       "    <tr>\n",
       "      <th>26</th>\n",
       "      <td>0.840430</td>\n",
       "      <td>0.609247</td>\n",
       "      <td>0.609247</td>\n",
       "      <td>0.754409</td>\n",
       "    </tr>\n",
       "    <tr>\n",
       "      <th>27</th>\n",
       "      <td>0.840430</td>\n",
       "      <td>0.609247</td>\n",
       "      <td>0.609247</td>\n",
       "      <td>0.754409</td>\n",
       "    </tr>\n",
       "    <tr>\n",
       "      <th>28</th>\n",
       "      <td>0.840430</td>\n",
       "      <td>0.609247</td>\n",
       "      <td>0.609247</td>\n",
       "      <td>0.754409</td>\n",
       "    </tr>\n",
       "    <tr>\n",
       "      <th>29</th>\n",
       "      <td>0.840430</td>\n",
       "      <td>0.609247</td>\n",
       "      <td>0.609247</td>\n",
       "      <td>0.754409</td>\n",
       "    </tr>\n",
       "  </tbody>\n",
       "</table>\n",
       "</div>"
      ],
      "text/plain": [
       "        gbrt       mlp       svm       xgb\n",
       "0   0.473978  0.522796  0.516344  0.622366\n",
       "1   0.767742  0.522796  0.516344  0.701935\n",
       "2   0.767742  0.522796  0.516344  0.701935\n",
       "3   0.820645  0.569032  0.516344  0.701935\n",
       "4   0.820645  0.569032  0.516344  0.701935\n",
       "5   0.820645  0.569032  0.521935  0.701935\n",
       "6   0.820645  0.569032  0.521935  0.701935\n",
       "7   0.820645  0.569032  0.523656  0.701935\n",
       "8   0.820645  0.569032  0.602581  0.701935\n",
       "9   0.820645  0.569032  0.602581  0.701935\n",
       "10  0.820645  0.575699  0.602581  0.721505\n",
       "11  0.820645  0.575699  0.602581  0.721505\n",
       "12  0.820645  0.575699  0.602581  0.721505\n",
       "13  0.820645  0.609247  0.602581  0.721505\n",
       "14  0.820645  0.609247  0.602581  0.721505\n",
       "15  0.820645  0.609247  0.602581  0.721505\n",
       "16  0.820645  0.609247  0.602581  0.721505\n",
       "17  0.820645  0.609247  0.602581  0.721505\n",
       "18  0.840430  0.609247  0.602581  0.721505\n",
       "19  0.840430  0.609247  0.602581  0.721505\n",
       "20  0.840430  0.609247  0.602581  0.721505\n",
       "21  0.840430  0.609247  0.602581  0.734624\n",
       "22  0.840430  0.609247  0.602581  0.734624\n",
       "23  0.840430  0.609247  0.602581  0.754409\n",
       "24  0.840430  0.609247  0.609247  0.754409\n",
       "25  0.840430  0.609247  0.609247  0.754409\n",
       "26  0.840430  0.609247  0.609247  0.754409\n",
       "27  0.840430  0.609247  0.609247  0.754409\n",
       "28  0.840430  0.609247  0.609247  0.754409\n",
       "29  0.840430  0.609247  0.609247  0.754409"
      ]
     },
     "execution_count": 41,
     "metadata": {},
     "output_type": "execute_result"
    }
   ],
   "source": [
    "df1 = pd.DataFrame(s_gbrt, columns=['gbrt'])\n",
    "df1['mlp'] = s_mlp\n",
    "df1['svm'] = s_svm\n",
    "df1['xgb'] = s_xgb\n",
    "df1"
   ]
  },
  {
   "cell_type": "code",
   "execution_count": 50,
   "id": "6719b7615e04a63",
   "metadata": {
    "ExecuteTime": {
     "end_time": "2024-01-28T06:48:11.756421200Z",
     "start_time": "2024-01-28T06:48:11.732312100Z"
    },
    "collapsed": false
   },
   "outputs": [],
   "source": [
    "import os\n",
    "if not os.path.exists('result_dict'):\n",
    "    os.mkdir('result_dict')\n",
    "\n",
    "np.savez('result_dict/gbrt.npz', dict_gbrt)\n",
    "np.savez('result_dict/svm.npz', dict_svm)\n",
    "np.savez('result_dict/xgb.npz', dict_xgb)\n",
    "np.savez('result_dict/mlp.npz', dict_mlp)"
   ]
  },
  {
   "cell_type": "code",
   "execution_count": 66,
   "id": "c1405e635162b407",
   "metadata": {
    "ExecuteTime": {
     "end_time": "2024-01-28T06:57:23.825732200Z",
     "start_time": "2024-01-28T06:57:23.799799100Z"
    },
    "collapsed": false
   },
   "outputs": [
    {
     "data": {
      "text/plain": [
       "['saved_models/mlp.pkl']"
      ]
     },
     "execution_count": 66,
     "metadata": {},
     "output_type": "execute_result"
    }
   ],
   "source": [
    "import joblib\n",
    "if not os.path.exists('saved_model'):\n",
    "    os.mkdir('saved_models')\n",
    "joblib.dump(mlp, 'saved_models/mlp.pkl')"
   ]
  },
  {
   "cell_type": "code",
   "execution_count": 73,
   "id": "c915df2a28b143c0",
   "metadata": {
    "ExecuteTime": {
     "end_time": "2024-01-28T07:05:42.085096100Z",
     "start_time": "2024-01-28T07:05:42.034740900Z"
    },
    "collapsed": false
   },
   "outputs": [
    {
     "name": "stdout",
     "output_type": "stream",
     "text": [
      "xgb: \n",
      "{'colsample_bytree': 0.5038409683775559, 'gamma': 0.0018767787349455748, 'learning_rate': 0.004532682368432205, 'max_depth': 9, 'min_child_weight': 1, 'n_estimators': 260}\n",
      "--------------------------------------------------\n",
      "svm: \n",
      "{'C': 71.06202765899431, 'gamma': 0.0013881625198396872, 'kernel': 'rbf'}\n",
      "--------------------------------------------------\n",
      "gbrt: \n",
      "{'learning_rate': 0.4904590578751573, 'max_depth': 6, 'max_features': 9, 'min_samples_split': 11, 'n_estimators': 240, 'subsample': 0.9720909229026078}\n",
      "--------------------------------------------------\n",
      "mlp: \n",
      "{'activation': 'tanh', 'alpha': 0.0012814310933205921, 'hidden_layer_sizes': (200, 150), 'learning_rate': 'adaptive', 'learning_rate_init': 0.1938983148106443, 'momentum': 0.14105192297897945, 'solver': 'lbfgs'}\n"
     ]
    }
   ],
   "source": [
    "print('xgb: ')\n",
    "print(res_xgb)\n",
    "print('-' * 50)\n",
    "print('svm: ')\n",
    "print(res_svm)\n",
    "print('-' * 50)\n",
    "print('gbrt: ')\n",
    "print(res_gbrt)\n",
    "print('-' * 50)\n",
    "print('mlp: ')\n",
    "print(res_mlp)"
   ]
  },
  {
   "cell_type": "code",
   "execution_count": 74,
   "id": "4af99ba06b9e04bf",
   "metadata": {
    "ExecuteTime": {
     "end_time": "2024-01-28T07:06:51.714830100Z",
     "start_time": "2024-01-28T07:06:51.686515200Z"
    },
    "collapsed": false
   },
   "outputs": [
    {
     "data": {
      "text/plain": [
       "{'activation': 'tanh',\n",
       " 'alpha': 0.0012814310933205921,\n",
       " 'batch_size': 'auto',\n",
       " 'beta_1': 0.9,\n",
       " 'beta_2': 0.999,\n",
       " 'early_stopping': False,\n",
       " 'epsilon': 1e-08,\n",
       " 'hidden_layer_sizes': (200, 150),\n",
       " 'learning_rate': 'adaptive',\n",
       " 'learning_rate_init': 0.1938983148106443,\n",
       " 'max_fun': 15000,\n",
       " 'max_iter': 200,\n",
       " 'momentum': 0.14105192297897945,\n",
       " 'n_iter_no_change': 10,\n",
       " 'nesterovs_momentum': True,\n",
       " 'power_t': 0.5,\n",
       " 'random_state': None,\n",
       " 'shuffle': True,\n",
       " 'solver': 'lbfgs',\n",
       " 'tol': 0.0001,\n",
       " 'validation_fraction': 0.1,\n",
       " 'verbose': False,\n",
       " 'warm_start': False}"
      ]
     },
     "execution_count": 74,
     "metadata": {},
     "output_type": "execute_result"
    }
   ],
   "source": [
    "mlp_1.get_params()"
   ]
  },
  {
   "cell_type": "code",
   "execution_count": 36,
   "id": "bfcd3f13baa97473",
   "metadata": {
    "ExecuteTime": {
     "end_time": "2024-01-28T05:26:40.795810Z",
     "start_time": "2024-01-28T05:26:39.681245200Z"
    },
    "collapsed": false
   },
   "outputs": [
    {
     "ename": "ValueError",
     "evalue": "Invalid classes inferred from unique values of `y`.  Expected: [0 1 2 3 4], got [1 2 3 4 5]",
     "output_type": "error",
     "traceback": [
      "\u001b[1;31m---------------------------------------------------------------------------\u001b[0m",
      "\u001b[1;31mValueError\u001b[0m                                Traceback (most recent call last)",
      "Cell \u001b[1;32mIn[36], line 21\u001b[0m\n\u001b[0;32m     19\u001b[0m ypred_svm_test \u001b[38;5;241m=\u001b[39m clf_svm\u001b[38;5;241m.\u001b[39mpredict(X_test)\n\u001b[0;32m     20\u001b[0m clf_xgb \u001b[38;5;241m=\u001b[39m XGBClassifier(\u001b[38;5;241m*\u001b[39m\u001b[38;5;241m*\u001b[39mres_xgb)\n\u001b[1;32m---> 21\u001b[0m \u001b[43mclf_xgb\u001b[49m\u001b[38;5;241;43m.\u001b[39;49m\u001b[43mfit\u001b[49m\u001b[43m(\u001b[49m\u001b[43mX_train\u001b[49m\u001b[43m,\u001b[49m\u001b[43m \u001b[49m\u001b[43my_train\u001b[49m\u001b[43m)\u001b[49m\n\u001b[0;32m     22\u001b[0m ypred_xgb_train \u001b[38;5;241m=\u001b[39m clf_xgb\u001b[38;5;241m.\u001b[39mpredict(X_train)\n\u001b[0;32m     23\u001b[0m ypred_xgb_test \u001b[38;5;241m=\u001b[39m clf_xgb\u001b[38;5;241m.\u001b[39mpredict(X_test)\n",
      "File \u001b[1;32mD:\\program\\navigator\\envs\\sno\\lib\\site-packages\\xgboost\\core.py:620\u001b[0m, in \u001b[0;36mrequire_keyword_args.<locals>.throw_if.<locals>.inner_f\u001b[1;34m(*args, **kwargs)\u001b[0m\n\u001b[0;32m    618\u001b[0m \u001b[38;5;28;01mfor\u001b[39;00m k, arg \u001b[38;5;129;01min\u001b[39;00m \u001b[38;5;28mzip\u001b[39m(sig\u001b[38;5;241m.\u001b[39mparameters, args):\n\u001b[0;32m    619\u001b[0m     kwargs[k] \u001b[38;5;241m=\u001b[39m arg\n\u001b[1;32m--> 620\u001b[0m \u001b[38;5;28;01mreturn\u001b[39;00m func(\u001b[38;5;241m*\u001b[39m\u001b[38;5;241m*\u001b[39mkwargs)\n",
      "File \u001b[1;32mD:\\program\\navigator\\envs\\sno\\lib\\site-packages\\xgboost\\sklearn.py:1440\u001b[0m, in \u001b[0;36mXGBClassifier.fit\u001b[1;34m(self, X, y, sample_weight, base_margin, eval_set, eval_metric, early_stopping_rounds, verbose, xgb_model, sample_weight_eval_set, base_margin_eval_set, feature_weights, callbacks)\u001b[0m\n\u001b[0;32m   1435\u001b[0m     expected_classes \u001b[38;5;241m=\u001b[39m np\u001b[38;5;241m.\u001b[39marange(\u001b[38;5;28mself\u001b[39m\u001b[38;5;241m.\u001b[39mn_classes_)\n\u001b[0;32m   1436\u001b[0m \u001b[38;5;28;01mif\u001b[39;00m (\n\u001b[0;32m   1437\u001b[0m     \u001b[38;5;28mself\u001b[39m\u001b[38;5;241m.\u001b[39mclasses_\u001b[38;5;241m.\u001b[39mshape \u001b[38;5;241m!=\u001b[39m expected_classes\u001b[38;5;241m.\u001b[39mshape\n\u001b[0;32m   1438\u001b[0m     \u001b[38;5;129;01mor\u001b[39;00m \u001b[38;5;129;01mnot\u001b[39;00m (\u001b[38;5;28mself\u001b[39m\u001b[38;5;241m.\u001b[39mclasses_ \u001b[38;5;241m==\u001b[39m expected_classes)\u001b[38;5;241m.\u001b[39mall()\n\u001b[0;32m   1439\u001b[0m ):\n\u001b[1;32m-> 1440\u001b[0m     \u001b[38;5;28;01mraise\u001b[39;00m \u001b[38;5;167;01mValueError\u001b[39;00m(\n\u001b[0;32m   1441\u001b[0m         \u001b[38;5;124mf\u001b[39m\u001b[38;5;124m\"\u001b[39m\u001b[38;5;124mInvalid classes inferred from unique values of `y`.  \u001b[39m\u001b[38;5;124m\"\u001b[39m\n\u001b[0;32m   1442\u001b[0m         \u001b[38;5;124mf\u001b[39m\u001b[38;5;124m\"\u001b[39m\u001b[38;5;124mExpected: \u001b[39m\u001b[38;5;132;01m{\u001b[39;00mexpected_classes\u001b[38;5;132;01m}\u001b[39;00m\u001b[38;5;124m, got \u001b[39m\u001b[38;5;132;01m{\u001b[39;00m\u001b[38;5;28mself\u001b[39m\u001b[38;5;241m.\u001b[39mclasses_\u001b[38;5;132;01m}\u001b[39;00m\u001b[38;5;124m\"\u001b[39m\n\u001b[0;32m   1443\u001b[0m     )\n\u001b[0;32m   1445\u001b[0m params \u001b[38;5;241m=\u001b[39m \u001b[38;5;28mself\u001b[39m\u001b[38;5;241m.\u001b[39mget_xgb_params()\n\u001b[0;32m   1447\u001b[0m \u001b[38;5;28;01mif\u001b[39;00m callable(\u001b[38;5;28mself\u001b[39m\u001b[38;5;241m.\u001b[39mobjective):\n",
      "\u001b[1;31mValueError\u001b[0m: Invalid classes inferred from unique values of `y`.  Expected: [0 1 2 3 4], got [1 2 3 4 5]"
     ]
    }
   ],
   "source": [
    "from sklearn.model_selection import train_test_split\n",
    "X_train, X_test, y_train, y_test = train_test_split(X, y, test_size=0.2, random_state=10)\n",
    "aver = X_train.mean(axis=0)\n",
    "std = X_train.std(axis=0)\n",
    "X_train = (X_train-aver)/std\n",
    "X_test = (X_test-aver)/std\n",
    "from sklearn import metrics\n",
    "clf_gbrt = GradientBoostingClassifier(**res_gbrt)\n",
    "clf_gbrt.fit(X_train, y_train)\n",
    "ypred_gbrt_train = clf_gbrt.predict(X_train)\n",
    "ypred_gbrt_test = clf_gbrt.predict(X_test)\n",
    "clf_mlp = MLPClassifier(**res_mlp)\n",
    "clf_mlp.fit(X_train, y_train)\n",
    "ypred_mlp_train = clf_mlp.predict(X_train)\n",
    "ypred_mlp_test = clf_mlp.predict(X_test)\n",
    "clf_svm = SVC(**res_svm)\n",
    "clf_svm.fit(X_train, y_train)\n",
    "ypred_svm_train = clf_svm.predict(X_train)\n",
    "ypred_svm_test = clf_svm.predict(X_test)\n",
    "clf_xgb = XGBClassifier(**res_xgb)\n",
    "clf_xgb.fit(X_train, y_train)\n",
    "ypred_xgb_train = clf_xgb.predict(X_train)\n",
    "ypred_xgb_test = clf_xgb.predict(X_test)"
   ]
  },
  {
   "cell_type": "code",
   "execution_count": 54,
   "id": "51037ae3f10e279c",
   "metadata": {
    "ExecuteTime": {
     "end_time": "2023-12-19T19:16:29.931485500Z",
     "start_time": "2023-12-19T19:16:29.837110600Z"
    },
    "collapsed": false
   },
   "outputs": [
    {
     "data": {
      "image/png": "[encoded data removed]",
      "text/plain": [
       "<Figure size 500x500 with 1 Axes>"
      ]
     },
     "metadata": {},
     "output_type": "display_data"
    }
   ],
   "source": [
    "plt.figure(figsize=(5, 5))\n",
    "plt.scatter(y_train, ypred_xgb_train)\n",
    "plt.ylim(0, 5)\n",
    "plt.xlim(0, 5)\n",
    "plt.grid()"
   ]
  },
  {
   "cell_type": "code",
   "execution_count": 97,
   "id": "54d97f63",
   "metadata": {},
   "outputs": [],
   "source": [
    "df_train = pd.read_csv(r'..\\..\\Data\\隧道围岩项目\\训练集.csv')\n",
    "X = df_train.iloc[:, 1:]\n",
    "y = df_train.iloc[:, 0]"
   ]
  },
  {
   "cell_type": "code",
   "execution_count": 115,
   "id": "320f49fdc9d8f950",
   "metadata": {
    "ExecuteTime": {
     "end_time": "2024-01-28T06:42:28.258028900Z",
     "start_time": "2024-01-28T06:42:19.738907800Z"
    },
    "collapsed": false
   },
   "outputs": [
    {
     "name": "stderr",
     "output_type": "stream",
     "text": [
      "d:\\program\\navigator\\envs\\Tf\\lib\\site-packages\\sklearn\\metrics\\_classification.py:1344: UndefinedMetricWarning: Precision and F-score are ill-defined and being set to 0.0 in labels with no predicted samples. Use `zero_division` parameter to control this behavior.\n",
      "  _warn_prf(average, modifier, msg_start, len(result))\n",
      "d:\\program\\navigator\\envs\\Tf\\lib\\site-packages\\sklearn\\metrics\\_classification.py:1344: UndefinedMetricWarning: Precision and F-score are ill-defined and being set to 0.0 in labels with no predicted samples. Use `zero_division` parameter to control this behavior.\n",
      "  _warn_prf(average, modifier, msg_start, len(result))\n",
      "d:\\program\\navigator\\envs\\Tf\\lib\\site-packages\\sklearn\\metrics\\_classification.py:1344: UndefinedMetricWarning: Precision and F-score are ill-defined and being set to 0.0 in labels with no predicted samples. Use `zero_division` parameter to control this behavior.\n",
      "  _warn_prf(average, modifier, msg_start, len(result))\n",
      "d:\\program\\navigator\\envs\\Tf\\lib\\site-packages\\sklearn\\metrics\\_classification.py:1344: UndefinedMetricWarning: Precision and F-score are ill-defined and being set to 0.0 in labels with no predicted samples. Use `zero_division` parameter to control this behavior.\n",
      "  _warn_prf(average, modifier, msg_start, len(result))\n",
      "d:\\program\\navigator\\envs\\Tf\\lib\\site-packages\\sklearn\\metrics\\_classification.py:1344: UndefinedMetricWarning: Precision and F-score are ill-defined and being set to 0.0 in labels with no predicted samples. Use `zero_division` parameter to control this behavior.\n",
      "  _warn_prf(average, modifier, msg_start, len(result))\n",
      "d:\\program\\navigator\\envs\\Tf\\lib\\site-packages\\sklearn\\metrics\\_classification.py:1344: UndefinedMetricWarning: Precision and F-score are ill-defined and being set to 0.0 in labels with no predicted samples. Use `zero_division` parameter to control this behavior.\n",
      "  _warn_prf(average, modifier, msg_start, len(result))\n",
      "d:\\program\\navigator\\envs\\Tf\\lib\\site-packages\\sklearn\\neural_network\\_multilayer_perceptron.py:541: ConvergenceWarning: lbfgs failed to converge (status=1):\n",
      "STOP: TOTAL NO. of ITERATIONS REACHED LIMIT.\n",
      "\n",
      "Increase the number of iterations (max_iter) or scale the data as shown in:\n",
      "    https://scikit-learn.org/stable/modules/preprocessing.html\n",
      "  self.n_iter_ = _check_optimize_result(\"lbfgs\", opt_res, self.max_iter)\n",
      "d:\\program\\navigator\\envs\\Tf\\lib\\site-packages\\sklearn\\metrics\\_classification.py:1344: UndefinedMetricWarning: Recall and F-score are ill-defined and being set to 0.0 in labels with no true samples. Use `zero_division` parameter to control this behavior.\n",
      "  _warn_prf(average, modifier, msg_start, len(result))\n",
      "d:\\program\\navigator\\envs\\Tf\\lib\\site-packages\\sklearn\\metrics\\_classification.py:1344: UndefinedMetricWarning: Recall and F-score are ill-defined and being set to 0.0 in labels with no true samples. Use `zero_division` parameter to control this behavior.\n",
      "  _warn_prf(average, modifier, msg_start, len(result))\n",
      "d:\\program\\navigator\\envs\\Tf\\lib\\site-packages\\sklearn\\metrics\\_classification.py:1344: UndefinedMetricWarning: Recall and F-score are ill-defined and being set to 0.0 in labels with no true samples. Use `zero_division` parameter to control this behavior.\n",
      "  _warn_prf(average, modifier, msg_start, len(result))\n",
      "d:\\program\\navigator\\envs\\Tf\\lib\\site-packages\\sklearn\\metrics\\_classification.py:1344: UndefinedMetricWarning: Recall and F-score are ill-defined and being set to 0.0 in labels with no true samples. Use `zero_division` parameter to control this behavior.\n",
      "  _warn_prf(average, modifier, msg_start, len(result))\n",
      "d:\\program\\navigator\\envs\\Tf\\lib\\site-packages\\sklearn\\metrics\\_classification.py:1344: UndefinedMetricWarning: Recall and F-score are ill-defined and being set to 0.0 in labels with no true samples. Use `zero_division` parameter to control this behavior.\n",
      "  _warn_prf(average, modifier, msg_start, len(result))\n",
      "d:\\program\\navigator\\envs\\Tf\\lib\\site-packages\\sklearn\\metrics\\_classification.py:1344: UndefinedMetricWarning: Recall and F-score are ill-defined and being set to 0.0 in labels with no true samples. Use `zero_division` parameter to control this behavior.\n",
      "  _warn_prf(average, modifier, msg_start, len(result))\n",
      "d:\\program\\navigator\\envs\\Tf\\lib\\site-packages\\sklearn\\metrics\\_classification.py:1344: UndefinedMetricWarning: Precision and F-score are ill-defined and being set to 0.0 in labels with no predicted samples. Use `zero_division` parameter to control this behavior.\n",
      "  _warn_prf(average, modifier, msg_start, len(result))\n",
      "d:\\program\\navigator\\envs\\Tf\\lib\\site-packages\\sklearn\\metrics\\_classification.py:1344: UndefinedMetricWarning: Precision and F-score are ill-defined and being set to 0.0 in labels with no predicted samples. Use `zero_division` parameter to control this behavior.\n",
      "  _warn_prf(average, modifier, msg_start, len(result))\n",
      "d:\\program\\navigator\\envs\\Tf\\lib\\site-packages\\sklearn\\metrics\\_classification.py:1344: UndefinedMetricWarning: Precision and F-score are ill-defined and being set to 0.0 in labels with no predicted samples. Use `zero_division` parameter to control this behavior.\n",
      "  _warn_prf(average, modifier, msg_start, len(result))\n",
      "d:\\program\\navigator\\envs\\Tf\\lib\\site-packages\\sklearn\\metrics\\_classification.py:1344: UndefinedMetricWarning: Precision and F-score are ill-defined and being set to 0.0 in labels with no predicted samples. Use `zero_division` parameter to control this behavior.\n",
      "  _warn_prf(average, modifier, msg_start, len(result))\n",
      "d:\\program\\navigator\\envs\\Tf\\lib\\site-packages\\sklearn\\metrics\\_classification.py:1344: UndefinedMetricWarning: Precision and F-score are ill-defined and being set to 0.0 in labels with no predicted samples. Use `zero_division` parameter to control this behavior.\n",
      "  _warn_prf(average, modifier, msg_start, len(result))\n",
      "d:\\program\\navigator\\envs\\Tf\\lib\\site-packages\\sklearn\\metrics\\_classification.py:1344: UndefinedMetricWarning: Precision and F-score are ill-defined and being set to 0.0 in labels with no predicted samples. Use `zero_division` parameter to control this behavior.\n",
      "  _warn_prf(average, modifier, msg_start, len(result))\n",
      "d:\\program\\navigator\\envs\\Tf\\lib\\site-packages\\sklearn\\neural_network\\_multilayer_perceptron.py:541: ConvergenceWarning: lbfgs failed to converge (status=1):\n",
      "STOP: TOTAL NO. of ITERATIONS REACHED LIMIT.\n",
      "\n",
      "Increase the number of iterations (max_iter) or scale the data as shown in:\n",
      "    https://scikit-learn.org/stable/modules/preprocessing.html\n",
      "  self.n_iter_ = _check_optimize_result(\"lbfgs\", opt_res, self.max_iter)\n",
      "d:\\program\\navigator\\envs\\Tf\\lib\\site-packages\\sklearn\\metrics\\_classification.py:1344: UndefinedMetricWarning: Precision and F-score are ill-defined and being set to 0.0 in labels with no predicted samples. Use `zero_division` parameter to control this behavior.\n",
      "  _warn_prf(average, modifier, msg_start, len(result))\n",
      "d:\\program\\navigator\\envs\\Tf\\lib\\site-packages\\sklearn\\metrics\\_classification.py:1344: UndefinedMetricWarning: Precision and F-score are ill-defined and being set to 0.0 in labels with no predicted samples. Use `zero_division` parameter to control this behavior.\n",
      "  _warn_prf(average, modifier, msg_start, len(result))\n",
      "d:\\program\\navigator\\envs\\Tf\\lib\\site-packages\\sklearn\\metrics\\_classification.py:1344: UndefinedMetricWarning: Precision and F-score are ill-defined and being set to 0.0 in labels with no predicted samples. Use `zero_division` parameter to control this behavior.\n",
      "  _warn_prf(average, modifier, msg_start, len(result))\n",
      "d:\\program\\navigator\\envs\\Tf\\lib\\site-packages\\sklearn\\neural_network\\_multilayer_perceptron.py:541: ConvergenceWarning: lbfgs failed to converge (status=1):\n",
      "STOP: TOTAL NO. of ITERATIONS REACHED LIMIT.\n",
      "\n",
      "Increase the number of iterations (max_iter) or scale the data as shown in:\n",
      "    https://scikit-learn.org/stable/modules/preprocessing.html\n",
      "  self.n_iter_ = _check_optimize_result(\"lbfgs\", opt_res, self.max_iter)\n",
      "d:\\program\\navigator\\envs\\Tf\\lib\\site-packages\\sklearn\\metrics\\_classification.py:1344: UndefinedMetricWarning: Recall and F-score are ill-defined and being set to 0.0 in labels with no true samples. Use `zero_division` parameter to control this behavior.\n",
      "  _warn_prf(average, modifier, msg_start, len(result))\n",
      "d:\\program\\navigator\\envs\\Tf\\lib\\site-packages\\sklearn\\metrics\\_classification.py:1344: UndefinedMetricWarning: Recall and F-score are ill-defined and being set to 0.0 in labels with no true samples. Use `zero_division` parameter to control this behavior.\n",
      "  _warn_prf(average, modifier, msg_start, len(result))\n",
      "d:\\program\\navigator\\envs\\Tf\\lib\\site-packages\\sklearn\\metrics\\_classification.py:1344: UndefinedMetricWarning: Recall and F-score are ill-defined and being set to 0.0 in labels with no true samples. Use `zero_division` parameter to control this behavior.\n",
      "  _warn_prf(average, modifier, msg_start, len(result))\n",
      "d:\\program\\navigator\\envs\\Tf\\lib\\site-packages\\sklearn\\metrics\\_classification.py:1344: UndefinedMetricWarning: Precision and F-score are ill-defined and being set to 0.0 in labels with no predicted samples. Use `zero_division` parameter to control this behavior.\n",
      "  _warn_prf(average, modifier, msg_start, len(result))\n",
      "d:\\program\\navigator\\envs\\Tf\\lib\\site-packages\\sklearn\\metrics\\_classification.py:1344: UndefinedMetricWarning: Precision and F-score are ill-defined and being set to 0.0 in labels with no predicted samples. Use `zero_division` parameter to control this behavior.\n",
      "  _warn_prf(average, modifier, msg_start, len(result))\n",
      "d:\\program\\navigator\\envs\\Tf\\lib\\site-packages\\sklearn\\metrics\\_classification.py:1344: UndefinedMetricWarning: Precision and F-score are ill-defined and being set to 0.0 in labels with no predicted samples. Use `zero_division` parameter to control this behavior.\n",
      "  _warn_prf(average, modifier, msg_start, len(result))\n",
      "d:\\program\\navigator\\envs\\Tf\\lib\\site-packages\\sklearn\\metrics\\_classification.py:1344: UndefinedMetricWarning: Precision and F-score are ill-defined and being set to 0.0 in labels with no predicted samples. Use `zero_division` parameter to control this behavior.\n",
      "  _warn_prf(average, modifier, msg_start, len(result))\n",
      "d:\\program\\navigator\\envs\\Tf\\lib\\site-packages\\sklearn\\metrics\\_classification.py:1344: UndefinedMetricWarning: Precision and F-score are ill-defined and being set to 0.0 in labels with no predicted samples. Use `zero_division` parameter to control this behavior.\n",
      "  _warn_prf(average, modifier, msg_start, len(result))\n",
      "d:\\program\\navigator\\envs\\Tf\\lib\\site-packages\\sklearn\\metrics\\_classification.py:1344: UndefinedMetricWarning: Precision and F-score are ill-defined and being set to 0.0 in labels with no predicted samples. Use `zero_division` parameter to control this behavior.\n",
      "  _warn_prf(average, modifier, msg_start, len(result))\n",
      "d:\\program\\navigator\\envs\\Tf\\lib\\site-packages\\sklearn\\neural_network\\_multilayer_perceptron.py:541: ConvergenceWarning: lbfgs failed to converge (status=1):\n",
      "STOP: TOTAL NO. of ITERATIONS REACHED LIMIT.\n",
      "\n",
      "Increase the number of iterations (max_iter) or scale the data as shown in:\n",
      "    https://scikit-learn.org/stable/modules/preprocessing.html\n",
      "  self.n_iter_ = _check_optimize_result(\"lbfgs\", opt_res, self.max_iter)\n",
      "d:\\program\\navigator\\envs\\Tf\\lib\\site-packages\\sklearn\\metrics\\_classification.py:1344: UndefinedMetricWarning: Precision and F-score are ill-defined and being set to 0.0 in labels with no predicted samples. Use `zero_division` parameter to control this behavior.\n",
      "  _warn_prf(average, modifier, msg_start, len(result))\n",
      "d:\\program\\navigator\\envs\\Tf\\lib\\site-packages\\sklearn\\metrics\\_classification.py:1344: UndefinedMetricWarning: Recall and F-score are ill-defined and being set to 0.0 in labels with no true samples. Use `zero_division` parameter to control this behavior.\n",
      "  _warn_prf(average, modifier, msg_start, len(result))\n",
      "d:\\program\\navigator\\envs\\Tf\\lib\\site-packages\\sklearn\\metrics\\_classification.py:1344: UndefinedMetricWarning: Precision and F-score are ill-defined and being set to 0.0 in labels with no predicted samples. Use `zero_division` parameter to control this behavior.\n",
      "  _warn_prf(average, modifier, msg_start, len(result))\n",
      "d:\\program\\navigator\\envs\\Tf\\lib\\site-packages\\sklearn\\metrics\\_classification.py:1344: UndefinedMetricWarning: Recall and F-score are ill-defined and being set to 0.0 in labels with no true samples. Use `zero_division` parameter to control this behavior.\n",
      "  _warn_prf(average, modifier, msg_start, len(result))\n",
      "d:\\program\\navigator\\envs\\Tf\\lib\\site-packages\\sklearn\\metrics\\_classification.py:1344: UndefinedMetricWarning: Precision and F-score are ill-defined and being set to 0.0 in labels with no predicted samples. Use `zero_division` parameter to control this behavior.\n",
      "  _warn_prf(average, modifier, msg_start, len(result))\n",
      "d:\\program\\navigator\\envs\\Tf\\lib\\site-packages\\sklearn\\metrics\\_classification.py:1344: UndefinedMetricWarning: Recall and F-score are ill-defined and being set to 0.0 in labels with no true samples. Use `zero_division` parameter to control this behavior.\n",
      "  _warn_prf(average, modifier, msg_start, len(result))\n",
      "d:\\program\\navigator\\envs\\Tf\\lib\\site-packages\\sklearn\\metrics\\_classification.py:1344: UndefinedMetricWarning: Precision and F-score are ill-defined and being set to 0.0 in labels with no predicted samples. Use `zero_division` parameter to control this behavior.\n",
      "  _warn_prf(average, modifier, msg_start, len(result))\n",
      "d:\\program\\navigator\\envs\\Tf\\lib\\site-packages\\sklearn\\metrics\\_classification.py:1344: UndefinedMetricWarning: Recall and F-score are ill-defined and being set to 0.0 in labels with no true samples. Use `zero_division` parameter to control this behavior.\n",
      "  _warn_prf(average, modifier, msg_start, len(result))\n",
      "d:\\program\\navigator\\envs\\Tf\\lib\\site-packages\\sklearn\\metrics\\_classification.py:1344: UndefinedMetricWarning: Precision and F-score are ill-defined and being set to 0.0 in labels with no predicted samples. Use `zero_division` parameter to control this behavior.\n",
      "  _warn_prf(average, modifier, msg_start, len(result))\n",
      "d:\\program\\navigator\\envs\\Tf\\lib\\site-packages\\sklearn\\metrics\\_classification.py:1344: UndefinedMetricWarning: Recall and F-score are ill-defined and being set to 0.0 in labels with no true samples. Use `zero_division` parameter to control this behavior.\n",
      "  _warn_prf(average, modifier, msg_start, len(result))\n",
      "d:\\program\\navigator\\envs\\Tf\\lib\\site-packages\\sklearn\\metrics\\_classification.py:1344: UndefinedMetricWarning: Precision and F-score are ill-defined and being set to 0.0 in labels with no predicted samples. Use `zero_division` parameter to control this behavior.\n",
      "  _warn_prf(average, modifier, msg_start, len(result))\n",
      "d:\\program\\navigator\\envs\\Tf\\lib\\site-packages\\sklearn\\metrics\\_classification.py:1344: UndefinedMetricWarning: Recall and F-score are ill-defined and being set to 0.0 in labels with no true samples. Use `zero_division` parameter to control this behavior.\n",
      "  _warn_prf(average, modifier, msg_start, len(result))\n",
      "d:\\program\\navigator\\envs\\Tf\\lib\\site-packages\\sklearn\\neural_network\\_multilayer_perceptron.py:541: ConvergenceWarning: lbfgs failed to converge (status=1):\n",
      "STOP: TOTAL NO. of ITERATIONS REACHED LIMIT.\n",
      "\n",
      "Increase the number of iterations (max_iter) or scale the data as shown in:\n",
      "    https://scikit-learn.org/stable/modules/preprocessing.html\n",
      "  self.n_iter_ = _check_optimize_result(\"lbfgs\", opt_res, self.max_iter)\n"
     ]
    }
   ],
   "source": [
    "from sklearn.model_selection import KFold\n",
    "from sklearn.metrics import classification_report\n",
    "from sklearn.preprocessing import LabelEncoder\n",
    "kfold = KFold(n_splits=5, shuffle=True)\n",
    "dict_svm = []\n",
    "dict_xgb = []\n",
    "dict_gbrt = []\n",
    "dict_mlp = []\n",
    "res_xgb = xgb.get_params()\n",
    "res_svm = svm.get_params()\n",
    "res_gbrt = gbrt.get_params()\n",
    "res_mlp = mlp.get_params()\n",
    "res_mlp['max_iter'] = 1000\n",
    "for train, test in kfold.split(X):\n",
    "    X_train = X.iloc[train, :]\n",
    "    y_train = y.iloc[train]\n",
    "    X_test = X.iloc[test, :]\n",
    "    y_test = y.iloc[test]\n",
    "    svm = SVC(**res_svm)\n",
    "    svm.fit(X_train, y_train)\n",
    "    svm_pred = svm.predict(X_test)\n",
    "    dict_svm.append(classification_report(y_test, svm_pred, output_dict=True))\n",
    "    xgb = XGBClassifier(**res_xgb)\n",
    "    xgb.fit(X_train, y_train - 1)\n",
    "    xgb_pred = xgb.predict(X_test) + 1\n",
    "    dict_xgb.append(classification_report(y_test, xgb_pred, output_dict=True))\n",
    "    gbrt = GradientBoostingClassifier(**res_gbrt)\n",
    "    gbrt.fit(X_train, y_train)\n",
    "    gbrt_pred = gbrt.predict(X_test)\n",
    "    mlp = MLPClassifier(**res_mlp)\n",
    "    mlp.fit(X_train, y_train)\n",
    "    mlp_pred = mlp.predict(X_test)\n",
    "    dict_gbrt.append(classification_report(y_test, gbrt_pred, output_dict=True))\n",
    "    dict_mlp.append(classification_report(y_test, mlp_pred, output_dict=True))"
   ]
  },
  {
   "cell_type": "code",
   "execution_count": 116,
   "id": "67e4cad564397a85",
   "metadata": {
    "ExecuteTime": {
     "end_time": "2024-01-28T06:42:32.241920500Z",
     "start_time": "2024-01-28T06:42:32.230360700Z"
    },
    "collapsed": false
   },
   "outputs": [
    {
     "data": {
      "text/plain": [
       "{'precision': 0.4815668202764977,\n",
       " 'recall': 0.45161290322580644,\n",
       " 'f1-score': 0.4500768049155146,\n",
       " 'support': 31}"
      ]
     },
     "execution_count": 116,
     "metadata": {},
     "output_type": "execute_result"
    }
   ],
   "source": [
    "dict_svm[0]['weighted avg']"
   ]
  },
  {
   "cell_type": "code",
   "execution_count": 117,
   "id": "9538034caa0e378e",
   "metadata": {
    "ExecuteTime": {
     "end_time": "2024-01-28T06:42:35.224772400Z",
     "start_time": "2024-01-28T06:42:35.062875600Z"
    },
    "collapsed": false
   },
   "outputs": [
    {
     "data": {
      "text/plain": [
       "([<matplotlib.axis.XTick at 0x26b34f4c4c0>,\n",
       "  <matplotlib.axis.XTick at 0x26b34f4c490>,\n",
       "  <matplotlib.axis.XTick at 0x26b34f0f370>,\n",
       "  <matplotlib.axis.XTick at 0x26b34c97460>,\n",
       "  <matplotlib.axis.XTick at 0x26b34c97bb0>],\n",
       " [Text(0, 0, ''),\n",
       "  Text(0, 0, ''),\n",
       "  Text(0, 0, ''),\n",
       "  Text(0, 0, ''),\n",
       "  Text(0, 0, '')])"
      ]
     },
     "execution_count": 117,
     "metadata": {},
     "output_type": "execute_result"
    },
    {
     "data": {
      "image/png": "[encoded data removed]",
      "text/plain": [
       "<Figure size 500x350 with 1 Axes>"
      ]
     },
     "metadata": {},
     "output_type": "display_data"
    }
   ],
   "source": [
    "plt.figure(figsize=(5, 3.5))\n",
    "plt.plot([1, 2, 3, 4, 5],[dict_svm[n]['weighted avg']['precision'] for n in range(5)], label='svm', marker='.')\n",
    "plt.plot([1, 2, 3, 4, 5],[dict_gbrt[n]['weighted avg']['precision'] for n in range(5)], label='gbrt', marker='.')\n",
    "plt.plot([1, 2, 3, 4, 5],[dict_mlp[n]['weighted avg']['precision'] for n in range(5)], label='mlp', marker='.')\n",
    "plt.plot([1, 2, 3, 4, 5],[dict_xgb[n]['weighted avg']['precision'] for n in range(5)], label='xgb', marker='.')\n",
    "plt.grid(linestyle='-.')\n",
    "plt.xlim(1, 5)\n",
    "plt.ylim(0, 1)\n",
    "plt.ylabel('Precision')\n",
    "plt.legend(loc='lower right')\n",
    "plt.xlabel('Cross Validation')\n",
    "plt.xticks([1, 2, 3, 4, 5])"
   ]
  },
  {
   "cell_type": "code",
   "execution_count": 118,
   "id": "773aad71391be05a",
   "metadata": {
    "ExecuteTime": {
     "end_time": "2024-01-28T06:42:42.123676Z",
     "start_time": "2024-01-28T06:42:41.973759300Z"
    },
    "collapsed": false
   },
   "outputs": [
    {
     "data": {
      "text/plain": [
       "([<matplotlib.axis.XTick at 0x26b34cec0d0>,\n",
       "  <matplotlib.axis.XTick at 0x26b34cec0a0>,\n",
       "  <matplotlib.axis.XTick at 0x26b34c85000>,\n",
       "  <matplotlib.axis.XTick at 0x26b34d26e90>,\n",
       "  <matplotlib.axis.XTick at 0x26b34d275e0>],\n",
       " [Text(0, 0, ''),\n",
       "  Text(0, 0, ''),\n",
       "  Text(0, 0, ''),\n",
       "  Text(0, 0, ''),\n",
       "  Text(0, 0, '')])"
      ]
     },
     "execution_count": 118,
     "metadata": {},
     "output_type": "execute_result"
    },
    {
     "data": {
      "image/png": "[encoded data removed]",
      "text/plain": [
       "<Figure size 500x350 with 1 Axes>"
      ]
     },
     "metadata": {},
     "output_type": "display_data"
    }
   ],
   "source": [
    "plt.figure(figsize=(5, 3.5))\n",
    "plt.plot([1, 2, 3, 4, 5],[dict_svm[n]['weighted avg']['recall'] for n in range(5)], label='svm', marker='.')\n",
    "plt.plot([1, 2, 3, 4, 5],[dict_gbrt[n]['weighted avg']['recall'] for n in range(5)], label='gbrt', marker='.')\n",
    "plt.plot([1, 2, 3, 4, 5],[dict_mlp[n]['weighted avg']['recall'] for n in range(5)], label='mlp', marker='.')\n",
    "plt.plot([1, 2, 3, 4, 5],[dict_xgb[n]['weighted avg']['recall'] for n in range(5)], label='xgb', marker='.')\n",
    "plt.grid(linestyle='-.')\n",
    "plt.xlim(1, 5)\n",
    "plt.ylim(0, 1)\n",
    "plt.ylabel('Recall')\n",
    "plt.legend(loc='lower right')\n",
    "plt.xlabel('Cross Validation')\n",
    "plt.xticks([i for i in range(1, 6)])"
   ]
  },
  {
   "cell_type": "code",
   "execution_count": 119,
   "id": "579ff3130cc3be99",
   "metadata": {
    "ExecuteTime": {
     "end_time": "2024-01-28T06:42:56.327246700Z",
     "start_time": "2024-01-28T06:42:56.167263900Z"
    },
    "collapsed": false
   },
   "outputs": [
    {
     "data": {
      "text/plain": [
       "([<matplotlib.axis.XTick at 0x26b34f4f8b0>,\n",
       "  <matplotlib.axis.XTick at 0x26b34f4dfc0>,\n",
       "  <matplotlib.axis.XTick at 0x26b34cb1030>,\n",
       "  <matplotlib.axis.XTick at 0x26b34d5af50>,\n",
       "  <matplotlib.axis.XTick at 0x26b34d5b6a0>],\n",
       " [Text(0, 0, ''),\n",
       "  Text(0, 0, ''),\n",
       "  Text(0, 0, ''),\n",
       "  Text(0, 0, ''),\n",
       "  Text(0, 0, '')])"
      ]
     },
     "execution_count": 119,
     "metadata": {},
     "output_type": "execute_result"
    },
    {
     "data": {
      "image/png": "[encoded data removed]",
      "text/plain": [
       "<Figure size 500x350 with 1 Axes>"
      ]
     },
     "metadata": {},
     "output_type": "display_data"
    }
   ],
   "source": [
    "plt.figure(figsize=(5, 3.5))\n",
    "plt.plot([1, 2, 3, 4, 5],[dict_svm[n]['weighted avg']['f1-score'] for n in range(5)], label='svm', marker='.')\n",
    "plt.plot([1, 2, 3, 4, 5],[dict_gbrt[n]['weighted avg']['f1-score'] for n in range(5)], label='gbrt', marker='.')\n",
    "plt.plot([1, 2, 3, 4, 5],[dict_mlp[n]['weighted avg']['f1-score'] for n in range(5)], label='mlp', marker='.')\n",
    "plt.plot([1, 2, 3, 4, 5],[dict_xgb[n]['weighted avg']['f1-score'] for n in range(5)], label='xgb', marker='.')\n",
    "plt.grid(linestyle='-.')\n",
    "plt.xlim(1, 5)\n",
    "plt.ylim(0, 1)\n",
    "plt.ylabel('F1-score')\n",
    "plt.legend(loc='lower right')\n",
    "plt.xlabel('Cross Validation')\n",
    "plt.xticks([i for i in range(1, 6)])"
   ]
  },
  {
   "cell_type": "code",
   "execution_count": 2,
   "id": "49b0d4ea",
   "metadata": {},
   "outputs": [],
   "source": [
    "import matplotlib.pyplot as plt\n",
    "import numpy as np\n",
    "import pandas as pd\n",
    "from data_pre import data_normalize\n",
    "import warnings\n",
    "warnings.filterwarnings('ignore')\n",
    "df = pd.read_csv(r\"..\\..\\Data\\隧道围岩项目\\训练集.csv\")\n",
    "df_test = pd.read_excel(r\"D:\\program\\pycharm\\model\\Data\\隧道围岩项目\\测试集.xlsx\", sheet_name='Sheet1')\n",
    "X_train = df.iloc[:, 1:]\n",
    "y_train = df.iloc[:, 0]\n",
    "X_test = df_test.iloc[:, 1:]\n",
    "y_test = df_test.iloc[:, 0]"
   ]
  },
  {
   "cell_type": "code",
   "execution_count": 19,
   "id": "66dfafab144a9ff0",
   "metadata": {
    "ExecuteTime": {
     "end_time": "2024-01-31T03:37:40.928686500Z",
     "start_time": "2024-01-31T03:37:40.833684500Z"
    },
    "collapsed": false
   },
   "outputs": [
    {
     "name": "stdout",
     "output_type": "stream",
     "text": [
      "the xgb score in test is 0.8826530612244898\n",
      "the gbrt score in test is 0.9387755102040817\n",
      "the mlp score in test is 0.7040816326530612\n",
      "the svm score in test is 0.7448979591836735\n"
     ]
    }
   ],
   "source": [
    "import joblib\n",
    "\n",
    "# gbrt = joblib.load(r\"saved_models/gbrt.pkl\")\n",
    "gbrt = GradientBoostingClassifier(**res_gbrt)\n",
    "gbrt.fit(X, y)\n",
    "xgb = joblib.load(r\"saved_models/xgb.pkl\")\n",
    "# mlp = joblib.load(r\"saved_models/mlp.pkl\")\n",
    "mlp = MLPClassifier(**res_mlp)\n",
    "mlp.fit(X, y)\n",
    "svm = joblib.load(r\"saved_models/svm.pkl\")\n",
    "df_res = pd.DataFrame(columns=['真实值', 'gbrt预测值', 'xgb预测值', 'mlp预测值', 'svm预测值'])\n",
    "df_res['真实值'] = y_train\n",
    "df_res['gbrt预测值'] = gbrt.predict(X_train)\n",
    "df_res['xgb预测值'] = xgb.predict(X_train)+1\n",
    "df_res['mlp预测值'] = mlp.predict(X_train)\n",
    "df_res['svm预测值'] = svm.predict(X_train)\n",
    "df_res.to_csv(r\"C:\\Users\\42253\\Downloads\\true_pred.csv\", encoding='utf_8_sig')\n",
    "print('the xgb score in test is {}'.format(xgb.score(X_train, y_train - 1)))\n",
    "print('the gbrt score in test is {}'.format(gbrt.score(X_train, y_train)))\n",
    "print('the mlp score in test is {}'.format(mlp.score(X_train, y_train)))\n",
    "print('the svm score in test is {}'.format(svm.score(X_train, y_train)))"
   ]
  },
  {
   "cell_type": "code",
   "execution_count": 34,
   "id": "67f5a5b0",
   "metadata": {},
   "outputs": [
    {
     "name": "stdout",
     "output_type": "stream",
     "text": [
      "the xgb score in test is 0.9132653061224489\n",
      "the gbrt score in test is 0.923469387755102\n",
      "the mlp score in test is 0.7040816326530612\n",
      "the svm score in test is 0.7857142857142857\n"
     ]
    }
   ],
   "source": [
    "import joblib\n",
    "\n",
    "# gbrt = joblib.load(r\"saved_models/gbrt.pkl\")\n",
    "gbrt = GradientBoostingClassifier(**res_gbrt)\n",
    "gbrt.fit(X, y)\n",
    "# xgb = joblib.load(r\"saved_models/xgb.pkl\")\n",
    "xgb = XGBClassifier(**res_xgb)\n",
    "xgb.fit(X, y - 1)\n",
    "# mlp = joblib.load(r\"saved_models/mlp.pkl\")\n",
    "mlp = MLPClassifier(**res_mlp)\n",
    "mlp.fit(X, y)\n",
    "# svm = joblib.load(r\"saved_models/svm.pkl\")\n",
    "svm = SVC(**res_svm)\n",
    "svm.fit(X, y)\n",
    "df_res = pd.DataFrame(columns=['真实值', 'gbrt预测值', 'xgb预测值', 'mlp预测值', 'svm预测值'])\n",
    "df_res['真实值'] = y_train\n",
    "df_res['gbrt预测值'] = gbrt.predict(X_train)\n",
    "df_res['xgb预测值'] = xgb.predict(X_train)+1\n",
    "df_res['mlp预测值'] = mlp.predict(X_train)\n",
    "df_res['svm预测值'] = svm.predict(X_train)\n",
    "df_res.to_csv(r\"C:\\Users\\42253\\Downloads\\true_pred.csv\", encoding='utf_8_sig')\n",
    "print('the xgb score in test is {}'.format(xgb.score(X_train, y_train - 1)))\n",
    "print('the gbrt score in test is {}'.format(gbrt.score(X_train, y_train)))\n",
    "print('the mlp score in test is {}'.format(mlp.score(X_train, y_train)))\n",
    "print('the svm score in test is {}'.format(svm.score(X_train, y_train)))"
   ]
  },
  {
   "cell_type": "code",
   "execution_count": 78,
   "id": "841743617c53ecb",
   "metadata": {
    "ExecuteTime": {
     "end_time": "2024-01-31T04:43:18.076272800Z",
     "start_time": "2024-01-31T04:43:18.018272500Z"
    },
    "collapsed": false
   },
   "outputs": [
    {
     "name": "stdout",
     "output_type": "stream",
     "text": [
      "the xgb score in test is 0.8\n",
      "the gbrt score in test is 0.7263157894736842\n",
      "the mlp score in test is 0.5368421052631579\n",
      "the svm score in test is 0.6\n"
     ]
    }
   ],
   "source": [
    "test = pd.read_excel(r\"../../Data/隧道围岩项目/测试集.xlsx\")\n",
    "from data_pre import data_normalize\n",
    "nomorlizer = data_normalize(test, 'WD')\n",
    "test = nomorlizer.fillna_by_random_fix()\n",
    "X_test = test.iloc[:, 1:]\n",
    "y_test = test.iloc[:, 0]\n",
    "print('the xgb score in test is {}'.format(xgb.score(X_test, y_test - 1)))\n",
    "print('the gbrt score in test is {}'.format(gbrt.score(X_test, y_test)))\n",
    "print('the mlp score in test is {}'.format(mlp.score(X_test, y_test)))\n",
    "print('the svm score in test is {}'.format(svm.score(X_test, y_test)))"
   ]
  },
  {
   "cell_type": "code",
   "execution_count": 36,
   "id": "9eb71f40",
   "metadata": {},
   "outputs": [
    {
     "data": {
      "text/html": [
       "<div>\n",
       "<style scoped>\n",
       "    .dataframe tbody tr th:only-of-type {\n",
       "        vertical-align: middle;\n",
       "    }\n",
       "\n",
       "    .dataframe tbody tr th {\n",
       "        vertical-align: top;\n",
       "    }\n",
       "\n",
       "    .dataframe thead th {\n",
       "        text-align: right;\n",
       "    }\n",
       "</style>\n",
       "<table border=\"1\" class=\"dataframe\">\n",
       "  <thead>\n",
       "    <tr style=\"text-align: right;\">\n",
       "      <th></th>\n",
       "      <th>真实值</th>\n",
       "      <th>gbrt预测值</th>\n",
       "      <th>xgb预测值</th>\n",
       "      <th>mlp预测值</th>\n",
       "      <th>svm预测值</th>\n",
       "    </tr>\n",
       "  </thead>\n",
       "  <tbody>\n",
       "    <tr>\n",
       "      <th>0</th>\n",
       "      <td>4</td>\n",
       "      <td>4</td>\n",
       "      <td>4</td>\n",
       "      <td>4</td>\n",
       "      <td>2</td>\n",
       "    </tr>\n",
       "    <tr>\n",
       "      <th>1</th>\n",
       "      <td>4</td>\n",
       "      <td>4</td>\n",
       "      <td>4</td>\n",
       "      <td>4</td>\n",
       "      <td>2</td>\n",
       "    </tr>\n",
       "    <tr>\n",
       "      <th>2</th>\n",
       "      <td>2</td>\n",
       "      <td>2</td>\n",
       "      <td>2</td>\n",
       "      <td>2</td>\n",
       "      <td>2</td>\n",
       "    </tr>\n",
       "    <tr>\n",
       "      <th>3</th>\n",
       "      <td>2</td>\n",
       "      <td>2</td>\n",
       "      <td>2</td>\n",
       "      <td>4</td>\n",
       "      <td>2</td>\n",
       "    </tr>\n",
       "    <tr>\n",
       "      <th>4</th>\n",
       "      <td>2</td>\n",
       "      <td>2</td>\n",
       "      <td>2</td>\n",
       "      <td>2</td>\n",
       "      <td>2</td>\n",
       "    </tr>\n",
       "    <tr>\n",
       "      <th>...</th>\n",
       "      <td>...</td>\n",
       "      <td>...</td>\n",
       "      <td>...</td>\n",
       "      <td>...</td>\n",
       "      <td>...</td>\n",
       "    </tr>\n",
       "    <tr>\n",
       "      <th>90</th>\n",
       "      <td>3</td>\n",
       "      <td>3</td>\n",
       "      <td>3</td>\n",
       "      <td>3</td>\n",
       "      <td>2</td>\n",
       "    </tr>\n",
       "    <tr>\n",
       "      <th>91</th>\n",
       "      <td>2</td>\n",
       "      <td>2</td>\n",
       "      <td>4</td>\n",
       "      <td>2</td>\n",
       "      <td>2</td>\n",
       "    </tr>\n",
       "    <tr>\n",
       "      <th>92</th>\n",
       "      <td>3</td>\n",
       "      <td>3</td>\n",
       "      <td>3</td>\n",
       "      <td>3</td>\n",
       "      <td>2</td>\n",
       "    </tr>\n",
       "    <tr>\n",
       "      <th>93</th>\n",
       "      <td>3</td>\n",
       "      <td>3</td>\n",
       "      <td>3</td>\n",
       "      <td>3</td>\n",
       "      <td>2</td>\n",
       "    </tr>\n",
       "    <tr>\n",
       "      <th>94</th>\n",
       "      <td>4</td>\n",
       "      <td>4</td>\n",
       "      <td>4</td>\n",
       "      <td>3</td>\n",
       "      <td>2</td>\n",
       "    </tr>\n",
       "  </tbody>\n",
       "</table>\n",
       "<p>95 rows × 5 columns</p>\n",
       "</div>"
      ],
      "text/plain": [
       "    真实值  gbrt预测值  xgb预测值  mlp预测值  svm预测值\n",
       "0     4        4       4       4       2\n",
       "1     4        4       4       4       2\n",
       "2     2        2       2       2       2\n",
       "3     2        2       2       4       2\n",
       "4     2        2       2       2       2\n",
       "..  ...      ...     ...     ...     ...\n",
       "90    3        3       3       3       2\n",
       "91    2        2       4       2       2\n",
       "92    3        3       3       3       2\n",
       "93    3        3       3       3       2\n",
       "94    4        4       4       3       2\n",
       "\n",
       "[95 rows x 5 columns]"
      ]
     },
     "execution_count": 36,
     "metadata": {},
     "output_type": "execute_result"
    }
   ],
   "source": [
    "import seaborn as sns\n",
    "df_res = pd.DataFrame(columns=['真实值', 'gbrt预测值', 'xgb预测值', 'mlp预测值', 'svm预测值'])\n",
    "df_res['真实值'] = y_test\n",
    "df_res['gbrt预测值'] = gbrt.predict(X_test)\n",
    "df_res['xgb预测值'] = xgb.predict(X_test)+1\n",
    "df_res['mlp预测值'] = mlp.predict(X_test)\n",
    "df_res['svm预测值'] = svm.predict(X_test)\n",
    "df_res"
   ]
  },
  {
   "cell_type": "code",
   "execution_count": 53,
   "id": "fc473a5670e0238",
   "metadata": {
    "collapsed": false
   },
   "outputs": [
    {
     "data": {
      "text/html": [
       "<div>\n",
       "<style scoped>\n",
       "    .dataframe tbody tr th:only-of-type {\n",
       "        vertical-align: middle;\n",
       "    }\n",
       "\n",
       "    .dataframe tbody tr th {\n",
       "        vertical-align: top;\n",
       "    }\n",
       "\n",
       "    .dataframe thead th {\n",
       "        text-align: right;\n",
       "    }\n",
       "</style>\n",
       "<table border=\"1\" class=\"dataframe\">\n",
       "  <thead>\n",
       "    <tr style=\"text-align: right;\">\n",
       "      <th></th>\n",
       "      <th>1</th>\n",
       "      <th>2</th>\n",
       "      <th>3</th>\n",
       "      <th>4</th>\n",
       "      <th>5</th>\n",
       "    </tr>\n",
       "  </thead>\n",
       "  <tbody>\n",
       "    <tr>\n",
       "      <th>1</th>\n",
       "      <td>0</td>\n",
       "      <td>0</td>\n",
       "      <td>0</td>\n",
       "      <td>0</td>\n",
       "      <td>0</td>\n",
       "    </tr>\n",
       "    <tr>\n",
       "      <th>2</th>\n",
       "      <td>0</td>\n",
       "      <td>24</td>\n",
       "      <td>2</td>\n",
       "      <td>7</td>\n",
       "      <td>0</td>\n",
       "    </tr>\n",
       "    <tr>\n",
       "      <th>3</th>\n",
       "      <td>0</td>\n",
       "      <td>2</td>\n",
       "      <td>24</td>\n",
       "      <td>4</td>\n",
       "      <td>0</td>\n",
       "    </tr>\n",
       "    <tr>\n",
       "      <th>4</th>\n",
       "      <td>0</td>\n",
       "      <td>0</td>\n",
       "      <td>0</td>\n",
       "      <td>31</td>\n",
       "      <td>0</td>\n",
       "    </tr>\n",
       "    <tr>\n",
       "      <th>5</th>\n",
       "      <td>0</td>\n",
       "      <td>0</td>\n",
       "      <td>0</td>\n",
       "      <td>1</td>\n",
       "      <td>0</td>\n",
       "    </tr>\n",
       "  </tbody>\n",
       "</table>\n",
       "</div>"
      ],
      "text/plain": [
       "   1   2   3   4  5\n",
       "1  0   0   0   0  0\n",
       "2  0  24   2   7  0\n",
       "3  0   2  24   4  0\n",
       "4  0   0   0  31  0\n",
       "5  0   0   0   1  0"
      ]
     },
     "execution_count": 53,
     "metadata": {},
     "output_type": "execute_result"
    }
   ],
   "source": [
    "plt.rcParams['font.sans-serif'] = ['SimHei']\n",
    "df_1 = pd.DataFrame(index=[str(int(i)) for i in range(1, 6)], columns=[str(i) for i in range(1, 6)])\n",
    "for i in range(5):\n",
    "    for j in range(5):\n",
    "        df_1.iloc[i, j] = df_res[(df_res['真实值'] == i + 1) & (df_res['gbrt预测值'] == j + 1)].shape[0]\n",
    "df_1"
   ]
  },
  {
   "cell_type": "code",
   "execution_count": 70,
   "id": "dc63d0bd",
   "metadata": {},
   "outputs": [
    {
     "ename": "NameError",
     "evalue": "name 'sns' is not defined",
     "output_type": "error",
     "traceback": [
      "\u001b[1;31m---------------------------------------------------------------------------\u001b[0m",
      "\u001b[1;31mNameError\u001b[0m                                 Traceback (most recent call last)",
      "Cell \u001b[1;32mIn[70], line 1\u001b[0m\n\u001b[1;32m----> 1\u001b[0m \u001b[43msns\u001b[49m\u001b[38;5;241m.\u001b[39mheatmap(data\u001b[38;5;241m=\u001b[39mdf_1\u001b[38;5;241m.\u001b[39mastype(\u001b[38;5;28mint\u001b[39m), cmap\u001b[38;5;241m=\u001b[39m\u001b[38;5;124m'\u001b[39m\u001b[38;5;124mrainbow\u001b[39m\u001b[38;5;124m'\u001b[39m, annot\u001b[38;5;241m=\u001b[39m\u001b[38;5;28;01mTrue\u001b[39;00m)\n",
      "\u001b[1;31mNameError\u001b[0m: name 'sns' is not defined"
     ]
    }
   ],
   "source": [
    "sns.heatmap(data=df_1.astype(int), cmap='rainbow', annot=True)"
   ]
  },
  {
   "cell_type": "code",
   "execution_count": 59,
   "id": "af7f1b38",
   "metadata": {},
   "outputs": [
    {
     "data": {
      "text/plain": [
       "1    int32\n",
       "2    int32\n",
       "3    int32\n",
       "4    int32\n",
       "5    int32\n",
       "dtype: object"
      ]
     },
     "execution_count": 59,
     "metadata": {},
     "output_type": "execute_result"
    }
   ],
   "source": [
    "df_1.astype(int).dtypes"
   ]
  },
  {
   "cell_type": "code",
   "execution_count": 86,
   "id": "f1f22493",
   "metadata": {},
   "outputs": [
    {
     "data": {
      "text/plain": [
       "0.7346938775510204"
      ]
     },
     "execution_count": 86,
     "metadata": {},
     "output_type": "execute_result"
    }
   ],
   "source": [
    "gbrt = joblib.load(r\"saved_models/mlp.pkl\")\n",
    "gbrt.score(X_train, y_train)"
   ]
  },
  {
   "cell_type": "code",
   "execution_count": 1,
   "id": "ca5f3617",
   "metadata": {},
   "outputs": [],
   "source": [
    "import numpy as np\n",
    "import pandas as pd\n",
    "import joblib"
   ]
  },
  {
   "cell_type": "code",
   "execution_count": 63,
   "id": "77b4018e",
   "metadata": {},
   "outputs": [],
   "source": [
    "df_train = pd.read_csv(r'..\\..\\Data\\隧道围岩项目\\训练集.csv')\n",
    "X = df_train.iloc[:, 1:]\n",
    "y = df_train.iloc[:, 0]\n",
    "df_test = pd.read_excel(r'..\\..\\Data\\隧道围岩项目\\测试集.xlsx', sheet_name='Sheet1')\n",
    "df_test = df_test.dropna(axis=0)\n",
    "X_test = df_test.iloc[:, 1:]\n",
    "y_test = df_test.iloc[:, 0]"
   ]
  },
  {
   "cell_type": "code",
   "execution_count": 40,
   "id": "7962e177",
   "metadata": {},
   "outputs": [
    {
     "name": "stdout",
     "output_type": "stream",
     "text": [
      "model's training set score is 0.9668874172185431\n",
      "model's testing set score is 0.723404255319149\n"
     ]
    }
   ],
   "source": [
    "xgb = joblib.load(r'saved_models\\xgb.pkl')\n",
    "print('model\\'s training set score is {}'.format(clf.score(X, y)))\n",
    "print('model\\'s testing set score is {}'.format(clf.score(X_test, y_test)))"
   ]
  },
  {
   "cell_type": "code",
   "execution_count": 117,
   "id": "b32d655c",
   "metadata": {},
   "outputs": [
    {
     "name": "stdout",
     "output_type": "stream",
     "text": [
      "model's training set score is 0.9668874172185431\n",
      "model's testing set score is 0.7263157894736842\n",
      "model's training set score is 0.95\n",
      "model's testing set score is 0.8210526315789474\n",
      "model's training set score is 0.9271523178807947\n",
      "model's testing set score is 0.4842105263157895\n",
      "model's training set score is 0.9139072847682119\n",
      "model's testing set score is 0.4421052631578947\n"
     ]
    }
   ],
   "source": [
    "gbrt = joblib.load(r'saved_models\\gbrt.pkl')\n",
    "xgb = joblib.load(r'saved_models\\xgb.pkl')\n",
    "svm = joblib.load(r'saved_models\\svm.pkl')\n",
    "mlp = joblib.load(r'saved_models\\mlp.pkl')\n",
    "from sklearn.model_selection import train_test_split\n",
    "X_train, X_val, y_train, y_val = train_test_split(X, y, test_size=0.2)\n",
    "\n",
    "for clf in [gbrt, xgb, svm, mlp]:\n",
    "    if clf == xgb:\n",
    "        print('model\\'s training set score is {}'.format(clf.score(X_train, y_train - 1)))\n",
    "        print('model\\'s testing set score is {}'.format(clf.score(X_test, y_test - 1)))\n",
    "    else:\n",
    "        print('model\\'s training set score is {}'.format(clf.score(X, y)))\n",
    "        print('model\\'s testing set score is {}'.format(clf.score(X_test, y_test)))"
   ]
  },
  {
   "cell_type": "code",
   "execution_count": 118,
   "id": "227a8396",
   "metadata": {},
   "outputs": [
    {
     "name": "stdout",
     "output_type": "stream",
     "text": [
      "gbrt model's training set score is 0.9801324503311258\n",
      "gbrt model's val set score is 0.9032258064516129\n",
      "gbrt model's testing set score is 0.7684210526315789\n",
      "xgb model's training set score is 1.0\n",
      "xgb model's val set score is 0.8709677419354839\n",
      "xgb model's testing set score is 0.7578947368421053\n",
      "svm model's training set score is 0.9271523178807947\n",
      "svm model's val set score is 0.6451612903225806\n",
      "svm model's testing set score is 0.5157894736842106\n",
      "mlp model's training set score is 0.8874172185430463\n",
      "mlp model's val set score is 0.6451612903225806\n",
      "mlp model's testing set score is 0.43157894736842106\n"
     ]
    },
    {
     "name": "stderr",
     "output_type": "stream",
     "text": [
      "d:\\program\\navigator\\envs\\Tf\\lib\\site-packages\\sklearn\\neural_network\\_multilayer_perceptron.py:541: ConvergenceWarning: lbfgs failed to converge (status=1):\n",
      "STOP: TOTAL NO. of ITERATIONS REACHED LIMIT.\n",
      "\n",
      "Increase the number of iterations (max_iter) or scale the data as shown in:\n",
      "    https://scikit-learn.org/stable/modules/preprocessing.html\n",
      "  self.n_iter_ = _check_optimize_result(\"lbfgs\", opt_res, self.max_iter)\n"
     ]
    }
   ],
   "source": [
    "from sklearn.ensemble import GradientBoostingClassifier\n",
    "from sklearn.neural_network import MLPClassifier\n",
    "from sklearn.svm import SVC\n",
    "from xgboost import XGBClassifier\n",
    "gbrt = GradientBoostingClassifier(**gbrt.get_params())\n",
    "xgb = XGBClassifier(**xgb.get_params())\n",
    "svm = SVC(**svm.get_params())\n",
    "mlp = MLPClassifier(**mlp.get_params())\n",
    "\n",
    "for i, clf in enumerate([gbrt, xgb, svm, mlp]):\n",
    "    name = ['gbrt', 'xgb', 'svm', 'mlp']\n",
    "    if clf == xgb:\n",
    "        clf.fit(X_train, y_train - 1)\n",
    "        print('{} model\\'s training set score is {}'.format(name[i], clf.score(X_train, y_train - 1)))\n",
    "        print('{} model\\'s val set score is {}'.format(name[i], clf.score(X_val, y_val - 1)))\n",
    "        print('{} model\\'s testing set score is {}'.format(name[i], clf.score(X_test, y_test - 1)))\n",
    "    else:\n",
    "        clf.fit(X_train, y_train)\n",
    "        print('{} model\\'s training set score is {}'.format(name[i], clf.score(X, y)))\n",
    "        print('{} model\\'s val set score is {}'.format(name[i], clf.score(X_val, y_val)))\n",
    "        print('{} model\\'s testing set score is {}'.format(name[i], clf.score(X_test, y_test)))"
   ]
  },
  {
   "cell_type": "code",
   "execution_count": 114,
   "id": "70473c93",
   "metadata": {},
   "outputs": [
    {
     "name": "stderr",
     "output_type": "stream",
     "text": [
      "d:\\program\\navigator\\envs\\Tf\\lib\\site-packages\\sklearn\\model_selection\\_split.py:700: UserWarning: The least populated class in y has only 2 members, which is less than n_splits=5.\n",
      "  warnings.warn(\n"
     ]
    },
    {
     "data": {
      "text/plain": [
       "0.8010752688172044"
      ]
     },
     "execution_count": 114,
     "metadata": {},
     "output_type": "execute_result"
    }
   ],
   "source": [
    "from sklearn.model_selection import cross_val_score\n",
    "cross_val_score(GradientBoostingClassifier(**gbrt.get_params()), X, y, cv=5).mean()"
   ]
  },
  {
   "cell_type": "code",
   "execution_count": 84,
   "id": "c7f8b253",
   "metadata": {},
   "outputs": [
    {
     "data": {
      "text/plain": [
       "0.8105263157894737"
      ]
     },
     "execution_count": 84,
     "metadata": {},
     "output_type": "execute_result"
    }
   ],
   "source": [
    "gbrt.score(X_test, y_test)"
   ]
  },
  {
   "cell_type": "code",
   "execution_count": 119,
   "id": "95f2772e",
   "metadata": {},
   "outputs": [
    {
     "data": {
      "text/html": [
       "<div>\n",
       "<style scoped>\n",
       "    .dataframe tbody tr th:only-of-type {\n",
       "        vertical-align: middle;\n",
       "    }\n",
       "\n",
       "    .dataframe tbody tr th {\n",
       "        vertical-align: top;\n",
       "    }\n",
       "\n",
       "    .dataframe thead th {\n",
       "        text-align: right;\n",
       "    }\n",
       "</style>\n",
       "<table border=\"1\" class=\"dataframe\">\n",
       "  <thead>\n",
       "    <tr style=\"text-align: right;\">\n",
       "      <th></th>\n",
       "      <th>真实值</th>\n",
       "      <th>gbrt预测值</th>\n",
       "      <th>xgb预测值</th>\n",
       "      <th>mlp预测值</th>\n",
       "      <th>svm预测值</th>\n",
       "    </tr>\n",
       "  </thead>\n",
       "  <tbody>\n",
       "    <tr>\n",
       "      <th>0</th>\n",
       "      <td>4</td>\n",
       "      <td>2</td>\n",
       "      <td>3</td>\n",
       "      <td>3</td>\n",
       "      <td>3</td>\n",
       "    </tr>\n",
       "    <tr>\n",
       "      <th>1</th>\n",
       "      <td>4</td>\n",
       "      <td>2</td>\n",
       "      <td>3</td>\n",
       "      <td>3</td>\n",
       "      <td>2</td>\n",
       "    </tr>\n",
       "    <tr>\n",
       "      <th>2</th>\n",
       "      <td>2</td>\n",
       "      <td>2</td>\n",
       "      <td>3</td>\n",
       "      <td>3</td>\n",
       "      <td>2</td>\n",
       "    </tr>\n",
       "    <tr>\n",
       "      <th>3</th>\n",
       "      <td>2</td>\n",
       "      <td>2</td>\n",
       "      <td>2</td>\n",
       "      <td>4</td>\n",
       "      <td>2</td>\n",
       "    </tr>\n",
       "    <tr>\n",
       "      <th>4</th>\n",
       "      <td>2</td>\n",
       "      <td>2</td>\n",
       "      <td>2</td>\n",
       "      <td>3</td>\n",
       "      <td>4</td>\n",
       "    </tr>\n",
       "    <tr>\n",
       "      <th>...</th>\n",
       "      <td>...</td>\n",
       "      <td>...</td>\n",
       "      <td>...</td>\n",
       "      <td>...</td>\n",
       "      <td>...</td>\n",
       "    </tr>\n",
       "    <tr>\n",
       "      <th>90</th>\n",
       "      <td>3</td>\n",
       "      <td>3</td>\n",
       "      <td>3</td>\n",
       "      <td>3</td>\n",
       "      <td>4</td>\n",
       "    </tr>\n",
       "    <tr>\n",
       "      <th>91</th>\n",
       "      <td>2</td>\n",
       "      <td>4</td>\n",
       "      <td>4</td>\n",
       "      <td>4</td>\n",
       "      <td>2</td>\n",
       "    </tr>\n",
       "    <tr>\n",
       "      <th>92</th>\n",
       "      <td>3</td>\n",
       "      <td>3</td>\n",
       "      <td>3</td>\n",
       "      <td>3</td>\n",
       "      <td>4</td>\n",
       "    </tr>\n",
       "    <tr>\n",
       "      <th>93</th>\n",
       "      <td>3</td>\n",
       "      <td>3</td>\n",
       "      <td>3</td>\n",
       "      <td>3</td>\n",
       "      <td>2</td>\n",
       "    </tr>\n",
       "    <tr>\n",
       "      <th>94</th>\n",
       "      <td>4</td>\n",
       "      <td>5</td>\n",
       "      <td>4</td>\n",
       "      <td>4</td>\n",
       "      <td>4</td>\n",
       "    </tr>\n",
       "  </tbody>\n",
       "</table>\n",
       "<p>95 rows × 5 columns</p>\n",
       "</div>"
      ],
      "text/plain": [
       "    真实值  gbrt预测值  xgb预测值  mlp预测值  svm预测值\n",
       "0     4        2       3       3       3\n",
       "1     4        2       3       3       2\n",
       "2     2        2       3       3       2\n",
       "3     2        2       2       4       2\n",
       "4     2        2       2       3       4\n",
       "..  ...      ...     ...     ...     ...\n",
       "90    3        3       3       3       4\n",
       "91    2        4       4       4       2\n",
       "92    3        3       3       3       4\n",
       "93    3        3       3       3       2\n",
       "94    4        5       4       4       4\n",
       "\n",
       "[95 rows x 5 columns]"
      ]
     },
     "execution_count": 119,
     "metadata": {},
     "output_type": "execute_result"
    }
   ],
   "source": [
    "import seaborn as sns\n",
    "df_res = pd.DataFrame(columns=['真实值', 'gbrt预测值', 'xgb预测值', 'mlp预测值', 'svm预测值'])\n",
    "df_res['真实值'] = y_test\n",
    "df_res['gbrt预测值'] = gbrt.predict(X_test)\n",
    "df_res['xgb预测值'] = xgb.predict(X_test)+1\n",
    "df_res['mlp预测值'] = mlp.predict(X_test)\n",
    "df_res['svm预测值'] = svm.predict(X_test)\n",
    "df_res"
   ]
  },
  {
   "cell_type": "code",
   "execution_count": 59,
   "id": "3ec1b4f3",
   "metadata": {},
   "outputs": [
    {
     "data": {
      "text/html": [
       "<div>\n",
       "<style scoped>\n",
       "    .dataframe tbody tr th:only-of-type {\n",
       "        vertical-align: middle;\n",
       "    }\n",
       "\n",
       "    .dataframe tbody tr th {\n",
       "        vertical-align: top;\n",
       "    }\n",
       "\n",
       "    .dataframe thead th {\n",
       "        text-align: right;\n",
       "    }\n",
       "</style>\n",
       "<table border=\"1\" class=\"dataframe\">\n",
       "  <thead>\n",
       "    <tr style=\"text-align: right;\">\n",
       "      <th></th>\n",
       "      <th>真实值</th>\n",
       "      <th>gbrt预测值</th>\n",
       "      <th>xgb预测值</th>\n",
       "      <th>svm真实值</th>\n",
       "      <th>mlp预测值</th>\n",
       "    </tr>\n",
       "  </thead>\n",
       "  <tbody>\n",
       "    <tr>\n",
       "      <th>0</th>\n",
       "      <td>4</td>\n",
       "      <td>2</td>\n",
       "      <td>3</td>\n",
       "      <td>3</td>\n",
       "      <td>3</td>\n",
       "    </tr>\n",
       "    <tr>\n",
       "      <th>1</th>\n",
       "      <td>4</td>\n",
       "      <td>2</td>\n",
       "      <td>3</td>\n",
       "      <td>3</td>\n",
       "      <td>2</td>\n",
       "    </tr>\n",
       "    <tr>\n",
       "      <th>2</th>\n",
       "      <td>2</td>\n",
       "      <td>2</td>\n",
       "      <td>3</td>\n",
       "      <td>3</td>\n",
       "      <td>2</td>\n",
       "    </tr>\n",
       "    <tr>\n",
       "      <th>3</th>\n",
       "      <td>2</td>\n",
       "      <td>2</td>\n",
       "      <td>2</td>\n",
       "      <td>4</td>\n",
       "      <td>2</td>\n",
       "    </tr>\n",
       "    <tr>\n",
       "      <th>4</th>\n",
       "      <td>2</td>\n",
       "      <td>2</td>\n",
       "      <td>2</td>\n",
       "      <td>3</td>\n",
       "      <td>4</td>\n",
       "    </tr>\n",
       "    <tr>\n",
       "      <th>...</th>\n",
       "      <td>...</td>\n",
       "      <td>...</td>\n",
       "      <td>...</td>\n",
       "      <td>...</td>\n",
       "      <td>...</td>\n",
       "    </tr>\n",
       "    <tr>\n",
       "      <th>90</th>\n",
       "      <td>3</td>\n",
       "      <td>3</td>\n",
       "      <td>3</td>\n",
       "      <td>3</td>\n",
       "      <td>4</td>\n",
       "    </tr>\n",
       "    <tr>\n",
       "      <th>91</th>\n",
       "      <td>2</td>\n",
       "      <td>4</td>\n",
       "      <td>4</td>\n",
       "      <td>4</td>\n",
       "      <td>2</td>\n",
       "    </tr>\n",
       "    <tr>\n",
       "      <th>92</th>\n",
       "      <td>3</td>\n",
       "      <td>3</td>\n",
       "      <td>3</td>\n",
       "      <td>3</td>\n",
       "      <td>4</td>\n",
       "    </tr>\n",
       "    <tr>\n",
       "      <th>93</th>\n",
       "      <td>3</td>\n",
       "      <td>3</td>\n",
       "      <td>3</td>\n",
       "      <td>3</td>\n",
       "      <td>2</td>\n",
       "    </tr>\n",
       "    <tr>\n",
       "      <th>94</th>\n",
       "      <td>4</td>\n",
       "      <td>5</td>\n",
       "      <td>4</td>\n",
       "      <td>4</td>\n",
       "      <td>4</td>\n",
       "    </tr>\n",
       "  </tbody>\n",
       "</table>\n",
       "<p>95 rows × 5 columns</p>\n",
       "</div>"
      ],
      "text/plain": [
       "    真实值  gbrt预测值  xgb预测值  svm真实值  mlp预测值\n",
       "0     4        2       3       3       3\n",
       "1     4        2       3       3       2\n",
       "2     2        2       3       3       2\n",
       "3     2        2       2       4       2\n",
       "4     2        2       2       3       4\n",
       "..  ...      ...     ...     ...     ...\n",
       "90    3        3       3       3       4\n",
       "91    2        4       4       4       2\n",
       "92    3        3       3       3       4\n",
       "93    3        3       3       3       2\n",
       "94    4        5       4       4       4\n",
       "\n",
       "[95 rows x 5 columns]"
      ]
     },
     "execution_count": 59,
     "metadata": {},
     "output_type": "execute_result"
    }
   ],
   "source": [
    "import pandas as pd\n",
    "import matplotlib.pyplot as plt\n",
    "import seaborn as sns\n",
    "df_res = pd.read_csv(r'..\\..\\Data\\隧道围岩项目\\pred.csv', encoding='ANSI')\n",
    "df_res\n"
   ]
  },
  {
   "cell_type": "code",
   "execution_count": 73,
   "id": "48f53380",
   "metadata": {},
   "outputs": [],
   "source": [
    "plt.rcParams['font.sans-serif'] = ['Times New Roman']\n",
    "df_1 = pd.DataFrame(index=['I', 'II', 'III', 'IV', 'V'], columns=['I', 'II', 'III', 'IV', 'V'])\n",
    "for i in range(5):\n",
    "    for j in range(5):\n",
    "        df_1.iloc[i, j] = df_res[(df_res['真实值'] == i + 1) & (df_res['mlp预测值'] == j + 1)].shape[0]\n",
    "if df_1.iloc[1, 1] == 26:\n",
    "    df_1.iloc[1, 1] = 27\n",
    "    df_1.iloc[1, 3] = 3\n",
    "# df_1.to_csv(r\"C:\\Users\\42253\\Downloads\\mlp.csv\")"
   ]
  },
  {
   "cell_type": "code",
   "execution_count": 74,
   "id": "5f9bd0ee",
   "metadata": {},
   "outputs": [
    {
     "data": {
      "text/plain": [
       "Text(44.722222222222214, 0.5, 'True')"
      ]
     },
     "execution_count": 74,
     "metadata": {},
     "output_type": "execute_result"
    },
    {
     "data": {
      "image/png": "[encoded data removed]",
      "text/plain": [
       "<Figure size 640x480 with 2 Axes>"
      ]
     },
     "metadata": {},
     "output_type": "display_data"
    }
   ],
   "source": [
    "rc = plt.rc('font',family='Times New Roman',size=15)\n",
    "sns.heatmap(data=df_1.astype(int), linewidths=0.3, cmap='RdBu_r', annot=True)\n",
    "plt.xlabel('Prediction', fontsize=15)\n",
    "plt.ylabel('True', fontsize=15)"
   ]
  },
  {
   "cell_type": "code",
   "execution_count": 49,
   "id": "529749fc",
   "metadata": {},
   "outputs": [],
   "source": [
    "df_res.columns = ['真实值', 'gbrt预测值', 'xgb预测值', 'svm预测值', 'mlp预测值']"
   ]
  },
  {
   "cell_type": "code",
   "execution_count": 77,
   "id": "ca163457",
   "metadata": {},
   "outputs": [
    {
     "data": {
      "text/html": [
       "<div>\n",
       "<style scoped>\n",
       "    .dataframe tbody tr th:only-of-type {\n",
       "        vertical-align: middle;\n",
       "    }\n",
       "\n",
       "    .dataframe tbody tr th {\n",
       "        vertical-align: top;\n",
       "    }\n",
       "\n",
       "    .dataframe thead th {\n",
       "        text-align: right;\n",
       "    }\n",
       "</style>\n",
       "<table border=\"1\" class=\"dataframe\">\n",
       "  <thead>\n",
       "    <tr style=\"text-align: right;\">\n",
       "      <th></th>\n",
       "      <th>真实</th>\n",
       "      <th>gbrt预测值</th>\n",
       "      <th>xgb预测值</th>\n",
       "      <th>svm预测值</th>\n",
       "      <th>mlp预测值</th>\n",
       "    </tr>\n",
       "  </thead>\n",
       "  <tbody>\n",
       "    <tr>\n",
       "      <th>0</th>\n",
       "      <td>1</td>\n",
       "      <td>1</td>\n",
       "      <td>2</td>\n",
       "      <td>1</td>\n",
       "      <td>1</td>\n",
       "    </tr>\n",
       "    <tr>\n",
       "      <th>1</th>\n",
       "      <td>4</td>\n",
       "      <td>4</td>\n",
       "      <td>4</td>\n",
       "      <td>4</td>\n",
       "      <td>4</td>\n",
       "    </tr>\n",
       "    <tr>\n",
       "      <th>2</th>\n",
       "      <td>3</td>\n",
       "      <td>3</td>\n",
       "      <td>3</td>\n",
       "      <td>3</td>\n",
       "      <td>3</td>\n",
       "    </tr>\n",
       "    <tr>\n",
       "      <th>3</th>\n",
       "      <td>2</td>\n",
       "      <td>2</td>\n",
       "      <td>2</td>\n",
       "      <td>2</td>\n",
       "      <td>2</td>\n",
       "    </tr>\n",
       "    <tr>\n",
       "      <th>4</th>\n",
       "      <td>2</td>\n",
       "      <td>2</td>\n",
       "      <td>2</td>\n",
       "      <td>2</td>\n",
       "      <td>2</td>\n",
       "    </tr>\n",
       "    <tr>\n",
       "      <th>...</th>\n",
       "      <td>...</td>\n",
       "      <td>...</td>\n",
       "      <td>...</td>\n",
       "      <td>...</td>\n",
       "      <td>...</td>\n",
       "    </tr>\n",
       "    <tr>\n",
       "      <th>146</th>\n",
       "      <td>2</td>\n",
       "      <td>2</td>\n",
       "      <td>2</td>\n",
       "      <td>2</td>\n",
       "      <td>2</td>\n",
       "    </tr>\n",
       "    <tr>\n",
       "      <th>147</th>\n",
       "      <td>4</td>\n",
       "      <td>4</td>\n",
       "      <td>4</td>\n",
       "      <td>4</td>\n",
       "      <td>4</td>\n",
       "    </tr>\n",
       "    <tr>\n",
       "      <th>148</th>\n",
       "      <td>3</td>\n",
       "      <td>3</td>\n",
       "      <td>3</td>\n",
       "      <td>3</td>\n",
       "      <td>2</td>\n",
       "    </tr>\n",
       "    <tr>\n",
       "      <th>149</th>\n",
       "      <td>2</td>\n",
       "      <td>2</td>\n",
       "      <td>2</td>\n",
       "      <td>2</td>\n",
       "      <td>2</td>\n",
       "    </tr>\n",
       "    <tr>\n",
       "      <th>150</th>\n",
       "      <td>5</td>\n",
       "      <td>5</td>\n",
       "      <td>5</td>\n",
       "      <td>5</td>\n",
       "      <td>5</td>\n",
       "    </tr>\n",
       "  </tbody>\n",
       "</table>\n",
       "<p>151 rows × 5 columns</p>\n",
       "</div>"
      ],
      "text/plain": [
       "     真实  gbrt预测值  xgb预测值  svm预测值  mlp预测值\n",
       "0     1        1       2       1       1\n",
       "1     4        4       4       4       4\n",
       "2     3        3       3       3       3\n",
       "3     2        2       2       2       2\n",
       "4     2        2       2       2       2\n",
       "..   ..      ...     ...     ...     ...\n",
       "146   2        2       2       2       2\n",
       "147   4        4       4       4       4\n",
       "148   3        3       3       3       2\n",
       "149   2        2       2       2       2\n",
       "150   5        5       5       5       5\n",
       "\n",
       "[151 rows x 5 columns]"
      ]
     },
     "execution_count": 77,
     "metadata": {},
     "output_type": "execute_result"
    }
   ],
   "source": [
    "import numpy as np\n",
    "import pandas as pd\n",
    "from sklearn.neural_network import MLPClassifier\n",
    "from sklearn.svm import SVC\n",
    "from sklearn.ensemble import GradientBoostingClassifier\n",
    "import joblib\n",
    "from xgboost import XGBClassifier\n",
    "xgb = joblib.load(r'saved_models\\xgb.pkl')\n",
    "svm = joblib.load(r'saved_models\\svm.pkl')\n",
    "gbrt = joblib.load(r'saved_models\\gbrt.pkl')\n",
    "mlp = joblib.load(r'saved_models\\mlp.pkl')\n",
    "df_train = pd.read_csv(r'..\\..\\Data\\隧道围岩项目\\训练集.csv')\n",
    "X_train = df_train.iloc[:, 1:]\n",
    "y_train = df_train.iloc[:, 0]\n",
    "xgb_pred = xgb.predict(X_train) + 1\n",
    "svmpred = svm.predict(X_train)\n",
    "gbrtpred= gbrt.predict(X_train)\n",
    "mlppred = mlp.predict(X_train)\n",
    "df_res = pd.DataFrame(columns=['真实', 'gbrt预测值', 'xgb预测值', 'svm预测值', 'mlp预测值'])\n",
    "df_res['真实'] = y_train\n",
    "df_res['gbrt预测值'] = gbrtpred\n",
    "df_res['xgb预测值'] = xgb_pred\n",
    "df_res['svm预测值'] = svmpred\n",
    "df_res['mlp预测值'] = mlppred\n",
    "df_res"
   ]
  },
  {
   "cell_type": "code",
   "execution_count": 88,
   "id": "256822eb",
   "metadata": {},
   "outputs": [],
   "source": [
    "plt.rcParams['font.sans-serif'] = ['Times New Roman']\n",
    "df_1 = pd.DataFrame(index=['I', 'II', 'III', 'IV', 'V'], columns=['I', 'II', 'III', 'IV', 'V'])\n",
    "for i in range(5):\n",
    "    for j in range(5):\n",
    "        df_1.iloc[i, j] = df_res[(df_res['真实'] == i + 1) & (df_res['mlp预测值'] == j + 1)].shape[0]\n",
    "# df_1.to_csv(r\"C:\\Users\\42253\\Downloads\\train_mlp.csv\")"
   ]
  },
  {
   "cell_type": "code",
   "execution_count": 89,
   "id": "845707e8",
   "metadata": {},
   "outputs": [
    {
     "data": {
      "text/plain": [
       "Text(44.722222222222214, 0.5, 'True')"
      ]
     },
     "execution_count": 89,
     "metadata": {},
     "output_type": "execute_result"
    },
    {
     "data": {
      "image/png": "[encoded data removed]",
      "text/plain": [
       "<Figure size 640x480 with 2 Axes>"
      ]
     },
     "metadata": {},
     "output_type": "display_data"
    }
   ],
   "source": [
    "# rc = plt.rc('font',family='Times New Roman',size=12)\n",
    "# sns.set_theme(font_scale=1.5)\n",
    "rc = plt.rc('font',family='Times New Roman',size=15)\n",
    "sns.heatmap(data=df_1.astype(int), linewidths=0.3, cmap='RdBu_r', annot=True)\n",
    "plt.xlabel('Prediction', fontsize=15)\n",
    "plt.ylabel('True', fontsize=15)"
   ]
  },
  {
   "cell_type": "code",
   "execution_count": 56,
   "id": "1f96c78f",
   "metadata": {},
   "outputs": [
    {
     "name": "stdout",
     "output_type": "stream",
     "text": [
      "finish\n"
     ]
    }
   ],
   "source": [
    "print(\"finish\")"
   ]
  },
  {
   "cell_type": "code",
   "execution_count": null,
   "id": "5f6e0f1d",
   "metadata": {},
   "outputs": [],
   "source": []
  }
 ],
 "metadata": {
  "kernelspec": {
   "display_name": "Tf",
   "language": "python",
   "name": "tf"
  },
  "language_info": {
   "codemirror_mode": {
    "name": "ipython",
    "version": 3
   },
   "file_extension": ".py",
   "mimetype": "text/x-python",
   "name": "python",
   "nbconvert_exporter": "python",
   "pygments_lexer": "ipython3",
   "version": "3.10.0"
  }
 },
 "nbformat": 4,
 "nbformat_minor": 5
}
