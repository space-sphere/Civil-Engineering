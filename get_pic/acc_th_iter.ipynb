{
 "cells": [
  {
   "cell_type": "code",
   "execution_count": 7,
   "metadata": {},
   "outputs": [],
   "source": [
    "import numpy as np\n",
    "import pandas as pd\n",
    "from sklearn.neural_network import MLPClassifier\n",
    "from sklearn.svm import SVC\n",
    "from sklearn.ensemble import GradientBoostingClassifier\n",
    "import joblib\n",
    "from xgboost import XGBClassifier\n",
    "from sklearn.metrics import accuracy_score\n",
    "import matplotlib.pyplot as plt\n",
    "%matplotlib inline\n",
    "from sklearn.model_selection import learning_curve"
   ]
  },
  {
   "cell_type": "code",
   "execution_count": 8,
   "metadata": {},
   "outputs": [],
   "source": [
    "xgb = joblib.load(r'..\\saved_models\\xgb.pkl')\n",
    "svm = joblib.load(r'..\\saved_models\\svm.pkl')\n",
    "gbrt = joblib.load(r'..\\saved_models\\gbrt.pkl')\n",
    "mlp = joblib.load(r'..\\saved_models\\mlp.pkl')"
   ]
  },
  {
   "cell_type": "code",
   "execution_count": 9,
   "metadata": {},
   "outputs": [],
   "source": [
    "xgb_param = xgb.get_params()\n",
    "svm_param = svm.get_params()\n",
    "gbrt_param = gbrt.get_params()\n",
    "mlp_param = mlp.get_params()"
   ]
  },
  {
   "cell_type": "code",
   "execution_count": 10,
   "metadata": {},
   "outputs": [],
   "source": [
    "df_train = pd.read_csv(r'..\\..\\..\\Data\\隧道围岩项目\\训练集.csv')\n",
    "X_train = df_train.iloc[:, 1:]\n",
    "y_train = df_train.iloc[:, 0]\n",
    "df_test = pd.read_excel(r'..\\..\\..\\Data\\隧道围岩项目\\测试集.xlsx', sheet_name='Sheet1')\n",
    "X_test = df_test.iloc[:, 1:]\n",
    "y_test = df_test.iloc[:, 0]"
   ]
  },
  {
   "cell_type": "code",
   "execution_count": 11,
   "metadata": {},
   "outputs": [],
   "source": [
    "xgb_param['n_estimators'] = 1000"
   ]
  },
  {
   "cell_type": "code",
   "execution_count": 12,
   "metadata": {},
   "outputs": [],
   "source": [
    "xgb_new = XGBClassifier(**xgb_param)"
   ]
  },
  {
   "cell_type": "code",
   "execution_count": 13,
   "metadata": {},
   "outputs": [
    {
     "name": "stderr",
     "output_type": "stream",
     "text": [
      "d:\\program\\navigator\\envs\\Tf\\lib\\site-packages\\xgboost\\sklearn.py:835: UserWarning: `eval_metric` in `fit` method is deprecated for better compatibility with scikit-learn, use `eval_metric` in constructor or`set_params` instead.\n",
      "  warnings.warn(\n"
     ]
    },
    {
     "data": {
      "text/plain": [
       "<matplotlib.legend.Legend at 0x260f8a3faf0>"
      ]
     },
     "execution_count": 13,
     "metadata": {},
     "output_type": "execute_result"
    },
    {
     "data": {
      "image/png": "[encoded data removed]",
      "text/plain": [
       "<Figure size 640x480 with 1 Axes>"
      ]
     },
     "metadata": {},
     "output_type": "display_data"
    }
   ],
   "source": [
    "evalset = [(X_train, y_train - 1), (X_test, y_test - 1)]\n",
    "xgb_new.fit(X_train, y_train - 1,\n",
    "            eval_metric='mlogloss', eval_set=evalset, verbose=0\n",
    "            )\n",
    "yhat = xgb_new.predict(X_test)\n",
    "score = accuracy_score(y_test - 1, yhat)\n",
    "print('Accuracy: %.3f' % score)\n",
    "results = xgb_new.evals_result()\n",
    "plt.plot(results['validation_0']['mlogloss'], label='train_xgb')\n",
    "plt.plot(results['validation_1']['mlogloss'], label='test_xgb')\n",
    "plt.legend()"
   ]
  },
  {
   "cell_type": "code",
   "execution_count": 93,
   "metadata": {},
   "outputs": [
    {
     "data": {
      "text/plain": [
       "      Iter       Train Loss      OOB Improve   Remaining Time \n",
       "         1           0.5306           0.6338            3.83s\n",
       "         2           0.1970           0.0107            3.16s\n",
       "         3           0.1069           0.0548            3.01s\n",
       "         4           0.0563           0.0278            2.80s\n",
       "         5           0.0316           0.0118            2.24s\n",
       "         6           0.0182           0.0089            2.56s\n",
       "         7           0.0112          -0.0011            2.82s\n",
       "         8           0.0069          -0.0017            2.77s\n",
       "         9           0.0038           0.0025            2.64s\n",
       "        10           0.0023           0.0002            2.78s\n",
       "        20           0.0000          -0.0000            2.57s\n",
       "        30           0.0000           0.0000            2.35s\n",
       "        40           0.0000          -0.0000            2.10s\n",
       "        50           0.0000          -0.0000            1.84s\n",
       "        60           0.0000          -0.0000            1.66s\n",
       "        70           0.0000          -0.0000            1.52s\n",
       "        80           0.0000          -0.0000            1.39s\n",
       "        90           0.0000          -0.0000            1.32s\n",
       "       100           0.0000          -0.0000            1.25s\n",
       "       200           0.0000          -0.0000            0.79s\n",
       "       300           0.0000          -0.0000            0.49s\n",
       "       400           0.0000          -0.0000            0.24s\n",
       "       500           0.0000          -0.0000            0.00s\n"
      ]
     },
     "metadata": {},
     "output_type": "display_data"
    },
    {
     "data": {
      "text/plain": [
       "Text(0, 0.5, 'Loss')"
      ]
     },
     "execution_count": 93,
     "metadata": {},
     "output_type": "execute_result"
    },
    {
     "data": {
      "image/png": "[encoded data removed]",
      "text/plain": [
       "<Figure size 640x480 with 1 Axes>"
      ]
     },
     "metadata": {},
     "output_type": "display_data"
    }
   ],
   "source": [
    "import sys\n",
    "from io import StringIO\n",
    "gbrt_param['n_estimators'] = 500\n",
    "gbrt_param['verbose'] = 1\n",
    "model = GradientBoostingClassifier(**gbrt_param)\n",
    "old_stdout = sys.stdout\n",
    "sys.stdout = mystdout = StringIO()\n",
    "clf = model\n",
    "clf.fit(X_train, y_train)\n",
    "sys.stdout = old_stdout\n",
    "loss_history = mystdout.getvalue()\n",
    "print_to_cell(loss_history)\n",
    "loss_list = []\n",
    "for i in range(len(loss_history.split('\\n')) -1):\n",
    "    if i == 0:\n",
    "        continue\n",
    "    # print_to_cell(loss_history.split('\\n')[i].split())\n",
    "    loss_list.append(float(loss_history.split('\\n')[i].split()[1]))\n",
    "plt.figure()\n",
    "plt.plot(np.arange(len(loss_list)), loss_list)\n",
    "plt.xlabel(\"Time in epochs\")\n",
    "plt.ylabel(\"Loss\")"
   ]
  },
  {
   "cell_type": "code",
   "execution_count": 86,
   "metadata": {},
   "outputs": [
    {
     "data": {
      "text/plain": [
       "['0.5333',\n",
       " '0.2082',\n",
       " '0.1037',\n",
       " '0.0604',\n",
       " '0.0374',\n",
       " '0.0189',\n",
       " '0.0117',\n",
       " '0.0061',\n",
       " '0.0039',\n",
       " '0.0024']"
      ]
     },
     "execution_count": 86,
     "metadata": {},
     "output_type": "execute_result"
    }
   ],
   "source": [
    "loss_list"
   ]
  },
  {
   "cell_type": "code",
   "execution_count": 6,
   "metadata": {},
   "outputs": [
    {
     "data": {
      "text/plain": [
       "这条消息将打印到Jupyter Notebook单元格"
      ]
     },
     "metadata": {},
     "output_type": "display_data"
    }
   ],
   "source": [
    "from IPython.display import display\n",
    "\n",
    "def print_to_cell(text):\n",
    "    display({\"text/plain\": text}, raw=True)\n",
    "\n",
    "print(\"这条消息将打印到终端\")\n",
    "print_to_cell(\"这条消息将打印到Jupyter Notebook单元格\")"
   ]
  },
  {
   "cell_type": "code",
   "execution_count": 17,
   "metadata": {},
   "outputs": [
    {
     "data": {
      "text/plain": [
       "str"
      ]
     },
     "execution_count": 17,
     "metadata": {},
     "output_type": "execute_result"
    }
   ],
   "source": [
    "def get_output(model, X_train, y_train):\n",
    "    sys.stdout = mystdout = StringIO()\n",
    "    model.fit(X_train, y_train)\n",
    "    sys.stdout = sys.__stdout__\n",
    "    return mystdout.getvalue()\n",
    "\n",
    "output = get_output(model, X_train, y_train)\n",
    "sys.stdout = sys.__stdout__\n",
    "type(get_output(model, X_train, y_train))"
   ]
  },
  {
   "cell_type": "code",
   "execution_count": 74,
   "metadata": {},
   "outputs": [],
   "source": [
    "import sys\n",
    "from io import StringIO\n",
    "gbrt_param['n_estimators'] = 10\n",
    "gbrt_param['verbose'] = 1\n",
    "model = GradientBoostingClassifier(**gbrt_param)\n",
    "sys.stdout = mystdout = StringIO()\n",
    "model.fit(X_train, y_train)\n",
    "sys.stdout = \n",
    "print(1)\n",
    "print('old_stdout is {}'.format(mystdout.getvalue()))\n",
    "print(2)"
   ]
  },
  {
   "cell_type": "code",
   "execution_count": 111,
   "metadata": {},
   "outputs": [],
   "source": [
    "mlp_param['solver'] = 'sgd'"
   ]
  },
  {
   "cell_type": "code",
   "execution_count": 124,
   "metadata": {},
   "outputs": [
    {
     "data": {
      "text/plain": [
       "[<matplotlib.lines.Line2D at 0x260fd02a410>]"
      ]
     },
     "execution_count": 124,
     "metadata": {},
     "output_type": "execute_result"
    },
    {
     "data": {
      "image/png": "[encoded data removed]",
      "text/plain": [
       "<Figure size 640x480 with 1 Axes>"
      ]
     },
     "metadata": {},
     "output_type": "display_data"
    }
   ],
   "source": [
    "mlp = MLPClassifier(**mlp_param)\n",
    "mlp.fit(X_train, y_train)\n",
    "plt.plot(mlp.loss_curve_)"
   ]
  },
  {
   "cell_type": "code",
   "execution_count": 123,
   "metadata": {},
   "outputs": [],
   "source": [
    "mlp_param['learning_rate_init'] = 0.1"
   ]
  },
  {
   "cell_type": "code",
   "execution_count": null,
   "metadata": {},
   "outputs": [],
   "source": []
  }
 ],
 "metadata": {
  "kernelspec": {
   "display_name": "Tf",
   "language": "python",
   "name": "tf"
  },
  "language_info": {
   "codemirror_mode": {
    "name": "ipython",
    "version": 3
   },
   "file_extension": ".py",
   "mimetype": "text/x-python",
   "name": "python",
   "nbconvert_exporter": "python",
   "pygments_lexer": "ipython3",
   "version": "3.10.0"
  }
 },
 "nbformat": 4,
 "nbformat_minor": 2
}
