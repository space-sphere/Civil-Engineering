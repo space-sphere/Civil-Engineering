{
 "cells": [
  {
   "cell_type": "code",
   "execution_count": 39,
   "id": "initial_id",
   "metadata": {
    "collapsed": true,
    "ExecuteTime": {
     "end_time": "2023-11-08T19:53:29.460250100Z",
     "start_time": "2023-11-08T19:53:29.113455500Z"
    }
   },
   "outputs": [],
   "source": [
    "import numpy as np\n",
    "import pandas as pd\n",
    "from data_pre import data_normalize\n",
    "import warnings\n",
    "warnings.filterwarnings('ignore')\n",
    "d = pd.read_excel(r\"D:\\program\\pycharm\\model\\Data\\新训练.xlsx\", sheet_name='Sheet2')\n",
    "# X = df.iloc[:, 1:]\n",
    "# y = df.iloc[:, 0]\n",
    "data = data_normalize(d, 'WD')\n",
    "df = data.fillna_by_random_fix()\n",
    "X = df.iloc[:, 1:]\n",
    "y = df.iloc[:, 0]\n",
    "from sklearn.model_selection import train_test_split\n",
    "X_train, X_test, y_train, y_test = train_test_split(X, y, test_size=0.2, random_state=10)\n",
    "aver = X_train.mean(axis=0)\n",
    "std = X_train.std(axis=0)\n",
    "X_train = (X_train-aver)/std\n",
    "X_test = (X_test-aver)/std"
   ]
  },
  {
   "cell_type": "code",
   "execution_count": 40,
   "outputs": [
    {
     "data": {
      "text/plain": "     WD  WLC     WLA     WIA      TD      TI    UCS    MTL    TN   ATI    TBD\n0     1    1   0.000   0.000   1.360   1.290  52.64  0.200   2.0  0.68   11.0\n1     4    1  10.100  12.350  99.120  26.890  10.20  0.500   7.0  0.55   20.0\n2     3    3   8.900  10.230  63.440  18.640  32.00  1.200  15.0  0.32   40.0\n3     2    2   4.300   6.010  35.660  11.560  50.56  1.700  18.0  0.10  350.0\n4     2    1   0.000   0.000   2.360   3.570  60.25  1.400  14.0  0.18  221.0\n..   ..  ...     ...     ...     ...     ...    ...    ...   ...   ...    ...\n146   2    2  16.858   8.028  56.476  10.459  11.94  0.935  17.0  0.11  180.0\n147   4    3   7.214   3.461  65.889  25.101  21.86  1.490  12.0  0.17  204.0\n148   3    3  22.491   2.869  30.330  11.504  16.99  1.400   8.0  0.32  309.0\n149   2    4  24.662   6.223  89.944  21.963   7.29  0.980   6.0  0.56  192.0\n150   5    1   0.000   0.000  49.155   6.275  17.89  1.095  15.0  0.10  322.0\n\n[151 rows x 11 columns]",
      "text/html": "<div>\n<style scoped>\n    .dataframe tbody tr th:only-of-type {\n        vertical-align: middle;\n    }\n\n    .dataframe tbody tr th {\n        vertical-align: top;\n    }\n\n    .dataframe thead th {\n        text-align: right;\n    }\n</style>\n<table border=\"1\" class=\"dataframe\">\n  <thead>\n    <tr style=\"text-align: right;\">\n      <th></th>\n      <th>WD</th>\n      <th>WLC</th>\n      <th>WLA</th>\n      <th>WIA</th>\n      <th>TD</th>\n      <th>TI</th>\n      <th>UCS</th>\n      <th>MTL</th>\n      <th>TN</th>\n      <th>ATI</th>\n      <th>TBD</th>\n    </tr>\n  </thead>\n  <tbody>\n    <tr>\n      <th>0</th>\n      <td>1</td>\n      <td>1</td>\n      <td>0.000</td>\n      <td>0.000</td>\n      <td>1.360</td>\n      <td>1.290</td>\n      <td>52.64</td>\n      <td>0.200</td>\n      <td>2.0</td>\n      <td>0.68</td>\n      <td>11.0</td>\n    </tr>\n    <tr>\n      <th>1</th>\n      <td>4</td>\n      <td>1</td>\n      <td>10.100</td>\n      <td>12.350</td>\n      <td>99.120</td>\n      <td>26.890</td>\n      <td>10.20</td>\n      <td>0.500</td>\n      <td>7.0</td>\n      <td>0.55</td>\n      <td>20.0</td>\n    </tr>\n    <tr>\n      <th>2</th>\n      <td>3</td>\n      <td>3</td>\n      <td>8.900</td>\n      <td>10.230</td>\n      <td>63.440</td>\n      <td>18.640</td>\n      <td>32.00</td>\n      <td>1.200</td>\n      <td>15.0</td>\n      <td>0.32</td>\n      <td>40.0</td>\n    </tr>\n    <tr>\n      <th>3</th>\n      <td>2</td>\n      <td>2</td>\n      <td>4.300</td>\n      <td>6.010</td>\n      <td>35.660</td>\n      <td>11.560</td>\n      <td>50.56</td>\n      <td>1.700</td>\n      <td>18.0</td>\n      <td>0.10</td>\n      <td>350.0</td>\n    </tr>\n    <tr>\n      <th>4</th>\n      <td>2</td>\n      <td>1</td>\n      <td>0.000</td>\n      <td>0.000</td>\n      <td>2.360</td>\n      <td>3.570</td>\n      <td>60.25</td>\n      <td>1.400</td>\n      <td>14.0</td>\n      <td>0.18</td>\n      <td>221.0</td>\n    </tr>\n    <tr>\n      <th>...</th>\n      <td>...</td>\n      <td>...</td>\n      <td>...</td>\n      <td>...</td>\n      <td>...</td>\n      <td>...</td>\n      <td>...</td>\n      <td>...</td>\n      <td>...</td>\n      <td>...</td>\n      <td>...</td>\n    </tr>\n    <tr>\n      <th>146</th>\n      <td>2</td>\n      <td>2</td>\n      <td>16.858</td>\n      <td>8.028</td>\n      <td>56.476</td>\n      <td>10.459</td>\n      <td>11.94</td>\n      <td>0.935</td>\n      <td>17.0</td>\n      <td>0.11</td>\n      <td>180.0</td>\n    </tr>\n    <tr>\n      <th>147</th>\n      <td>4</td>\n      <td>3</td>\n      <td>7.214</td>\n      <td>3.461</td>\n      <td>65.889</td>\n      <td>25.101</td>\n      <td>21.86</td>\n      <td>1.490</td>\n      <td>12.0</td>\n      <td>0.17</td>\n      <td>204.0</td>\n    </tr>\n    <tr>\n      <th>148</th>\n      <td>3</td>\n      <td>3</td>\n      <td>22.491</td>\n      <td>2.869</td>\n      <td>30.330</td>\n      <td>11.504</td>\n      <td>16.99</td>\n      <td>1.400</td>\n      <td>8.0</td>\n      <td>0.32</td>\n      <td>309.0</td>\n    </tr>\n    <tr>\n      <th>149</th>\n      <td>2</td>\n      <td>4</td>\n      <td>24.662</td>\n      <td>6.223</td>\n      <td>89.944</td>\n      <td>21.963</td>\n      <td>7.29</td>\n      <td>0.980</td>\n      <td>6.0</td>\n      <td>0.56</td>\n      <td>192.0</td>\n    </tr>\n    <tr>\n      <th>150</th>\n      <td>5</td>\n      <td>1</td>\n      <td>0.000</td>\n      <td>0.000</td>\n      <td>49.155</td>\n      <td>6.275</td>\n      <td>17.89</td>\n      <td>1.095</td>\n      <td>15.0</td>\n      <td>0.10</td>\n      <td>322.0</td>\n    </tr>\n  </tbody>\n</table>\n<p>151 rows × 11 columns</p>\n</div>"
     },
     "execution_count": 40,
     "metadata": {},
     "output_type": "execute_result"
    }
   ],
   "source": [
    "df"
   ],
   "metadata": {
    "collapsed": false,
    "ExecuteTime": {
     "end_time": "2023-11-08T19:53:29.932932300Z",
     "start_time": "2023-11-08T19:53:29.917302100Z"
    }
   },
   "id": "aae2990175dec8bc"
  },
  {
   "cell_type": "code",
   "execution_count": 46,
   "outputs": [
    {
     "name": "stdout",
     "output_type": "stream",
     "text": [
      "训练集精度:\n",
      "0.9833333333333333\n",
      "\n",
      "测试集精度:\n",
      "0.7741935483870968\n",
      "\n",
      "分类识别报告:\n",
      "              precision    recall  f1-score   support\n",
      "\n",
      "           1       0.00      0.00      0.00         1\n",
      "           2       0.92      0.85      0.88        13\n",
      "           3       0.56      0.71      0.63         7\n",
      "           4       0.75      0.75      0.75         8\n",
      "           5       1.00      1.00      1.00         2\n",
      "\n",
      "    accuracy                           0.77        31\n",
      "   macro avg       0.64      0.66      0.65        31\n",
      "weighted avg       0.77      0.77      0.77        31\n"
     ]
    }
   ],
   "source": [
    "from sklearn.ensemble import GradientBoostingClassifier\n",
    "from sklearn import metrics\n",
    "def train_and_evaluate(clf, X_train, X_test, y_train, y_test):\n",
    "    clf.fit(X_train, y_train)             # 训练\n",
    "\n",
    "    print (\"训练集精度:\")   # 训练集精度\n",
    "    print (clf.score(X_train, y_train))\n",
    "\n",
    "    print (\"\\n测试集精度:\")    # 测试集精度\n",
    "    print (clf.score(X_test, y_test))\n",
    "\n",
    "    y_pred = clf.predict(X_test)\n",
    "\n",
    "    print (\"\\n分类识别报告:\")      # 分类识别报告\n",
    "    print (metrics.classification_report(y_test, y_pred))\n",
    "\n",
    "    # print (\"\\n混淆矩阵:\")\n",
    "    # print (metrics.confusion_matrix(y_test, y_pred))\n",
    "params = {\n",
    "    'n_estimators': 200, # 弱分类器的个数\n",
    "    'max_depth': 2,       # 弱分类器（CART回归树）的最大深度\n",
    "    'min_samples_split': 3, # 分裂内部节点所需的最小样本数\n",
    "    'learning_rate': 0.02,  # 学习率\n",
    "    'loss': 'deviance',\n",
    "    'subsample': 0.8,\n",
    "    'random_state': 1\n",
    "}\n",
    "clf = GradientBoostingClassifier(**params)\n",
    "train_and_evaluate(clf, X_train, X_test, y_train, y_test)"
   ],
   "metadata": {
    "collapsed": false,
    "ExecuteTime": {
     "end_time": "2023-11-08T20:13:01.140212200Z",
     "start_time": "2023-11-08T20:13:00.522263Z"
    }
   },
   "id": "8d84e97020ce9858"
  },
  {
   "cell_type": "code",
   "execution_count": 44,
   "outputs": [
    {
     "data": {
      "text/plain": "array([0.8125    , 0.66666667, 0.66666667, 1.        , 0.8       ,\n       0.86666667, 0.8       , 0.66666667, 0.73333333, 0.8       ])"
     },
     "execution_count": 44,
     "metadata": {},
     "output_type": "execute_result"
    }
   ],
   "source": [
    "from sklearn.model_selection import cross_val_score\n",
    "params = {\n",
    "    'n_estimators': 400, # 弱分类器的个数\n",
    "    'max_depth': 2,       # 弱分类器（CART回归树）的最大深度\n",
    "    'min_samples_split': 3, # 分裂内部节点所需的最小样本数\n",
    "    'learning_rate': 0.02,  # 学习率\n",
    "    'loss': 'deviance',\n",
    "    'subsample': 0.8,\n",
    "    'random_state': 1\n",
    "}\n",
    "clf = GradientBoostingClassifier(**params)\n",
    "scores = cross_val_score(clf, X, y, scoring='accuracy', cv=10)\n",
    "scores"
   ],
   "metadata": {
    "collapsed": false,
    "ExecuteTime": {
     "end_time": "2023-11-08T20:00:23.314422600Z",
     "start_time": "2023-11-08T20:00:11.308708400Z"
    }
   },
   "id": "a2be5ac1c7b324d5"
  },
  {
   "cell_type": "code",
   "execution_count": 45,
   "outputs": [
    {
     "data": {
      "text/plain": "0.78125"
     },
     "execution_count": 45,
     "metadata": {},
     "output_type": "execute_result"
    }
   ],
   "source": [
    "scores.mean()"
   ],
   "metadata": {
    "collapsed": false,
    "ExecuteTime": {
     "end_time": "2023-11-08T20:00:37.298433100Z",
     "start_time": "2023-11-08T20:00:37.266796100Z"
    }
   },
   "id": "753be7d4262560ac"
  },
  {
   "cell_type": "code",
   "execution_count": 22,
   "outputs": [
    {
     "name": "stdout",
     "output_type": "stream",
     "text": [
      "0.01\n",
      "训练集精度:\n",
      "0.9\n",
      "\n",
      "测试集精度:\n",
      "0.7419354838709677\n",
      "--------------------------------------------------\n",
      "0.015\n",
      "训练集精度:\n",
      "0.9416666666666667\n",
      "\n",
      "测试集精度:\n",
      "0.7419354838709677\n",
      "--------------------------------------------------\n",
      "0.02\n",
      "训练集精度:\n",
      "0.9916666666666667\n",
      "\n",
      "测试集精度:\n",
      "0.8064516129032258\n",
      "--------------------------------------------------\n",
      "0.025\n",
      "训练集精度:\n",
      "1.0\n",
      "\n",
      "测试集精度:\n",
      "0.7741935483870968\n",
      "--------------------------------------------------\n"
     ]
    }
   ],
   "source": [
    "learning_rate = [0.01, 0.015, 0.02, 0.025]\n",
    "for n in learning_rate:\n",
    "    params = {\n",
    "    'n_estimators': 150, # 弱分类器的个数\n",
    "    'max_depth': 2,       # 弱分类器（CART回归树）的最大深度\n",
    "    'min_samples_split': 3, # 分裂内部节点所需的最小样本数\n",
    "    'learning_rate': 0.02,  # 学习率\n",
    "    'loss': 'deviance',\n",
    "    'subsample': 0.8,\n",
    "    'random_state': 1\n",
    "}\n",
    "    clf = GradientBoostingClassifier(**params)\n",
    "    clf.fit(X_train, y_train)\n",
    "    print(n)\n",
    "    print (\"训练集精度:\")   # 训练集精度\n",
    "    print (clf.score(X_train, y_train))\n",
    "\n",
    "    print (\"\\n测试集精度:\")    # 测试集精度\n",
    "    print (clf.score(X_test, y_test))\n",
    "    print('-' * 50)"
   ],
   "metadata": {
    "collapsed": false,
    "ExecuteTime": {
     "end_time": "2023-11-08T19:35:22.929928900Z",
     "start_time": "2023-11-08T19:35:21.132829500Z"
    }
   },
   "id": "ecfc5a8ef6340c3f"
  },
  {
   "cell_type": "code",
   "execution_count": 24,
   "outputs": [],
   "source": [
    "y_pred = clf.predict(X_test)\n",
    "# X_train[y_test != y_pred]\n",
    "y_pred = pd.DataFrame(y_pred)\n",
    "y_pred.index=y_test.index\n",
    "df_ = pd.concat([X_test, y_pred, y_test], axis=1)"
   ],
   "metadata": {
    "collapsed": false,
    "ExecuteTime": {
     "end_time": "2023-11-08T19:36:30.517730800Z",
     "start_time": "2023-11-08T19:36:30.470441700Z"
    }
   },
   "id": "3d75d6012b7255e2"
  },
  {
   "cell_type": "code",
   "execution_count": 25,
   "outputs": [
    {
     "data": {
      "text/plain": "          WLC       WLA       WIA        TD        TI       UCS       MTL  \\\n39   0.654106  0.010462  0.633426  1.054838  0.217651  0.172064  0.632948   \n1   -1.109776  0.616968  2.557656  2.076732  2.405468 -1.251528 -1.712076   \n144  0.654106  0.452771  0.476103 -0.378537 -0.483824 -1.641553  0.336974   \n21   1.536047  0.291717  1.896398  2.196002  1.951367 -0.946008 -0.619249   \n24   0.654106  0.024603  1.608077  0.808568  0.863765  0.194520  0.314207   \n118 -0.227835  0.605183 -0.398575 -1.264044 -0.630426 -1.606096 -0.248144   \n\n           TN       ATI       TBD  0  WD  \n39  -0.736120 -0.333237 -0.065610  4   3  \n1   -1.928217  1.776612 -2.147040  3   4  \n144  0.575187  2.520470  0.036199  4   5  \n21  -2.166636  1.830711 -2.079167  3   2  \n24   0.217558  0.045454  0.499996  3   2  \n118 -3.120314  2.479895  0.273753  2   1  ",
      "text/html": "<div>\n<style scoped>\n    .dataframe tbody tr th:only-of-type {\n        vertical-align: middle;\n    }\n\n    .dataframe tbody tr th {\n        vertical-align: top;\n    }\n\n    .dataframe thead th {\n        text-align: right;\n    }\n</style>\n<table border=\"1\" class=\"dataframe\">\n  <thead>\n    <tr style=\"text-align: right;\">\n      <th></th>\n      <th>WLC</th>\n      <th>WLA</th>\n      <th>WIA</th>\n      <th>TD</th>\n      <th>TI</th>\n      <th>UCS</th>\n      <th>MTL</th>\n      <th>TN</th>\n      <th>ATI</th>\n      <th>TBD</th>\n      <th>0</th>\n      <th>WD</th>\n    </tr>\n  </thead>\n  <tbody>\n    <tr>\n      <th>39</th>\n      <td>0.654106</td>\n      <td>0.010462</td>\n      <td>0.633426</td>\n      <td>1.054838</td>\n      <td>0.217651</td>\n      <td>0.172064</td>\n      <td>0.632948</td>\n      <td>-0.736120</td>\n      <td>-0.333237</td>\n      <td>-0.065610</td>\n      <td>4</td>\n      <td>3</td>\n    </tr>\n    <tr>\n      <th>1</th>\n      <td>-1.109776</td>\n      <td>0.616968</td>\n      <td>2.557656</td>\n      <td>2.076732</td>\n      <td>2.405468</td>\n      <td>-1.251528</td>\n      <td>-1.712076</td>\n      <td>-1.928217</td>\n      <td>1.776612</td>\n      <td>-2.147040</td>\n      <td>3</td>\n      <td>4</td>\n    </tr>\n    <tr>\n      <th>144</th>\n      <td>0.654106</td>\n      <td>0.452771</td>\n      <td>0.476103</td>\n      <td>-0.378537</td>\n      <td>-0.483824</td>\n      <td>-1.641553</td>\n      <td>0.336974</td>\n      <td>0.575187</td>\n      <td>2.520470</td>\n      <td>0.036199</td>\n      <td>4</td>\n      <td>5</td>\n    </tr>\n    <tr>\n      <th>21</th>\n      <td>1.536047</td>\n      <td>0.291717</td>\n      <td>1.896398</td>\n      <td>2.196002</td>\n      <td>1.951367</td>\n      <td>-0.946008</td>\n      <td>-0.619249</td>\n      <td>-2.166636</td>\n      <td>1.830711</td>\n      <td>-2.079167</td>\n      <td>3</td>\n      <td>2</td>\n    </tr>\n    <tr>\n      <th>24</th>\n      <td>0.654106</td>\n      <td>0.024603</td>\n      <td>1.608077</td>\n      <td>0.808568</td>\n      <td>0.863765</td>\n      <td>0.194520</td>\n      <td>0.314207</td>\n      <td>0.217558</td>\n      <td>0.045454</td>\n      <td>0.499996</td>\n      <td>3</td>\n      <td>2</td>\n    </tr>\n    <tr>\n      <th>118</th>\n      <td>-0.227835</td>\n      <td>0.605183</td>\n      <td>-0.398575</td>\n      <td>-1.264044</td>\n      <td>-0.630426</td>\n      <td>-1.606096</td>\n      <td>-0.248144</td>\n      <td>-3.120314</td>\n      <td>2.479895</td>\n      <td>0.273753</td>\n      <td>2</td>\n      <td>1</td>\n    </tr>\n  </tbody>\n</table>\n</div>"
     },
     "execution_count": 25,
     "metadata": {},
     "output_type": "execute_result"
    }
   ],
   "source": [
    "df_.loc[df_[df_[0] != df_['WD']].index.tolist()]"
   ],
   "metadata": {
    "collapsed": false,
    "ExecuteTime": {
     "end_time": "2023-11-08T19:36:31.021646900Z",
     "start_time": "2023-11-08T19:36:30.974376100Z"
    }
   },
   "id": "d40240c50a7de48a"
  },
  {
   "cell_type": "code",
   "execution_count": 27,
   "outputs": [
    {
     "data": {
      "text/plain": "(WD       2.000\n WLC      4.000\n WLA      8.030\n WIA     10.240\n TD     102.360\n TI      23.650\n UCS     15.370\n MTL      0.954\n TN       6.000\n ATI      0.560\n TBD    192.000\n Name: 67, dtype: float64,\n WD       2.00\n WLC      4.00\n WLA      8.03\n WIA     10.24\n TD     102.36\n TI      23.65\n UCS     15.37\n MTL      0.98\n TN       6.00\n ATI      0.56\n TBD     26.00\n Name: 21, dtype: float64)"
     },
     "execution_count": 27,
     "metadata": {},
     "output_type": "execute_result"
    }
   ],
   "source": [
    "df.iloc[67], df.iloc[21]"
   ],
   "metadata": {
    "collapsed": false,
    "ExecuteTime": {
     "end_time": "2023-11-08T19:42:23.402338500Z",
     "start_time": "2023-11-08T19:42:23.374191Z"
    }
   },
   "id": "8ea379dde8d1c816"
  },
  {
   "cell_type": "code",
   "execution_count": 9,
   "outputs": [
    {
     "data": {
      "text/plain": "     WD  WLC     WLA     WIA       TD      TI    UCS    MTL    TN    ATI  \\\n5     4    4  12.350  11.680  106.530  24.280   4.66  1.700  17.0  0.120   \n6     4    4  10.320   8.670   70.230  17.830  17.58  0.400   9.0  0.570   \n10    4    4  12.660  11.350  106.230  27.340   5.24  1.860  17.0  0.139   \n16    3    4  10.250   8.640   65.560  16.240  15.54  1.200   9.0  0.590   \n17    3    4   6.450   4.870   34.870   9.560  32.57  1.400  12.0  0.380   \n21    2    4   8.030  10.240  102.360  23.650  15.37  0.980   6.0  0.560   \n44    3    4   7.880   6.570   62.470   8.380  39.64  1.560  16.0  0.180   \n51    4    4  12.350  11.680  106.530  24.280   4.66    NaN   NaN    NaN   \n52    4    4  10.320   8.670   70.230  17.830  17.58    NaN   NaN    NaN   \n56    4    4  12.660  11.350  106.230  27.340   5.24    NaN   NaN    NaN   \n62    3    4  10.250   8.640   65.560  16.240  15.54    NaN   NaN    NaN   \n63    3    4   6.450   4.870   34.870   9.560  32.57    NaN   NaN    NaN   \n67    2    4   8.030  10.240  102.360  23.650  15.37    NaN   NaN    NaN   \n90    3    4   7.880   6.570   62.470   8.380  39.64    NaN   NaN    NaN   \n94    4    4  17.589   6.001    6.275   4.183  17.46  1.102   NaN    NaN   \n99    4    4  15.638   5.831   57.522  10.459  16.73  0.910   NaN    NaN   \n101   4    4  13.567   4.681   39.743   5.229   4.40  0.544   NaN    NaN   \n107   2    4  24.662   6.223   89.944  21.963   7.29  0.954   NaN    NaN   \n112   2    4  14.647   1.511   97.265  18.825  48.07  0.954   NaN    NaN   \n121   4    4  26.593   2.337   18.825   8.367  29.29  1.439   NaN    NaN   \n130   4    4  11.856   4.387  103.540   8.367  15.56  1.396   NaN    NaN   \n136   4    4  20.260   7.984   98.311  24.055   6.34  1.054   NaN    NaN   \n141   4    4  15.638   5.831   57.522  10.459  16.73    NaN   NaN    NaN   \n143   4    4  13.567   4.681   39.743   5.229   4.40    NaN   NaN    NaN   \n149   2    4  24.662   6.223   89.944  21.963   7.29    NaN   NaN    NaN   \n\n       TBD  \n5    290.0  \n6     42.0  \n10   365.0  \n16   159.0  \n17   256.0  \n21    26.0  \n44   194.0  \n51     NaN  \n52     NaN  \n56     NaN  \n62     NaN  \n63     NaN  \n67     NaN  \n90     NaN  \n94   330.0  \n99   117.0  \n101   99.0  \n107  265.0  \n112  192.0  \n121  312.0  \n130  265.0  \n136  367.0  \n141    NaN  \n143    NaN  \n149    NaN  ",
      "text/html": "<div>\n<style scoped>\n    .dataframe tbody tr th:only-of-type {\n        vertical-align: middle;\n    }\n\n    .dataframe tbody tr th {\n        vertical-align: top;\n    }\n\n    .dataframe thead th {\n        text-align: right;\n    }\n</style>\n<table border=\"1\" class=\"dataframe\">\n  <thead>\n    <tr style=\"text-align: right;\">\n      <th></th>\n      <th>WD</th>\n      <th>WLC</th>\n      <th>WLA</th>\n      <th>WIA</th>\n      <th>TD</th>\n      <th>TI</th>\n      <th>UCS</th>\n      <th>MTL</th>\n      <th>TN</th>\n      <th>ATI</th>\n      <th>TBD</th>\n    </tr>\n  </thead>\n  <tbody>\n    <tr>\n      <th>5</th>\n      <td>4</td>\n      <td>4</td>\n      <td>12.350</td>\n      <td>11.680</td>\n      <td>106.530</td>\n      <td>24.280</td>\n      <td>4.66</td>\n      <td>1.700</td>\n      <td>17.0</td>\n      <td>0.120</td>\n      <td>290.0</td>\n    </tr>\n    <tr>\n      <th>6</th>\n      <td>4</td>\n      <td>4</td>\n      <td>10.320</td>\n      <td>8.670</td>\n      <td>70.230</td>\n      <td>17.830</td>\n      <td>17.58</td>\n      <td>0.400</td>\n      <td>9.0</td>\n      <td>0.570</td>\n      <td>42.0</td>\n    </tr>\n    <tr>\n      <th>10</th>\n      <td>4</td>\n      <td>4</td>\n      <td>12.660</td>\n      <td>11.350</td>\n      <td>106.230</td>\n      <td>27.340</td>\n      <td>5.24</td>\n      <td>1.860</td>\n      <td>17.0</td>\n      <td>0.139</td>\n      <td>365.0</td>\n    </tr>\n    <tr>\n      <th>16</th>\n      <td>3</td>\n      <td>4</td>\n      <td>10.250</td>\n      <td>8.640</td>\n      <td>65.560</td>\n      <td>16.240</td>\n      <td>15.54</td>\n      <td>1.200</td>\n      <td>9.0</td>\n      <td>0.590</td>\n      <td>159.0</td>\n    </tr>\n    <tr>\n      <th>17</th>\n      <td>3</td>\n      <td>4</td>\n      <td>6.450</td>\n      <td>4.870</td>\n      <td>34.870</td>\n      <td>9.560</td>\n      <td>32.57</td>\n      <td>1.400</td>\n      <td>12.0</td>\n      <td>0.380</td>\n      <td>256.0</td>\n    </tr>\n    <tr>\n      <th>21</th>\n      <td>2</td>\n      <td>4</td>\n      <td>8.030</td>\n      <td>10.240</td>\n      <td>102.360</td>\n      <td>23.650</td>\n      <td>15.37</td>\n      <td>0.980</td>\n      <td>6.0</td>\n      <td>0.560</td>\n      <td>26.0</td>\n    </tr>\n    <tr>\n      <th>44</th>\n      <td>3</td>\n      <td>4</td>\n      <td>7.880</td>\n      <td>6.570</td>\n      <td>62.470</td>\n      <td>8.380</td>\n      <td>39.64</td>\n      <td>1.560</td>\n      <td>16.0</td>\n      <td>0.180</td>\n      <td>194.0</td>\n    </tr>\n    <tr>\n      <th>51</th>\n      <td>4</td>\n      <td>4</td>\n      <td>12.350</td>\n      <td>11.680</td>\n      <td>106.530</td>\n      <td>24.280</td>\n      <td>4.66</td>\n      <td>NaN</td>\n      <td>NaN</td>\n      <td>NaN</td>\n      <td>NaN</td>\n    </tr>\n    <tr>\n      <th>52</th>\n      <td>4</td>\n      <td>4</td>\n      <td>10.320</td>\n      <td>8.670</td>\n      <td>70.230</td>\n      <td>17.830</td>\n      <td>17.58</td>\n      <td>NaN</td>\n      <td>NaN</td>\n      <td>NaN</td>\n      <td>NaN</td>\n    </tr>\n    <tr>\n      <th>56</th>\n      <td>4</td>\n      <td>4</td>\n      <td>12.660</td>\n      <td>11.350</td>\n      <td>106.230</td>\n      <td>27.340</td>\n      <td>5.24</td>\n      <td>NaN</td>\n      <td>NaN</td>\n      <td>NaN</td>\n      <td>NaN</td>\n    </tr>\n    <tr>\n      <th>62</th>\n      <td>3</td>\n      <td>4</td>\n      <td>10.250</td>\n      <td>8.640</td>\n      <td>65.560</td>\n      <td>16.240</td>\n      <td>15.54</td>\n      <td>NaN</td>\n      <td>NaN</td>\n      <td>NaN</td>\n      <td>NaN</td>\n    </tr>\n    <tr>\n      <th>63</th>\n      <td>3</td>\n      <td>4</td>\n      <td>6.450</td>\n      <td>4.870</td>\n      <td>34.870</td>\n      <td>9.560</td>\n      <td>32.57</td>\n      <td>NaN</td>\n      <td>NaN</td>\n      <td>NaN</td>\n      <td>NaN</td>\n    </tr>\n    <tr>\n      <th>67</th>\n      <td>2</td>\n      <td>4</td>\n      <td>8.030</td>\n      <td>10.240</td>\n      <td>102.360</td>\n      <td>23.650</td>\n      <td>15.37</td>\n      <td>NaN</td>\n      <td>NaN</td>\n      <td>NaN</td>\n      <td>NaN</td>\n    </tr>\n    <tr>\n      <th>90</th>\n      <td>3</td>\n      <td>4</td>\n      <td>7.880</td>\n      <td>6.570</td>\n      <td>62.470</td>\n      <td>8.380</td>\n      <td>39.64</td>\n      <td>NaN</td>\n      <td>NaN</td>\n      <td>NaN</td>\n      <td>NaN</td>\n    </tr>\n    <tr>\n      <th>94</th>\n      <td>4</td>\n      <td>4</td>\n      <td>17.589</td>\n      <td>6.001</td>\n      <td>6.275</td>\n      <td>4.183</td>\n      <td>17.46</td>\n      <td>1.102</td>\n      <td>NaN</td>\n      <td>NaN</td>\n      <td>330.0</td>\n    </tr>\n    <tr>\n      <th>99</th>\n      <td>4</td>\n      <td>4</td>\n      <td>15.638</td>\n      <td>5.831</td>\n      <td>57.522</td>\n      <td>10.459</td>\n      <td>16.73</td>\n      <td>0.910</td>\n      <td>NaN</td>\n      <td>NaN</td>\n      <td>117.0</td>\n    </tr>\n    <tr>\n      <th>101</th>\n      <td>4</td>\n      <td>4</td>\n      <td>13.567</td>\n      <td>4.681</td>\n      <td>39.743</td>\n      <td>5.229</td>\n      <td>4.40</td>\n      <td>0.544</td>\n      <td>NaN</td>\n      <td>NaN</td>\n      <td>99.0</td>\n    </tr>\n    <tr>\n      <th>107</th>\n      <td>2</td>\n      <td>4</td>\n      <td>24.662</td>\n      <td>6.223</td>\n      <td>89.944</td>\n      <td>21.963</td>\n      <td>7.29</td>\n      <td>0.954</td>\n      <td>NaN</td>\n      <td>NaN</td>\n      <td>265.0</td>\n    </tr>\n    <tr>\n      <th>112</th>\n      <td>2</td>\n      <td>4</td>\n      <td>14.647</td>\n      <td>1.511</td>\n      <td>97.265</td>\n      <td>18.825</td>\n      <td>48.07</td>\n      <td>0.954</td>\n      <td>NaN</td>\n      <td>NaN</td>\n      <td>192.0</td>\n    </tr>\n    <tr>\n      <th>121</th>\n      <td>4</td>\n      <td>4</td>\n      <td>26.593</td>\n      <td>2.337</td>\n      <td>18.825</td>\n      <td>8.367</td>\n      <td>29.29</td>\n      <td>1.439</td>\n      <td>NaN</td>\n      <td>NaN</td>\n      <td>312.0</td>\n    </tr>\n    <tr>\n      <th>130</th>\n      <td>4</td>\n      <td>4</td>\n      <td>11.856</td>\n      <td>4.387</td>\n      <td>103.540</td>\n      <td>8.367</td>\n      <td>15.56</td>\n      <td>1.396</td>\n      <td>NaN</td>\n      <td>NaN</td>\n      <td>265.0</td>\n    </tr>\n    <tr>\n      <th>136</th>\n      <td>4</td>\n      <td>4</td>\n      <td>20.260</td>\n      <td>7.984</td>\n      <td>98.311</td>\n      <td>24.055</td>\n      <td>6.34</td>\n      <td>1.054</td>\n      <td>NaN</td>\n      <td>NaN</td>\n      <td>367.0</td>\n    </tr>\n    <tr>\n      <th>141</th>\n      <td>4</td>\n      <td>4</td>\n      <td>15.638</td>\n      <td>5.831</td>\n      <td>57.522</td>\n      <td>10.459</td>\n      <td>16.73</td>\n      <td>NaN</td>\n      <td>NaN</td>\n      <td>NaN</td>\n      <td>NaN</td>\n    </tr>\n    <tr>\n      <th>143</th>\n      <td>4</td>\n      <td>4</td>\n      <td>13.567</td>\n      <td>4.681</td>\n      <td>39.743</td>\n      <td>5.229</td>\n      <td>4.40</td>\n      <td>NaN</td>\n      <td>NaN</td>\n      <td>NaN</td>\n      <td>NaN</td>\n    </tr>\n    <tr>\n      <th>149</th>\n      <td>2</td>\n      <td>4</td>\n      <td>24.662</td>\n      <td>6.223</td>\n      <td>89.944</td>\n      <td>21.963</td>\n      <td>7.29</td>\n      <td>NaN</td>\n      <td>NaN</td>\n      <td>NaN</td>\n      <td>NaN</td>\n    </tr>\n  </tbody>\n</table>\n</div>"
     },
     "execution_count": 9,
     "metadata": {},
     "output_type": "execute_result"
    }
   ],
   "source": [
    "d[d['WLC']==4]"
   ],
   "metadata": {
    "collapsed": false,
    "ExecuteTime": {
     "end_time": "2023-11-08T10:47:27.502383Z",
     "start_time": "2023-11-08T10:47:27.455470400Z"
    }
   },
   "id": "38e83bb2e60e0041"
  },
  {
   "cell_type": "code",
   "execution_count": 16,
   "outputs": [
    {
     "name": "stdout",
     "output_type": "stream",
     "text": [
      "训练集精度:\n",
      "1.0\n",
      "\n",
      "测试集精度:\n",
      "0.8709677419354839\n",
      "\n",
      "分类识别报告:\n",
      "              precision    recall  f1-score   support\n",
      "\n",
      "           1       0.00      0.00      0.00         1\n",
      "           2       0.86      0.92      0.89        13\n",
      "           3       1.00      0.86      0.92         7\n",
      "           4       0.80      1.00      0.89         8\n",
      "           5       1.00      0.50      0.67         2\n",
      "\n",
      "    accuracy                           0.87        31\n",
      "   macro avg       0.73      0.66      0.67        31\n",
      "weighted avg       0.86      0.87      0.85        31\n"
     ]
    }
   ],
   "source": [
    "import numpy as np\n",
    "import pandas as pd\n",
    "from data_pre import data_normalize\n",
    "import warnings\n",
    "warnings.filterwarnings('ignore')\n",
    "d = pd.read_csv(r\"D:\\program\\pycharm\\model\\Data\\out.csv\")\n",
    "# X = df.iloc[:, 1:]\n",
    "# y = df.iloc[:, 0]\n",
    "data = data_normalize(d, 'WD')\n",
    "df = data.fillna_by_random_fix()\n",
    "X = df.iloc[:, 1:]\n",
    "y = df.iloc[:, 0]\n",
    "from sklearn.model_selection import train_test_split\n",
    "X_train, X_test, y_train, y_test = train_test_split(X, y, test_size=0.2, random_state=10)\n",
    "aver = X_train.mean(axis=0)\n",
    "std = X_train.std(axis=0)\n",
    "X_train = (X_train-aver)/std\n",
    "X_test = (X_test-aver)/std\n",
    "from sklearn.ensemble import GradientBoostingClassifier\n",
    "from sklearn import metrics\n",
    "def train_and_evaluate(clf, X_train, X_test, y_train, y_test):\n",
    "    clf.fit(X_train, y_train)             # 训练\n",
    "\n",
    "    print (\"训练集精度:\")   # 训练集精度\n",
    "    print (clf.score(X_train, y_train))\n",
    "\n",
    "    print (\"\\n测试集精度:\")    # 测试集精度\n",
    "    print (clf.score(X_test, y_test))\n",
    "\n",
    "    y_pred = clf.predict(X_test)\n",
    "\n",
    "    print (\"\\n分类识别报告:\")      # 分类识别报告\n",
    "    print (metrics.classification_report(y_test, y_pred))\n",
    "\n",
    "    # print (\"\\n混淆矩阵:\")\n",
    "    # print (metrics.confusion_matrix(y_test, y_pred))\n",
    "params = {'learning_rate': 0.3,\n",
    " 'max_depth': 3,\n",
    " 'max_features': 7,\n",
    " 'min_samples_split': 7,\n",
    " 'n_estimators': 140,\n",
    " 'subsample': 0.8762782548767177}\n",
    "clf = GradientBoostingClassifier(**params)\n",
    "train_and_evaluate(clf, X_train, X_test, y_train, y_test)"
   ],
   "metadata": {
    "collapsed": false,
    "ExecuteTime": {
     "end_time": "2023-11-09T22:30:00.868945900Z",
     "start_time": "2023-11-09T22:30:00.411075200Z"
    }
   },
   "id": "af638123d5cbf247"
  },
  {
   "cell_type": "code",
   "execution_count": 61,
   "outputs": [
    {
     "data": {
      "text/plain": "array([0.90322581, 0.76666667, 0.8       , 0.8       , 0.66666667])"
     },
     "execution_count": 61,
     "metadata": {},
     "output_type": "execute_result"
    }
   ],
   "source": [
    "from sklearn.model_selection import cross_val_score\n",
    "params = {\n",
    "    'n_estimators': 300, # 弱分类器的个数\n",
    "    'max_depth': 2,       # 弱分类器（CART回归树）的最大深度\n",
    "    'min_samples_split': 3, # 分裂内部节点所需的最小样本数\n",
    "    'learning_rate': 0.02,  # 学习率\n",
    "    'loss': 'deviance',\n",
    "    'subsample': 0.8,\n",
    "    'random_state': 1\n",
    "}\n",
    "clf = GradientBoostingClassifier(**params)\n",
    "scores = cross_val_score(clf, X, y, scoring='accuracy', cv=5)\n",
    "scores"
   ],
   "metadata": {
    "collapsed": false,
    "ExecuteTime": {
     "end_time": "2023-11-08T20:18:53.019290Z",
     "start_time": "2023-11-08T20:18:48.646765200Z"
    }
   },
   "id": "2fc347b181f52c0"
  },
  {
   "cell_type": "code",
   "execution_count": 1,
   "outputs": [
    {
     "data": {
      "text/plain": "2"
     },
     "execution_count": 1,
     "metadata": {},
     "output_type": "execute_result"
    }
   ],
   "source": [
    "[1, 2, 3][1]"
   ],
   "metadata": {
    "collapsed": false,
    "ExecuteTime": {
     "end_time": "2023-11-10T22:10:27.085950600Z",
     "start_time": "2023-11-10T22:10:27.070325500Z"
    }
   },
   "id": "d188de0dbc0b6ccf"
  },
  {
   "cell_type": "code",
   "execution_count": 59,
   "outputs": [
    {
     "data": {
      "text/plain": "0.793978494623656"
     },
     "execution_count": 59,
     "metadata": {},
     "output_type": "execute_result"
    }
   ],
   "source": [
    "scores.mean()"
   ],
   "metadata": {
    "collapsed": false,
    "ExecuteTime": {
     "end_time": "2023-11-08T20:18:30.213697600Z",
     "start_time": "2023-11-08T20:18:30.198066700Z"
    }
   },
   "id": "eb79a4181f18b229"
  },
  {
   "cell_type": "code",
   "execution_count": 63,
   "outputs": [],
   "source": [
    "import numpy as np\n",
    "import pandas as pd\n",
    "from data_pre import data_normalize\n",
    "import warnings\n",
    "warnings.filterwarnings('ignore')\n",
    "d = pd.read_csv(r\"D:\\program\\pycharm\\model\\Data\\out.csv\")\n",
    "X = df.iloc[:, 1:]\n",
    "y = df.iloc[:, 0]"
   ],
   "metadata": {
    "collapsed": false,
    "ExecuteTime": {
     "end_time": "2023-11-08T22:52:17.459635600Z",
     "start_time": "2023-11-08T22:52:17.444010400Z"
    }
   },
   "id": "31f32e5936e4e777"
  },
  {
   "cell_type": "code",
   "execution_count": 70,
   "outputs": [
    {
     "name": "stdout",
     "output_type": "stream",
     "text": [
      "0.8341935483870968\n",
      "{'learning_rate': 0.1, 'max_depth': 4, 'max_features': 1, 'n_estimators': 250}\n"
     ]
    }
   ],
   "source": [
    "from sklearn.model_selection import GridSearchCV\n",
    "params = {\n",
    "    'min_samples_split': 3, # 分裂内部节点所需的最小样本数\n",
    "    'loss': 'deviance',\n",
    "    'subsample': 0.8,\n",
    "    'random_state': 1\n",
    "}\n",
    "clf = GradientBoostingClassifier(**params)\n",
    "grid = GridSearchCV(\n",
    "    estimator=clf,\n",
    "    param_grid={\n",
    "        'n_estimators': [10, 20, 50, 100, 150, 200, 250, 300, 350, 400],\n",
    "        'max_features': [1, 2, 3],\n",
    "        'max_depth': [2, 3, 4],\n",
    "        'learning_rate': [0.001, 0.002, 0.005, 0.01, 0.02, 0.05, 0.1, 1]\n",
    "    },\n",
    "    cv=5, scoring='accuracy', verbose=0, n_jobs=-1)\n",
    "grid.fit(X, y)\n",
    "print(grid.best_score_)\n",
    "print(grid.best_params_)"
   ],
   "metadata": {
    "collapsed": false,
    "ExecuteTime": {
     "end_time": "2023-11-08T23:27:43.942175300Z",
     "start_time": "2023-11-08T23:21:19.952982900Z"
    }
   },
   "id": "68cd38f25acfab5f"
  },
  {
   "cell_type": "code",
   "execution_count": 66,
   "outputs": [
    {
     "ename": "NameError",
     "evalue": "name 'random_search' is not defined",
     "output_type": "error",
     "traceback": [
      "\u001B[1;31m---------------------------------------------------------------------------\u001B[0m",
      "\u001B[1;31mNameError\u001B[0m                                 Traceback (most recent call last)",
      "Cell \u001B[1;32mIn[66], line 15\u001B[0m\n\u001B[0;32m     13\u001B[0m random \u001B[38;5;241m=\u001B[39m RandomizedSearchCV(clf, param_distributions\u001B[38;5;241m=\u001B[39mparam_dist, n_iter\u001B[38;5;241m=\u001B[39m\u001B[38;5;241m20\u001B[39m, cv\u001B[38;5;241m=\u001B[39m\u001B[38;5;241m5\u001B[39m)\n\u001B[0;32m     14\u001B[0m random\u001B[38;5;241m.\u001B[39mfit(X, y)\n\u001B[1;32m---> 15\u001B[0m \u001B[38;5;28mprint\u001B[39m(\u001B[43mrandom_search\u001B[49m\u001B[38;5;241m.\u001B[39mbest_score_)\n\u001B[0;32m     16\u001B[0m \u001B[38;5;28mprint\u001B[39m(random_search\u001B[38;5;241m.\u001B[39mbest_params_)\n",
      "\u001B[1;31mNameError\u001B[0m: name 'random_search' is not defined"
     ]
    }
   ],
   "source": [
    "from sklearn.model_selection import RandomizedSearchCV\n",
    "param_dist = {'n_estimators': [10, 20, 50, 100, 150, 200, 250, 300, 350, 400],\n",
    "              'max_depth': [2, 3, 4],\n",
    "              'learning_rate': [0.001, 0.002, 0.005, 0.01, 0.02, 0.05, 0.1, 1],\n",
    "              'max_features': [1, 2, 3, 4, 5, 6, 7, 8, 9, 10]}\n",
    "params = {\n",
    "    'min_samples_split': 3, # 分裂内部节点所需的最小样本数\n",
    "    'loss': 'deviance',\n",
    "    'subsample': 0.8,\n",
    "    'random_state': 1\n",
    "}\n",
    "clf = GradientBoostingClassifier(**params)\n",
    "random = RandomizedSearchCV(clf, param_distributions=param_dist, n_iter=20, cv=5)\n",
    "random.fit(X, y)\n",
    "print(random_search.best_score_)\n",
    "print(random_search.best_params_)"
   ],
   "metadata": {
    "collapsed": false,
    "ExecuteTime": {
     "end_time": "2023-11-08T23:18:13.386019100Z",
     "start_time": "2023-11-08T23:17:12.708827800Z"
    }
   },
   "id": "ad532ec1c3b0e952"
  },
  {
   "cell_type": "code",
   "execution_count": 67,
   "outputs": [
    {
     "name": "stdout",
     "output_type": "stream",
     "text": [
      "0.8341935483870968\n",
      "{'n_estimators': 250, 'max_features': 1, 'max_depth': 4, 'learning_rate': 0.1}\n"
     ]
    }
   ],
   "source": [
    "print(random.best_score_)\n",
    "print(random.best_params_)"
   ],
   "metadata": {
    "collapsed": false,
    "ExecuteTime": {
     "end_time": "2023-11-08T23:19:43.493413500Z",
     "start_time": "2023-11-08T23:19:43.477784500Z"
    }
   },
   "id": "53e0fc5aeb871fd8"
  },
  {
   "cell_type": "code",
   "execution_count": 13,
   "outputs": [
    {
     "name": "stdout",
     "output_type": "stream",
     "text": [
      "100%|██████████| 20/20 [01:08<00:00,  3.42s/trial, best loss: 0.13311827956989242]\n"
     ]
    },
    {
     "data": {
      "text/plain": "{'learning_rate': 0.2913217213779239,\n 'max_depth': 1,\n 'max_features': 6,\n 'min_sampes_split': 6,\n 'n_estimators': 140.0,\n 'subsample': 0.8762782548767177}"
     },
     "execution_count": 13,
     "metadata": {},
     "output_type": "execute_result"
    }
   ],
   "source": [
    "from sklearn.ensemble import GradientBoostingClassifier\n",
    "from sklearn.model_selection import cross_val_score\n",
    "import numpy as np\n",
    "import hyperopt\n",
    "def hyperopt_object(params):\n",
    "    clf = GradientBoostingClassifier(\n",
    "        n_estimators=int(params['n_estimators']),\n",
    "        max_depth=int(params['max_depth']) + 2,\n",
    "        min_samples_split=int(params['min_samples_split']) + 1,\n",
    "        learning_rate=params['learning_rate'],\n",
    "        max_features=int(params['max_features']) + 1,\n",
    "        loss=params['loss'],\n",
    "        subsample=params['subsample'],\n",
    "        random_state=params['random_state']\n",
    "    )\n",
    "    scores = np.mean(cross_val_score(clf, X, y, scoring='accuracy', cv=5))\n",
    "    return 1 - scores\n",
    "params = {\n",
    "    'n_estimators': hyperopt.hp.quniform(\"n_estimators\", 100, 300, 10), # 弱分类器的个数\n",
    "    'max_depth': hyperopt.hp.randint('max_depth', 15),       # 弱分类器（CART回归树）的最大深度\n",
    "    'min_samples_split': hyperopt.hp.randint('min_sampes_split', 10), # 分裂内部节点所需的最小样本数\n",
    "    'learning_rate': hyperopt.hp.uniform('learning_rate', 1e-3, 5e-1),  # 学习率\n",
    "    'max_features': hyperopt.hp.randint('max_features', 10),\n",
    "    'loss': 'deviance',\n",
    "    'subsample': hyperopt.hp.uniform('subsample', 5e-1, 1),\n",
    "    'random_state': 1\n",
    "}\n",
    "trials = hyperopt.Trials()\n",
    "res = hyperopt.fmin(\n",
    "    hyperopt_object,\n",
    "    space=params,\n",
    "    algo=hyperopt.tpe.suggest,\n",
    "    max_evals=20,\n",
    "    trials=trials)\n",
    "res"
   ],
   "metadata": {
    "collapsed": false,
    "ExecuteTime": {
     "end_time": "2023-11-09T22:24:11.254582Z",
     "start_time": "2023-11-09T22:23:02.753423500Z"
    }
   },
   "id": "6220d66bffe195c3"
  },
  {
   "cell_type": "code",
   "execution_count": 15,
   "outputs": [
    {
     "data": {
      "text/plain": "{'learning_rate': 0.3,\n 'max_depth': 5,\n 'max_features': 7,\n 'min_sampes_split': 6,\n 'n_estimators': 140.0,\n 'subsample': 0.8762782548767177,\n 'min_samples_split': 7}"
     },
     "execution_count": 15,
     "metadata": {},
     "output_type": "execute_result"
    }
   ],
   "source": [
    "res['learning_rate'] = 0.3\n",
    "res['max_depth'] = res['max_depth'] + 2\n",
    "res['min_samples_split'] = res['min_sampes_split'] + 1\n",
    "res['max_features'] = res['max_features'] +1\n",
    "res"
   ],
   "metadata": {
    "collapsed": false,
    "ExecuteTime": {
     "end_time": "2023-11-09T22:28:26.088844700Z",
     "start_time": "2023-11-09T22:28:26.073231100Z"
    }
   },
   "id": "7402f2128d5a3160"
  },
  {
   "cell_type": "code",
   "execution_count": null,
   "outputs": [],
   "source": [
    "from sklearn.ensemble import GradientBoostingClassifier\n",
    "from sklearn.model_selection import cross_val_score\n",
    "import numpy as np\n",
    "from model.NGA import NGA\n",
    "def hyperopt_object(params):\n",
    "    clf = GradientBoostingClassifier(\n",
    "        n_estimators=int(params['n_estimators']),\n",
    "        max_depth=int(params['max_depth']) + 2,\n",
    "        min_samples_split=int(params['min_samples_split']) + 1,\n",
    "        learning_rate=params['learning_rate'],\n",
    "        max_features=int(params['max_features']) + 1,\n",
    "        loss=params['loss'],\n",
    "        subsample=params['subsample'],\n",
    "        random_state=params['random_state']\n",
    "    )\n",
    "    scores = np.mean(cross_val_score(clf, X, y, scoring='accuracy', cv=5))\n",
    "    return 1 - scores"
   ],
   "metadata": {
    "collapsed": false
   },
   "id": "9a7ee07584e7affc"
  },
  {
   "cell_type": "code",
   "execution_count": 26,
   "outputs": [
    {
     "data": {
      "text/plain": "2"
     },
     "execution_count": 26,
     "metadata": {},
     "output_type": "execute_result"
    }
   ],
   "source": [
    "import datetime\n",
    "import time\n",
    "d1 = datetime.datetime.now()\n",
    "time.sleep(2)\n",
    "d2 = datetime.datetime.now()\n",
    "(d2 - d1).seconds"
   ],
   "metadata": {
    "collapsed": false,
    "ExecuteTime": {
     "end_time": "2023-11-09T23:44:34.664343800Z",
     "start_time": "2023-11-09T23:44:32.639816600Z"
    }
   },
   "id": "f2ee0630f36f4057"
  },
  {
   "cell_type": "code",
   "execution_count": null,
   "outputs": [],
   "source": [],
   "metadata": {
    "collapsed": false
   },
   "id": "ccea5cff3813fe20"
  }
 ],
 "metadata": {
  "kernelspec": {
   "display_name": "Python 3",
   "language": "python",
   "name": "python3"
  },
  "language_info": {
   "codemirror_mode": {
    "name": "ipython",
    "version": 2
   },
   "file_extension": ".py",
   "mimetype": "text/x-python",
   "name": "python",
   "nbconvert_exporter": "python",
   "pygments_lexer": "ipython2",
   "version": "2.7.6"
  }
 },
 "nbformat": 4,
 "nbformat_minor": 5
}
